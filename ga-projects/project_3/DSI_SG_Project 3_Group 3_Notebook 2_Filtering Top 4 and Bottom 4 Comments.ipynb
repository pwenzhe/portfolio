{
 "cells": [
  {
   "cell_type": "markdown",
   "metadata": {},
   "source": [
    "# ![](https://ga-dash.s3.amazonaws.com/production/assets/logo-9f88ae6c9c3871690e33280fcf557f33.png) Project 3: Web APIs & NLP"
   ]
  },
  {
   "cell_type": "markdown",
   "metadata": {},
   "source": [
    "\n",
    "--- \n",
    "\n",
    "*Group 3* | *Team Members: Constance, Wenzhe, Matthew, Joel*\n",
    "\n",
    "### <b> Notebook 2: Filtering Top 4 and Bottom 4 Comments (By Comment Score) Across All Threads </b>\n",
    "\n",
    "<b>(a) Overview of \"Full\" Datasets Available Following Scraping & Cleaning (As Documented under Notebook 1) </b>\n",
    "\n",
    "The scraping and cleaning of 1,000 \"hottest threads\" and their accompanying comments across the \"r/tea\" and \"r/coffee\" subreddits leaves us with the following two datasets: \n",
    "\n",
    "|Dataset|\"r/coffee\" comments and accompanying thread info|\n",
    "|---|---|\n",
    "|Filename|coffee_comments_clean_merged.csv|\n",
    "|No. of comments|31,227|\n",
    "|No. of threads|633|\n",
    "|Average no. of comments per thread|49.33|\n",
    "\n",
    "<br>\n",
    "\n",
    "|Dataset|\"r/tea\" comments and accompanying thread info|\n",
    "|---|---|\n",
    "|Filename|tea_comments_clean_merged.csv|\n",
    "|No. of comments|12,201|\n",
    "|No. of threads|878|\n",
    "|Average no. of comments per thread|13.9|\n",
    "\n",
    "<br>\n",
    "\n",
    "<b>(b) Potential Drawbacks of Running Analyses on \"Full\" Datasets </b>\n",
    "\n",
    "As the statistics above indicate, running analyses on the full range of comments to:<br>\n",
    "(a) understand the general sentiments of coffee/tea drinkers, and <br>\n",
    "(b) build a tea/coffee drinker classification model can be:\n",
    "\n",
    "* computationally expensive, while\n",
    "* leaving us with comments that both communities may not identify strongly with (given variation in the comments' number of up/down votes), thus hindering our analyses \n",
    "\n",
    "<br>\n",
    "<b>(c) Filtering a Subset of Comments - Top 4 and Bottom 4 Comments (By Comment Score) Across All Threads</b>\n",
    "\n",
    "Background: Comment Scores\n",
    "* Each thread is given a comment score by the subreddit community\n",
    "* The higher the comment score: the more users in the respective subreddit identifies with it\n",
    "* The lower the comment score: the less users identify with that comment\n",
    "\n",
    "Intuition for retaining top 4 and bottom 4 comments across all threads:\n",
    "* A thread's top and bottom comments (based on number of up/down votes) reflect the strongest sentiments (e.g., approval/disapproval) by coffee/tea drinkers. \n",
    "* Filtering of these comments allows us to capture a range of (positive/negative) sentiments that the respective communities identify with most strongly, hence: \n",
    "    * aiding with sentiment analysis\n",
    "    * aiding with classification of coffee and tea drinkers \n",
    "* Filtering across all threads also allows us to:\n",
    "    * cover all discussion topics available in the data\n",
    "* With a filtered dataset:\n",
    "    * computational load of running analyses can be reduced\n",
    "\n",
    "<br>\n",
    "<b>(d) Structure of Notebook 2</b>\n",
    "\n",
    "* Part 1: EDA to Illustrate Decision Making Approach towards Establishing Filtering Criteria\n",
    "* Part 2: Filtering Code Implementation\n",
    "* Part 3. Save Cleaned-Filtered Dataframes as CSV Files "
   ]
  },
  {
   "cell_type": "markdown",
   "metadata": {},
   "source": [
    "\n",
    "---\n",
    "\n",
    "### Import Libraries & Read Cleaned Data"
   ]
  },
  {
   "cell_type": "code",
   "execution_count": 1,
   "metadata": {},
   "outputs": [],
   "source": [
    "# Imports\n",
    "import numpy as np\n",
    "import pandas as pd\n",
    "import matplotlib.pyplot as plt\n",
    "import seaborn as sns"
   ]
  },
  {
   "cell_type": "code",
   "execution_count": 2,
   "metadata": {},
   "outputs": [],
   "source": [
    "# Read cleaned coffee and tea datasets\n",
    "df_coffee = pd.read_csv(\"data/coffee_comments_clean_merged.csv\")\n",
    "df_tea    = pd.read_csv(\"data/tea_comments_clean_merged.csv\")"
   ]
  },
  {
   "cell_type": "markdown",
   "metadata": {},
   "source": [
    "---\n",
    "\n",
    "### Part 1: EDA to Illustrate Decision Making Approach towards Establishing Filtering Criteria"
   ]
  },
  {
   "cell_type": "markdown",
   "metadata": {},
   "source": [
    "<b> (a) Examine Proportion of Comments from Coffee & Tea Subreddits </b>"
   ]
  },
  {
   "cell_type": "code",
   "execution_count": 3,
   "metadata": {},
   "outputs": [
    {
     "data": {
      "text/plain": [
       "<function matplotlib.pyplot.show(close=None, block=None)>"
      ]
     },
     "execution_count": 3,
     "metadata": {},
     "output_type": "execute_result"
    },
    {
     "data": {
      "image/png": "[encoded data removed]",
      "text/plain": [
       "<Figure size 640x480 with 1 Axes>"
      ]
     },
     "metadata": {},
     "output_type": "display_data"
    }
   ],
   "source": [
    "# plot out the proportion of comments from both subreddit\n",
    "data = [df_tea.shape[0], df_coffee.shape[0]]\n",
    "key = [\"Tea\", \"Coffee\"]\n",
    "\n",
    "plt.pie(data, labels = key, autopct='%.0f%%')\n",
    "plt.title(\"'Full Data': Proportion of Coffee and Tea Comments\")\n",
    "plt.tight_layout()\n",
    "plt.show"
   ]
  },
  {
   "cell_type": "markdown",
   "metadata": {},
   "source": [
    "Summary of Observations\n",
    "* Currently we have ~12,000 comments from \"r/tea\" and ~31,000 comments from \"r/Coffee\" (from our info tables) and the proportion is shown in the piechart above\n",
    "* As the number of comments from both subreddits is unbalanced, we will have to balance them out for building a \"coffee/tea\" drinker classification model\n",
    "\n",
    "Approach: Next Steps\n",
    "* After discussion, we felt that we do have quite a large amount of data from each subreddit and if we were to use all of it, computationally it would be quite extensive\n",
    "* Hence, we could afford to reduce the data to a more manageable sample size\n",
    "* Before we decide on what is the appropriate size, we decide to take a look at the number of threads we have and the average comments per thread"
   ]
  },
  {
   "cell_type": "markdown",
   "metadata": {},
   "source": [
    "<b> (b) Examine No. of Threads and Average Comments per Thread in Each Dataset </b> "
   ]
  },
  {
   "cell_type": "code",
   "execution_count": 4,
   "metadata": {},
   "outputs": [
    {
     "name": "stdout",
     "output_type": "stream",
     "text": [
      "Dataset: coffee\n",
      "No. of comments: 31227\n",
      "No. of threads: 633\n",
      "Average no. of comments per thread: 49.33\n",
      "\n",
      "Dataset: tea\n",
      "No. of comments: 12201\n",
      "No. of threads: 878\n",
      "Average no. of comments per thread: 13.9\n",
      "\n"
     ]
    }
   ],
   "source": [
    "# obtain thread/comments stats\n",
    "\n",
    "df_dict = {\"Dataset: coffee\":df_coffee,\n",
    "           \"Dataset: tea\":df_tea}\n",
    "\n",
    "for desc, df in df_dict.items():\n",
    "\n",
    "    print(desc)\n",
    "    \n",
    "    # 1. No. of comments\n",
    "    print(\"No. of comments:\", round(df.shape[0],2))\n",
    "\n",
    "    # 2. No. of threads\n",
    "    print(\"No. of threads:\", df[\"thread_id\"].nunique())\n",
    "\n",
    "    # 3. Ave. no. of comments per thread\n",
    "    print(\"Average no. of comments per thread:\", round(df.groupby(by=\"thread_id\")[\"comment_id\"].count().mean(),2))\n",
    "    print(\"\")"
   ]
  },
  {
   "cell_type": "markdown",
   "metadata": {},
   "source": [
    "Summary of Observations\n",
    "* Average no. of comments per thread is significantly lower in the tea dataset (~14/thread), compared that in the coffee dataset (~49/thread)\n",
    "\n",
    "Approach: Next Steps\n",
    "* Given the above, number of comments per thread to filter will need to be <14 - to minimise instances of all comments belong to a thread being filtered\n",
    "* We thus decided to filter the \"top 4 and bottom 4 comments by comment score\" across all threads, with the view towards having a sizeable number of comments to analyse post-filtering"
   ]
  },
  {
   "cell_type": "markdown",
   "metadata": {},
   "source": [
    "---\n",
    "\n",
    "### Part 2: Filtering Code Implementation"
   ]
  },
  {
   "cell_type": "markdown",
   "metadata": {},
   "source": [
    "<b> (a) Define a Filtering Function </b>"
   ]
  },
  {
   "cell_type": "code",
   "execution_count": 5,
   "metadata": {},
   "outputs": [],
   "source": [
    "def filter_top_bottom_comments_n4(df):\n",
    "\n",
    "    # [Part 1] Main dataframe: Reset Index & Add \"Index\" Column\n",
    "    df = df.reset_index(drop = True)\n",
    "    df.reset_index(inplace = True)\n",
    "\n",
    "\n",
    "    # [Part 2] Create New Dataframes\n",
    "\n",
    "    # (a) dataframe of identifiers associated with top 4 comments by thread: \"thread_id\", \"comment_score\", and main dataframe \"index\" reference\n",
    "    df_by_thread_comment_score_top_n4 = pd.DataFrame(data=df.groupby(by = \"thread_id\")[\"comment_score\"].nlargest(4), columns = [\"comment_score\"]).reset_index()\n",
    "    df_by_thread_comment_score_top_n4.rename(columns = {\"comment_score\":\"comment_score_top_4\", \"level_1\":\"index\"}, inplace=True)\n",
    "\n",
    "    # (b) dataframe of identifiers associated with bottom 4 comments by thread: \"thread_id\", \"comment_score\", and main dataframe \"index\" reference \n",
    "    df_by_thread_comment_score_bottom_n4 = pd.DataFrame(data = df.groupby(by = \"thread_id\")[\"comment_score\"].nsmallest(4), columns = [\"comment_score\"]).reset_index()\n",
    "    df_by_thread_comment_score_bottom_n4.rename(columns = {\"comment_score\":\"comment_score_bottom_4\", \"level_1\":\"index\"}, inplace=True)\n",
    "    \n",
    "\n",
    "    # [Part 3] Attach top and bottom 4 comments by thread identifiers to the main dataframe\n",
    "\n",
    "    # (a) merge \"top and bottom 4 comments by thread identifiers\" to the main dataframe\n",
    "    df = pd.merge(left = df, right = df_by_thread_comment_score_top_n4, on = [\"thread_id\",\"index\"], how = \"left\")\n",
    "    df = pd.merge(left = df, right = df_by_thread_comment_score_bottom_n4, on = [\"thread_id\",\"index\"], how = \"left\")\n",
    "\n",
    "    # (b) add dummy identifier: top or bottom 4 comment \n",
    "    df[\"comment_score_top_or_bottom_4\"] = ((df[\"comment_score_top_4\"] == df[\"comment_score_top_4\"]) | \n",
    "                                            (df[\"comment_score_bottom_4\"]==df[\"comment_score_bottom_4\"])).astype(int)\n",
    "\n",
    "\n",
    "    # [Part 4] Filter and retain top and bottom 4 comments by thread in main dataframe\n",
    "\n",
    "    # (a) retain: top and bottom 4 comments across all threads\n",
    "    df = df.loc[(df[\"comment_score_top_or_bottom_4\"] == 1),:]\n",
    "\n",
    "    # (b) drop redundant columns, reset dataframe's index\n",
    "    df.drop(columns=[\"index\",\"comment_score_top_4\", \"comment_score_bottom_4\"], inplace=True)\n",
    "    df.reset_index(drop=True)\n",
    "\n",
    "    return df"
   ]
  },
  {
   "cell_type": "markdown",
   "metadata": {},
   "source": [
    "<b> (b) Apply Filter on Cleaned Coffee & Tea Datasets </b>"
   ]
  },
  {
   "cell_type": "code",
   "execution_count": 6,
   "metadata": {},
   "outputs": [],
   "source": [
    "# apply filter\n",
    "df_coffee_filtered = filter_top_bottom_comments_n4(df_coffee)\n",
    "df_tea_filtered    = filter_top_bottom_comments_n4(df_tea)"
   ]
  },
  {
   "cell_type": "code",
   "execution_count": 7,
   "metadata": {},
   "outputs": [
    {
     "data": {
      "text/html": [
       "<div>\n",
       "<style scoped>\n",
       "    .dataframe tbody tr th:only-of-type {\n",
       "        vertical-align: middle;\n",
       "    }\n",
       "\n",
       "    .dataframe tbody tr th {\n",
       "        vertical-align: top;\n",
       "    }\n",
       "\n",
       "    .dataframe thead th {\n",
       "        text-align: right;\n",
       "    }\n",
       "</style>\n",
       "<table border=\"1\" class=\"dataframe\">\n",
       "  <thead>\n",
       "    <tr style=\"text-align: right;\">\n",
       "      <th></th>\n",
       "      <th>thread_id</th>\n",
       "      <th>comment_id</th>\n",
       "      <th>comment_text</th>\n",
       "      <th>comment_score</th>\n",
       "      <th>author_name</th>\n",
       "      <th>id</th>\n",
       "      <th>title</th>\n",
       "      <th>score</th>\n",
       "      <th>num_comments</th>\n",
       "      <th>post_hint</th>\n",
       "      <th>self_text</th>\n",
       "      <th>author_name_thread</th>\n",
       "      <th>url</th>\n",
       "      <th>url_is_media</th>\n",
       "      <th>comment_score_top_or_bottom_4</th>\n",
       "    </tr>\n",
       "  </thead>\n",
       "  <tbody>\n",
       "    <tr>\n",
       "      <th>0</th>\n",
       "      <td>19agk2c</td>\n",
       "      <td>kikp8lv</td>\n",
       "      <td>Hi! I’m a morning coffee drinker but I never m...</td>\n",
       "      <td>2</td>\n",
       "      <td>testingpage2025</td>\n",
       "      <td>19agk2c</td>\n",
       "      <td>[MOD] The Daily Question Thread</td>\n",
       "      <td>2</td>\n",
       "      <td>58</td>\n",
       "      <td>NaN</td>\n",
       "      <td>\\n\\nWelcome to the daily [/r/Coffee](https://...</td>\n",
       "      <td>menschmaschine5</td>\n",
       "      <td>https://www.reddit.com/r/Coffee/comments/19agk...</td>\n",
       "      <td>0</td>\n",
       "      <td>1</td>\n",
       "    </tr>\n",
       "  </tbody>\n",
       "</table>\n",
       "</div>"
      ],
      "text/plain": [
       "  thread_id comment_id                                       comment_text  \\\n",
       "0   19agk2c    kikp8lv  Hi! I’m a morning coffee drinker but I never m...   \n",
       "\n",
       "   comment_score      author_name       id                            title  \\\n",
       "0              2  testingpage2025  19agk2c  [MOD] The Daily Question Thread   \n",
       "\n",
       "   score  num_comments post_hint  \\\n",
       "0      2            58       NaN   \n",
       "\n",
       "                                           self_text author_name_thread  \\\n",
       "0   \\n\\nWelcome to the daily [/r/Coffee](https://...    menschmaschine5   \n",
       "\n",
       "                                                 url  url_is_media  \\\n",
       "0  https://www.reddit.com/r/Coffee/comments/19agk...             0   \n",
       "\n",
       "   comment_score_top_or_bottom_4  \n",
       "0                              1  "
      ]
     },
     "execution_count": 7,
     "metadata": {},
     "output_type": "execute_result"
    }
   ],
   "source": [
    "# preview: filtered datasets - coffee\n",
    "df_coffee_filtered.head(1)"
   ]
  },
  {
   "cell_type": "code",
   "execution_count": 8,
   "metadata": {},
   "outputs": [
    {
     "data": {
      "text/html": [
       "<div>\n",
       "<style scoped>\n",
       "    .dataframe tbody tr th:only-of-type {\n",
       "        vertical-align: middle;\n",
       "    }\n",
       "\n",
       "    .dataframe tbody tr th {\n",
       "        vertical-align: top;\n",
       "    }\n",
       "\n",
       "    .dataframe thead th {\n",
       "        text-align: right;\n",
       "    }\n",
       "</style>\n",
       "<table border=\"1\" class=\"dataframe\">\n",
       "  <thead>\n",
       "    <tr style=\"text-align: right;\">\n",
       "      <th></th>\n",
       "      <th>thread_id</th>\n",
       "      <th>comment_id</th>\n",
       "      <th>comment_text</th>\n",
       "      <th>comment_score</th>\n",
       "      <th>author_name</th>\n",
       "      <th>id</th>\n",
       "      <th>title</th>\n",
       "      <th>score</th>\n",
       "      <th>num_comments</th>\n",
       "      <th>post_hint</th>\n",
       "      <th>self_text</th>\n",
       "      <th>author_name_thread</th>\n",
       "      <th>url</th>\n",
       "      <th>url_is_media</th>\n",
       "      <th>comment_score_top_or_bottom_4</th>\n",
       "    </tr>\n",
       "  </thead>\n",
       "  <tbody>\n",
       "    <tr>\n",
       "      <th>0</th>\n",
       "      <td>199pmki</td>\n",
       "      <td>kifj4sk</td>\n",
       "      <td>After a rough few days here in Oregon, the mor...</td>\n",
       "      <td>8</td>\n",
       "      <td>oldhippy1947</td>\n",
       "      <td>199pmki</td>\n",
       "      <td>What's in your cup? Daily discussion, question...</td>\n",
       "      <td>5</td>\n",
       "      <td>18</td>\n",
       "      <td>NaN</td>\n",
       "      <td>What are you drinking today? What questions ha...</td>\n",
       "      <td>AutoModerator</td>\n",
       "      <td>https://www.reddit.com/r/tea/comments/199pmki/...</td>\n",
       "      <td>0</td>\n",
       "      <td>1</td>\n",
       "    </tr>\n",
       "  </tbody>\n",
       "</table>\n",
       "</div>"
      ],
      "text/plain": [
       "  thread_id comment_id                                       comment_text  \\\n",
       "0   199pmki    kifj4sk  After a rough few days here in Oregon, the mor...   \n",
       "\n",
       "   comment_score   author_name       id  \\\n",
       "0              8  oldhippy1947  199pmki   \n",
       "\n",
       "                                               title  score  num_comments  \\\n",
       "0  What's in your cup? Daily discussion, question...      5            18   \n",
       "\n",
       "  post_hint                                          self_text  \\\n",
       "0       NaN  What are you drinking today? What questions ha...   \n",
       "\n",
       "  author_name_thread                                                url  \\\n",
       "0      AutoModerator  https://www.reddit.com/r/tea/comments/199pmki/...   \n",
       "\n",
       "   url_is_media  comment_score_top_or_bottom_4  \n",
       "0             0                              1  "
      ]
     },
     "execution_count": 8,
     "metadata": {},
     "output_type": "execute_result"
    }
   ],
   "source": [
    "# preview: filtered datasets - tea\n",
    "df_tea_filtered.head(1)"
   ]
  },
  {
   "cell_type": "markdown",
   "metadata": {},
   "source": [
    "<b> (c) Examine Dataset Statistics (Post-Filtering): Proportion of Tea/Coffee Comments</b>"
   ]
  },
  {
   "cell_type": "code",
   "execution_count": 9,
   "metadata": {},
   "outputs": [
    {
     "name": "stdout",
     "output_type": "stream",
     "text": [
      "Filtered Dataset (Coffee) - No. of Comments: 4700\n",
      "Filtered Dataset (Tea) - No. of Comments: 4770\n"
     ]
    }
   ],
   "source": [
    "# Examine: no. of comments in each dataset \n",
    "print(\"Filtered Dataset (Coffee) - No. of Comments:\", df_coffee_filtered.shape[0])\n",
    "print(\"Filtered Dataset (Tea) - No. of Comments:\", df_tea_filtered.shape[0])"
   ]
  },
  {
   "cell_type": "code",
   "execution_count": 10,
   "metadata": {},
   "outputs": [
    {
     "data": {
      "text/plain": [
       "<function matplotlib.pyplot.show(close=None, block=None)>"
      ]
     },
     "execution_count": 10,
     "metadata": {},
     "output_type": "execute_result"
    },
    {
     "data": {
      "image/png": "[encoded data removed]",
      "text/plain": [
       "<Figure size 640x480 with 1 Axes>"
      ]
     },
     "metadata": {},
     "output_type": "display_data"
    }
   ],
   "source": [
    "# plot out the proportion of comments from both filtered datasets\n",
    "data = [df_tea_filtered.shape[0], df_coffee_filtered.shape[0]]\n",
    "key = [\"Tea\", \"Coffee\"]\n",
    "\n",
    "plt.pie(data, labels = key, autopct='%.0f%%')\n",
    "plt.title(\"Proportion of Coffee and Tea Comments (Post-Filtering)\")\n",
    "plt.show"
   ]
  },
  {
   "cell_type": "markdown",
   "metadata": {},
   "source": [
    "Summary of Observations: \n",
    "* Post-filtering, we have a balanced number of comments from the \"tea\" and \"coffee\" subreddits:\n",
    "    * No. of comments (df_coffee_filtered): 4,700\n",
    "    * No. of comments (df_tea_filtered): 4,770\n",
    "\n",
    "Approach: Next Steps\n",
    "* No additional filtering is needed as sample sizes naturally balance out\n",
    "\n",
    "* *Additional Comment*: It turns out that after specifying retention of the top 4 and bottom 4 comments per thread, we have naturally balanced comment counts - without having to utilise a balancing procedure involving random selection of a subset of comments from the larger comment group to match the size of the smaller one (as was considered). This natural balance occurs because:\n",
    "    * There are threads with less than 8 comments - with these threads being retained \"as-is\" \n",
    "    * (i.e., no elimination of comments within such threads, to ensure the filtered comments are from the entire range of threads in our data)"
   ]
  },
  {
   "cell_type": "markdown",
   "metadata": {},
   "source": [
    "\n",
    "---\n",
    "\n",
    "### Part 3. Save Cleaned-Filtered Dataframes as CSV Files "
   ]
  },
  {
   "cell_type": "code",
   "execution_count": 11,
   "metadata": {},
   "outputs": [],
   "source": [
    "df_coffee_filtered.to_csv(\"data/coffee_comments_clean_merged_filtered.csv\", index=False)\n",
    "df_tea_filtered.to_csv(\"data/tea_comments_clean_merged_filtered.csv\", index=False)"
   ]
  }
 ],
 "metadata": {
  "kernelspec": {
   "display_name": "Python 3",
   "language": "python",
   "name": "python3"
  },
  "language_info": {
   "codemirror_mode": {
    "name": "ipython",
    "version": 3
   },
   "file_extension": ".py",
   "mimetype": "text/x-python",
   "name": "python",
   "nbconvert_exporter": "python",
   "pygments_lexer": "ipython3",
   "version": "3.11.5"
  }
 },
 "nbformat": 4,
 "nbformat_minor": 2
}
