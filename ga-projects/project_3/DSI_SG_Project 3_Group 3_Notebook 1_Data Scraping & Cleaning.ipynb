{
 "cells": [
  {
   "cell_type": "markdown",
   "metadata": {},
   "source": [
    "# ![](https://ga-dash.s3.amazonaws.com/production/assets/logo-9f88ae6c9c3871690e33280fcf557f33.png) Project 3: Web APIs & NLP"
   ]
  },
  {
   "cell_type": "markdown",
   "metadata": {},
   "source": [
    "\n",
    "--- \n",
    "\n",
    "*Group 3* | *Team Members: Constance, Wenzhe, Matthew, Joel*\n",
    "\n",
    "### <b> Notebook 1: Data Scraping & Cleaning </b>\n",
    "\n",
    "<b> (a) Overview </b>\n",
    "\n",
    "Codes in this notebook\n",
    "* Scrape 1,000 \"hottest\" threads & accompanying comments from (a) r/coffee and (b) r/tea subreddits\n",
    "* Clean scraped data and save them as separate \"coffee\" and \"tea\" datasets\n",
    "\n",
    "<b> (b) Structure of Notebook 1 </b>\n",
    "\n",
    "* Part 1: Data Collection - Scrapping Subreddit Data\n",
    "* Part 2. EDA : To Uncover Potential Data Issues Requiring Cleaning\n",
    "* Part 3. Data Cleaning : Removing Dataframe Rows that are Not Useful/Errorneous\n",
    "* Part 4. Merge Comments & Threads Dataframes\n",
    "* Part 5. Save Cleaned Merged Dataframes as CSV Files "
   ]
  },
  {
   "cell_type": "markdown",
   "metadata": {},
   "source": [
    "\n",
    "---\n",
    "\n",
    "### Import Libraries"
   ]
  },
  {
   "cell_type": "code",
   "execution_count": 1,
   "metadata": {},
   "outputs": [],
   "source": [
    "# 1. Installation\n",
    "#!pip install praw\n",
    "\n",
    "# 2. Imports\n",
    "import praw\n",
    "import pandas as pd\n",
    "import re"
   ]
  },
  {
   "cell_type": "markdown",
   "metadata": {},
   "source": [
    "---\n",
    "\n",
    "### Part 1: Data Collection - Scrapping Subreddit Data"
   ]
  },
  {
   "cell_type": "markdown",
   "metadata": {},
   "source": [
    "Objective\n",
    "\n",
    "* Scrape 1,000 \"hottest\" threads & accompanying comments from (a) r/coffee and (b) r/tea subreddits\n",
    "* Based on a review of subreddits online, we expect multiple comments per thread - hence, the number of each subreddit's accompanying comments >1,000\n",
    "\n",
    "Note on Codes Presented in this Notebook Section\n",
    "\n",
    "* A long duration is required for the data to be scrapped in full \n",
    "* As such, the codes below illustrate scrapping of a subset of data, namely: 100 threads and accompanying comments from \"r/coffee\", to provide proof of their workability\n",
    "\n",
    "This code section produces 4 files: \n",
    "\n",
    "|No.|Description|Filename|\n",
    "|---|---|---|\n",
    "|1|r/coffee: threads|raw_orig_coffee_threads.csv|\n",
    "|2|r/coffee: accompanying comments|raw_orig_coffee_comments.csv|\n",
    "|3|r/tea: threads|raw_orig_tea_threads.csv|\n",
    "|4|r/tea: accompanying comments|raw_orig_tea_comments.csv|"
   ]
  },
  {
   "cell_type": "markdown",
   "metadata": {},
   "source": [
    "(a) Scrape Data\n",
    "\n",
    "* To replicate our scraping procedure:\n",
    "    * toggle between \"coffee\" and \"tea\" in code line: `subreddit = reddit.subreddit(\"coffee\")`\n",
    "    * change limit from 100 to 1,000 in code line: `for submission in subreddit.hot(limit = 100)` "
   ]
  },
  {
   "cell_type": "code",
   "execution_count": 5,
   "metadata": {},
   "outputs": [],
   "source": [
    "# authenticate with Reddit API\n",
    "reddit = praw.Reddit(\n",
    "    client_id = \"\", # ID and Key has been removed from the notebook, run using the csv files below instead, and skip sections (a) and (b)\n",
    "    client_secret = \"\",\n",
    "    user_agent = \"kopicoffee\",\n",
    "    ratelimit_seconds = 30)\n",
    "\n",
    "# create 2 separate lists to store threads and comments after we scrape them from the subreddit\n",
    "threads = []\n",
    "comments = []\n",
    "\n",
    "# subreddit to scrape\n",
    "# r/tea = \"tea\"\n",
    "# r/Coffee = \"coffee\"\n",
    "subreddit = reddit.subreddit(\"coffee\")\n",
    "\n",
    "# iterate through hottest threads in subreddit\n",
    "# scrape 100 threads (for illustrative purposes: to reset to 1,000) \n",
    "for submission in subreddit.hot(limit = 100):\n",
    "    try:\n",
    "        tr_author_nm = submission.author.name\n",
    "    except:\n",
    "        #do nothing\n",
    "        tr_author_nm = \"\"\n",
    "    if hasattr(submission, \"post_hint\"):\n",
    "        hint = submission.post_hint\n",
    "    else:\n",
    "        hint = \"\"\n",
    "\n",
    "\n",
    "    # store thread data\n",
    "    thread = {\n",
    "        \"id\": submission.id,\n",
    "        \"title\": submission.title, \n",
    "        \"score\": submission.score,\n",
    "        \"num_comments\": submission.num_comments,\n",
    "        \"post_hint\": hint,\n",
    "        \"self_text\": submission.selftext,\n",
    "        \"author_name\": tr_author_nm,\n",
    "        \"url\": submission.url # can use this to check for i.reddit / v.reddit / gallery\n",
    "    }  \n",
    "    threads.append(thread)\n",
    "    \n",
    "\n",
    "    # store all comment data under thread\n",
    "    submission.comments.replace_more(limit=0)\n",
    "    for comment in submission.comments.list():\n",
    "        # required as there are some comments without author name\n",
    "        author_nm = \"\"\n",
    "        try:\n",
    "            author_nm = comment.author.name\n",
    "        except:\n",
    "            #do nothing\n",
    "            author_nm = \"\"\n",
    "        # store thread data\n",
    "        comment_data = {\n",
    "            \"thread_id\": submission.id, \n",
    "            \"comment_id\": comment.id,\n",
    "            \"comment_text\": comment.body,\n",
    "            \"comment_score\" : comment.score,\n",
    "            \"author_name\": author_nm\n",
    "        }\n",
    "        comments.append(comment_data)"
   ]
  },
  {
   "cell_type": "markdown",
   "metadata": {},
   "source": [
    "(b) Convert Lists to Pandas Dataframes, and Export Dataframes as CSV files\n",
    "\n",
    "* To replicate our conversion procedure, toggle between:\n",
    "    * tea_threads, tea_comments\n",
    "    * coffee_threads, coffee_comments"
   ]
  },
  {
   "cell_type": "code",
   "execution_count": 6,
   "metadata": {},
   "outputs": [],
   "source": [
    "# convert the lists in pandas dataframes\n",
    "coffee_threads_df = pd.DataFrame(threads)\n",
    "coffee_comments_df = pd.DataFrame(comments)\n",
    "\n",
    "# # save a copy of raw data for comments and threads\n",
    "coffee_threads_df.to_csv(\"data/raw_orig_coffee_threads_test.csv\", index=False)\n",
    "coffee_comments_df.to_csv(\"data/raw_orig_coffee_comments_test.csv\", index=False)"
   ]
  },
  {
   "cell_type": "markdown",
   "metadata": {},
   "source": [
    "(c) Check Info of the Raw Dataframes"
   ]
  },
  {
   "cell_type": "code",
   "execution_count": 2,
   "metadata": {},
   "outputs": [],
   "source": [
    "# Read in fully scrapped files\n",
    "coffee_threads_df  = pd.read_csv(\"data/raw_orig_coffee_threads.csv\")\n",
    "coffee_comments_df = pd.read_csv(\"data/raw_orig_coffee_comments.csv\")\n",
    "\n",
    "tea_threads_df  = pd.read_csv(\"data/raw_orig_tea_threads.csv\")\n",
    "tea_comments_df = pd.read_csv(\"data/raw_orig_tea_comments.csv\")"
   ]
  },
  {
   "cell_type": "code",
   "execution_count": 3,
   "metadata": {},
   "outputs": [
    {
     "name": "stdout",
     "output_type": "stream",
     "text": [
      "<class 'pandas.core.frame.DataFrame'>\n",
      "RangeIndex: 674 entries, 0 to 673\n",
      "Data columns (total 8 columns):\n",
      " #   Column        Non-Null Count  Dtype \n",
      "---  ------        --------------  ----- \n",
      " 0   id            674 non-null    object\n",
      " 1   title         674 non-null    object\n",
      " 2   score         674 non-null    int64 \n",
      " 3   num_comments  674 non-null    int64 \n",
      " 4   post_hint     41 non-null     object\n",
      " 5   self_text     664 non-null    object\n",
      " 6   author_name   672 non-null    object\n",
      " 7   url           674 non-null    object\n",
      "dtypes: int64(2), object(6)\n",
      "memory usage: 42.3+ KB\n"
     ]
    }
   ],
   "source": [
    "# Check info of the raw dataframe \n",
    "# > Illustratively: Coffee Threads\n",
    "coffee_threads_df.info()"
   ]
  },
  {
   "cell_type": "code",
   "execution_count": 4,
   "metadata": {},
   "outputs": [
    {
     "name": "stdout",
     "output_type": "stream",
     "text": [
      "<class 'pandas.core.frame.DataFrame'>\n",
      "RangeIndex: 32172 entries, 0 to 32171\n",
      "Data columns (total 5 columns):\n",
      " #   Column         Non-Null Count  Dtype \n",
      "---  ------         --------------  ----- \n",
      " 0   thread_id      32172 non-null  object\n",
      " 1   comment_id     32172 non-null  object\n",
      " 2   comment_text   32172 non-null  object\n",
      " 3   comment_score  32172 non-null  int64 \n",
      " 4   author_name    31011 non-null  object\n",
      "dtypes: int64(1), object(4)\n",
      "memory usage: 1.2+ MB\n"
     ]
    }
   ],
   "source": [
    "# Check info of the raw dataframe \n",
    "# > Illustratively: Coffee Comments\n",
    "coffee_comments_df.info()"
   ]
  },
  {
   "cell_type": "markdown",
   "metadata": {},
   "source": [
    "\n",
    "---\n",
    "\n",
    "### Part 2. EDA : To Uncover Potential Data Issues Requiring Cleaning\n",
    "\n",
    "Overview of Potential Data Issues Uncovered via EDA\n",
    "\n",
    "(a) Threads: threads with media content <br>\n",
    "(b) Threads: non-discussion threads <br>\n",
    "(c) Comments: text that shows up as [deleted] and have no corresponding author name [removed]\n"
   ]
  },
  {
   "cell_type": "markdown",
   "metadata": {},
   "source": [
    "<b>(a) Threads: threads with media content</b>\n",
    "\n",
    "This code sub-section:\n",
    "* Explores the nature of threads with media content\n",
    "* Adds a new variable to identify threads with media content"
   ]
  },
  {
   "cell_type": "markdown",
   "metadata": {},
   "source": [
    "EDA Threads : Columns and Contents"
   ]
  },
  {
   "cell_type": "code",
   "execution_count": 5,
   "metadata": {},
   "outputs": [
    {
     "data": {
      "text/html": [
       "<div>\n",
       "<style scoped>\n",
       "    .dataframe tbody tr th:only-of-type {\n",
       "        vertical-align: middle;\n",
       "    }\n",
       "\n",
       "    .dataframe tbody tr th {\n",
       "        vertical-align: top;\n",
       "    }\n",
       "\n",
       "    .dataframe thead th {\n",
       "        text-align: right;\n",
       "    }\n",
       "</style>\n",
       "<table border=\"1\" class=\"dataframe\">\n",
       "  <thead>\n",
       "    <tr style=\"text-align: right;\">\n",
       "      <th></th>\n",
       "      <th>id</th>\n",
       "      <th>title</th>\n",
       "      <th>score</th>\n",
       "      <th>num_comments</th>\n",
       "      <th>post_hint</th>\n",
       "      <th>self_text</th>\n",
       "      <th>author_name</th>\n",
       "      <th>url</th>\n",
       "    </tr>\n",
       "  </thead>\n",
       "  <tbody>\n",
       "    <tr>\n",
       "      <th>0</th>\n",
       "      <td>19agk2c</td>\n",
       "      <td>[MOD] The Daily Question Thread</td>\n",
       "      <td>2</td>\n",
       "      <td>58</td>\n",
       "      <td>NaN</td>\n",
       "      <td>\\n\\nWelcome to the daily [/r/Coffee](https://...</td>\n",
       "      <td>menschmaschine5</td>\n",
       "      <td>https://www.reddit.com/r/Coffee/comments/19agk...</td>\n",
       "    </tr>\n",
       "    <tr>\n",
       "      <th>1</th>\n",
       "      <td>19ambi4</td>\n",
       "      <td>[MOD] What have you been brewing this week?/ C...</td>\n",
       "      <td>25</td>\n",
       "      <td>46</td>\n",
       "      <td>NaN</td>\n",
       "      <td>Hey everyone!\\n\\nWelcome back to the weekly /r...</td>\n",
       "      <td>menschmaschine5</td>\n",
       "      <td>https://www.reddit.com/r/Coffee/comments/19amb...</td>\n",
       "    </tr>\n",
       "    <tr>\n",
       "      <th>2</th>\n",
       "      <td>19a84l7</td>\n",
       "      <td>Drying out Coffee overnight, worth it?</td>\n",
       "      <td>42</td>\n",
       "      <td>38</td>\n",
       "      <td>NaN</td>\n",
       "      <td>Every time my mother gets a new bag of coffee ...</td>\n",
       "      <td>a_n_d_r_e_w</td>\n",
       "      <td>https://www.reddit.com/r/Coffee/comments/19a84...</td>\n",
       "    </tr>\n",
       "    <tr>\n",
       "      <th>3</th>\n",
       "      <td>199tgjn</td>\n",
       "      <td>Convention Booth questions</td>\n",
       "      <td>25</td>\n",
       "      <td>7</td>\n",
       "      <td>NaN</td>\n",
       "      <td>I have an opportunity to have a booth at a loc...</td>\n",
       "      <td>ExistentialJew</td>\n",
       "      <td>https://www.reddit.com/r/Coffee/comments/199tg...</td>\n",
       "    </tr>\n",
       "    <tr>\n",
       "      <th>4</th>\n",
       "      <td>199yiv0</td>\n",
       "      <td>macchiato confusion</td>\n",
       "      <td>3</td>\n",
       "      <td>7</td>\n",
       "      <td>NaN</td>\n",
       "      <td>Hello!  My apologies if this question is dumb....</td>\n",
       "      <td>Sudden-Ice-9613</td>\n",
       "      <td>https://www.reddit.com/r/Coffee/comments/199yi...</td>\n",
       "    </tr>\n",
       "  </tbody>\n",
       "</table>\n",
       "</div>"
      ],
      "text/plain": [
       "        id                                              title  score  \\\n",
       "0  19agk2c                    [MOD] The Daily Question Thread      2   \n",
       "1  19ambi4  [MOD] What have you been brewing this week?/ C...     25   \n",
       "2  19a84l7             Drying out Coffee overnight, worth it?     42   \n",
       "3  199tgjn                         Convention Booth questions     25   \n",
       "4  199yiv0                                macchiato confusion      3   \n",
       "\n",
       "   num_comments post_hint                                          self_text  \\\n",
       "0            58       NaN   \\n\\nWelcome to the daily [/r/Coffee](https://...   \n",
       "1            46       NaN  Hey everyone!\\n\\nWelcome back to the weekly /r...   \n",
       "2            38       NaN  Every time my mother gets a new bag of coffee ...   \n",
       "3             7       NaN  I have an opportunity to have a booth at a loc...   \n",
       "4             7       NaN  Hello!  My apologies if this question is dumb....   \n",
       "\n",
       "       author_name                                                url  \n",
       "0  menschmaschine5  https://www.reddit.com/r/Coffee/comments/19agk...  \n",
       "1  menschmaschine5  https://www.reddit.com/r/Coffee/comments/19amb...  \n",
       "2      a_n_d_r_e_w  https://www.reddit.com/r/Coffee/comments/19a84...  \n",
       "3   ExistentialJew  https://www.reddit.com/r/Coffee/comments/199tg...  \n",
       "4  Sudden-Ice-9613  https://www.reddit.com/r/Coffee/comments/199yi...  "
      ]
     },
     "execution_count": 5,
     "metadata": {},
     "output_type": "execute_result"
    }
   ],
   "source": [
    "# 1. Examine threads_df to view the columns and contents\n",
    "# > Illustratively: Coffee Threads\n",
    "coffee_threads_df.head()"
   ]
  },
  {
   "cell_type": "markdown",
   "metadata": {},
   "source": [
    "EDA Threads : \"post_hint\" Column"
   ]
  },
  {
   "cell_type": "code",
   "execution_count": 6,
   "metadata": {},
   "outputs": [
    {
     "data": {
      "text/plain": [
       "array([nan, 'self', 'image', 'link', 'rich:video', 'hosted:video'],\n",
       "      dtype=object)"
      ]
     },
     "execution_count": 6,
     "metadata": {},
     "output_type": "execute_result"
    }
   ],
   "source": [
    "# 2. Examine \"post_hint\" column (Illustratively: Coffee Comments)\n",
    "# > Illustratively: Coffee Threads\n",
    "coffee_threads_df[\"post_hint\"].unique()"
   ]
  },
  {
   "cell_type": "markdown",
   "metadata": {},
   "source": [
    "Feature Construction : Create New Column to Identify Media Threads\n",
    "\n",
    "* `post_hint` is Reddit's way of categorising media threads\n",
    "* However, when we checked the csv files vs the actual post online, we found that it is not very accurate\n",
    "* Hence we decided to create a new column, `url_is_media`, to identify media threads"
   ]
  },
  {
   "cell_type": "code",
   "execution_count": 7,
   "metadata": {},
   "outputs": [],
   "source": [
    "# Create a function to filter out non text i.e. images \n",
    "# if it is non text, categorize as 0; if media, categorize as 1\n",
    "# note: i.reddit and v.reddit indicate the media is hosted directly on reddit\n",
    "\n",
    "def is_media_url(text):\n",
    "    media_url_regex = r\"https://(?:i\\.redd\\.it/|v\\.redd\\.it/|www\\.reddit\\.com/gallery/|imgur\\.com/a/)[^\\s]+\"\n",
    "    return 1 if re.match(media_url_regex, text) else 0"
   ]
  },
  {
   "cell_type": "code",
   "execution_count": 8,
   "metadata": {},
   "outputs": [],
   "source": [
    "# Create a new column to indicate if there is a media posted in the thread, map the function to the url\n",
    "coffee_threads_df[\"url_is_media\"] = coffee_threads_df[\"url\"].apply(lambda x: is_media_url(x))\n",
    "tea_threads_df[\"url_is_media\"] = tea_threads_df[\"url\"].apply(lambda x: is_media_url(x))"
   ]
  },
  {
   "cell_type": "code",
   "execution_count": 9,
   "metadata": {},
   "outputs": [
    {
     "data": {
      "text/html": [
       "<div>\n",
       "<style scoped>\n",
       "    .dataframe tbody tr th:only-of-type {\n",
       "        vertical-align: middle;\n",
       "    }\n",
       "\n",
       "    .dataframe tbody tr th {\n",
       "        vertical-align: top;\n",
       "    }\n",
       "\n",
       "    .dataframe thead th {\n",
       "        text-align: right;\n",
       "    }\n",
       "</style>\n",
       "<table border=\"1\" class=\"dataframe\">\n",
       "  <thead>\n",
       "    <tr style=\"text-align: right;\">\n",
       "      <th></th>\n",
       "      <th>id</th>\n",
       "      <th>title</th>\n",
       "      <th>score</th>\n",
       "      <th>num_comments</th>\n",
       "      <th>post_hint</th>\n",
       "      <th>self_text</th>\n",
       "      <th>author_name</th>\n",
       "      <th>url</th>\n",
       "      <th>url_is_media</th>\n",
       "    </tr>\n",
       "  </thead>\n",
       "  <tbody>\n",
       "    <tr>\n",
       "      <th>0</th>\n",
       "      <td>19agk2c</td>\n",
       "      <td>[MOD] The Daily Question Thread</td>\n",
       "      <td>2</td>\n",
       "      <td>58</td>\n",
       "      <td>NaN</td>\n",
       "      <td>\\n\\nWelcome to the daily [/r/Coffee](https://...</td>\n",
       "      <td>menschmaschine5</td>\n",
       "      <td>https://www.reddit.com/r/Coffee/comments/19agk...</td>\n",
       "      <td>0</td>\n",
       "    </tr>\n",
       "    <tr>\n",
       "      <th>1</th>\n",
       "      <td>19ambi4</td>\n",
       "      <td>[MOD] What have you been brewing this week?/ C...</td>\n",
       "      <td>25</td>\n",
       "      <td>46</td>\n",
       "      <td>NaN</td>\n",
       "      <td>Hey everyone!\\n\\nWelcome back to the weekly /r...</td>\n",
       "      <td>menschmaschine5</td>\n",
       "      <td>https://www.reddit.com/r/Coffee/comments/19amb...</td>\n",
       "      <td>0</td>\n",
       "    </tr>\n",
       "    <tr>\n",
       "      <th>2</th>\n",
       "      <td>19a84l7</td>\n",
       "      <td>Drying out Coffee overnight, worth it?</td>\n",
       "      <td>42</td>\n",
       "      <td>38</td>\n",
       "      <td>NaN</td>\n",
       "      <td>Every time my mother gets a new bag of coffee ...</td>\n",
       "      <td>a_n_d_r_e_w</td>\n",
       "      <td>https://www.reddit.com/r/Coffee/comments/19a84...</td>\n",
       "      <td>0</td>\n",
       "    </tr>\n",
       "    <tr>\n",
       "      <th>3</th>\n",
       "      <td>199tgjn</td>\n",
       "      <td>Convention Booth questions</td>\n",
       "      <td>25</td>\n",
       "      <td>7</td>\n",
       "      <td>NaN</td>\n",
       "      <td>I have an opportunity to have a booth at a loc...</td>\n",
       "      <td>ExistentialJew</td>\n",
       "      <td>https://www.reddit.com/r/Coffee/comments/199tg...</td>\n",
       "      <td>0</td>\n",
       "    </tr>\n",
       "    <tr>\n",
       "      <th>4</th>\n",
       "      <td>199yiv0</td>\n",
       "      <td>macchiato confusion</td>\n",
       "      <td>3</td>\n",
       "      <td>7</td>\n",
       "      <td>NaN</td>\n",
       "      <td>Hello!  My apologies if this question is dumb....</td>\n",
       "      <td>Sudden-Ice-9613</td>\n",
       "      <td>https://www.reddit.com/r/Coffee/comments/199yi...</td>\n",
       "      <td>0</td>\n",
       "    </tr>\n",
       "  </tbody>\n",
       "</table>\n",
       "</div>"
      ],
      "text/plain": [
       "        id                                              title  score  \\\n",
       "0  19agk2c                    [MOD] The Daily Question Thread      2   \n",
       "1  19ambi4  [MOD] What have you been brewing this week?/ C...     25   \n",
       "2  19a84l7             Drying out Coffee overnight, worth it?     42   \n",
       "3  199tgjn                         Convention Booth questions     25   \n",
       "4  199yiv0                                macchiato confusion      3   \n",
       "\n",
       "   num_comments post_hint                                          self_text  \\\n",
       "0            58       NaN   \\n\\nWelcome to the daily [/r/Coffee](https://...   \n",
       "1            46       NaN  Hey everyone!\\n\\nWelcome back to the weekly /r...   \n",
       "2            38       NaN  Every time my mother gets a new bag of coffee ...   \n",
       "3             7       NaN  I have an opportunity to have a booth at a loc...   \n",
       "4             7       NaN  Hello!  My apologies if this question is dumb....   \n",
       "\n",
       "       author_name                                                url  \\\n",
       "0  menschmaschine5  https://www.reddit.com/r/Coffee/comments/19agk...   \n",
       "1  menschmaschine5  https://www.reddit.com/r/Coffee/comments/19amb...   \n",
       "2      a_n_d_r_e_w  https://www.reddit.com/r/Coffee/comments/19a84...   \n",
       "3   ExistentialJew  https://www.reddit.com/r/Coffee/comments/199tg...   \n",
       "4  Sudden-Ice-9613  https://www.reddit.com/r/Coffee/comments/199yi...   \n",
       "\n",
       "   url_is_media  \n",
       "0             0  \n",
       "1             0  \n",
       "2             0  \n",
       "3             0  \n",
       "4             0  "
      ]
     },
     "execution_count": 9,
     "metadata": {},
     "output_type": "execute_result"
    }
   ],
   "source": [
    "# Check our updated dataframe for addition of \"url_is_media\" variable \n",
    "# > Illustratively: Coffee Threads\n",
    "coffee_threads_df.head()"
   ]
  },
  {
   "cell_type": "markdown",
   "metadata": {},
   "source": [
    "<b>(b) Threads: non-discussion threads</b>\n",
    "\n",
    "Context: \n",
    "* During the process of reviewing the subreddits' threads, we uncovered marketing threads created by \"automoderator bots\" and \"moderators\".\n",
    "\n",
    "This code sub-section adds new variables to identify:\n",
    "* Marketing threads by AutoModerator bots\n",
    "* Marketing threads by moderators in the subreddit\n"
   ]
  },
  {
   "cell_type": "code",
   "execution_count": 10,
   "metadata": {},
   "outputs": [],
   "source": [
    "# Coffee\n",
    "\n",
    "# 1. Add identifier: threads by thread_id posted by automoderator bots\n",
    "coffee_marketing_thread_ids_automod = list(coffee_threads_df.loc[(coffee_threads_df[\"author_name\"] == \"AutoModerator\") & (coffee_threads_df[\"title\"].str.startswith(\"Marketing\"))][\"id\"])\n",
    "    \n",
    "# 2. Add identifier: threads by thread_id posted by moderators\n",
    "coffee_marketing_thread_ids_mod = list(coffee_threads_df.loc[coffee_threads_df[\"title\"].str.contains(\"The Official Deal Thread\")][\"id\"])\n",
    "\n",
    "# 3. Consolidate IDs\n",
    "coffee_marketing_thread_ids = coffee_marketing_thread_ids_automod.copy()\n",
    "\n",
    "for id in coffee_marketing_thread_ids_mod:\n",
    "    if id not in coffee_marketing_thread_ids:\n",
    "        coffee_marketing_thread_ids.append(id)\n",
    "        "
   ]
  },
  {
   "cell_type": "code",
   "execution_count": 11,
   "metadata": {},
   "outputs": [],
   "source": [
    "# Tea\n",
    "\n",
    "# 1. Add identifier: threads by thread_id posted by automoderator bots\n",
    "tea_marketing_thread_ids_automod = list(tea_threads_df.loc[(tea_threads_df[\"author_name\"] == \"AutoModerator\") & (tea_threads_df[\"title\"].str.startswith(\"Marketing\"))][\"id\"])\n",
    "\n",
    "# 2. Add identifier: threads by thread_id posted by moderators\n",
    "tea_marketing_thread_ids_mod = list(tea_threads_df.loc[tea_threads_df[\"title\"].str.contains(\"The Official Deal Thread\")][\"id\"])\n",
    "\n",
    "# 3. Consolidate IDs\n",
    "tea_marketing_thread_ids = tea_marketing_thread_ids_automod.copy()\n",
    "\n",
    "for id in tea_marketing_thread_ids_mod:\n",
    "    if id not in tea_marketing_thread_ids:\n",
    "        tea_marketing_thread_ids.append(id)\n",
    "        "
   ]
  },
  {
   "cell_type": "markdown",
   "metadata": {},
   "source": [
    "<b>(c) Comments: text that shows up as [deleted] and have no corresponding author name [removed] </b>"
   ]
  },
  {
   "cell_type": "markdown",
   "metadata": {},
   "source": [
    "EDA: Examine No. of Comments & Corresponding Authors"
   ]
  },
  {
   "cell_type": "code",
   "execution_count": 12,
   "metadata": {},
   "outputs": [
    {
     "data": {
      "text/html": [
       "<div>\n",
       "<style scoped>\n",
       "    .dataframe tbody tr th:only-of-type {\n",
       "        vertical-align: middle;\n",
       "    }\n",
       "\n",
       "    .dataframe tbody tr th {\n",
       "        vertical-align: top;\n",
       "    }\n",
       "\n",
       "    .dataframe thead th {\n",
       "        text-align: right;\n",
       "    }\n",
       "</style>\n",
       "<table border=\"1\" class=\"dataframe\">\n",
       "  <thead>\n",
       "    <tr style=\"text-align: right;\">\n",
       "      <th></th>\n",
       "      <th>thread_id</th>\n",
       "      <th>comment_id</th>\n",
       "      <th>comment_text</th>\n",
       "      <th>comment_score</th>\n",
       "      <th>author_name</th>\n",
       "    </tr>\n",
       "  </thead>\n",
       "  <tbody>\n",
       "    <tr>\n",
       "      <th>0</th>\n",
       "      <td>19agk2c</td>\n",
       "      <td>kikp8lv</td>\n",
       "      <td>Hi! I’m a morning coffee drinker but I never m...</td>\n",
       "      <td>2</td>\n",
       "      <td>testingpage2025</td>\n",
       "    </tr>\n",
       "    <tr>\n",
       "      <th>1</th>\n",
       "      <td>19agk2c</td>\n",
       "      <td>kikxhmz</td>\n",
       "      <td>Any Scooters employees around? I need to know ...</td>\n",
       "      <td>2</td>\n",
       "      <td>Ok_Bet_2634</td>\n",
       "    </tr>\n",
       "    <tr>\n",
       "      <th>2</th>\n",
       "      <td>19agk2c</td>\n",
       "      <td>kinuq9z</td>\n",
       "      <td>Do any of you ever get “too lazy” to make coff...</td>\n",
       "      <td>2</td>\n",
       "      <td>angelsandairwaves93</td>\n",
       "    </tr>\n",
       "    <tr>\n",
       "      <th>3</th>\n",
       "      <td>19agk2c</td>\n",
       "      <td>kil6vl0</td>\n",
       "      <td>I can't find a pumpkin spice latte recipe that...</td>\n",
       "      <td>1</td>\n",
       "      <td>automirage04</td>\n",
       "    </tr>\n",
       "    <tr>\n",
       "      <th>4</th>\n",
       "      <td>19agk2c</td>\n",
       "      <td>kilaorz</td>\n",
       "      <td>Hey all! I live in Costa Rica and regularly bu...</td>\n",
       "      <td>1</td>\n",
       "      <td>chuvakinfinity</td>\n",
       "    </tr>\n",
       "    <tr>\n",
       "      <th>...</th>\n",
       "      <td>...</td>\n",
       "      <td>...</td>\n",
       "      <td>...</td>\n",
       "      <td>...</td>\n",
       "      <td>...</td>\n",
       "    </tr>\n",
       "    <tr>\n",
       "      <th>32167</th>\n",
       "      <td>13f5sqf</td>\n",
       "      <td>jjtdirv</td>\n",
       "      <td>There's tons of info out there, but you need t...</td>\n",
       "      <td>3</td>\n",
       "      <td>AnimorphsGeek</td>\n",
       "    </tr>\n",
       "    <tr>\n",
       "      <th>32168</th>\n",
       "      <td>13f5sqf</td>\n",
       "      <td>jju4t0r</td>\n",
       "      <td>Books written by Michael Sivets tend to be a p...</td>\n",
       "      <td>3</td>\n",
       "      <td>LATechSpartan</td>\n",
       "    </tr>\n",
       "    <tr>\n",
       "      <th>32169</th>\n",
       "      <td>13f5sqf</td>\n",
       "      <td>jk1k4n8</td>\n",
       "      <td>https://instagram.com/espressofun?igshid=ZWIzM...</td>\n",
       "      <td>1</td>\n",
       "      <td>PoJenkins</td>\n",
       "    </tr>\n",
       "    <tr>\n",
       "      <th>32170</th>\n",
       "      <td>13f5sqf</td>\n",
       "      <td>jjtnoon</td>\n",
       "      <td>\"The Physics of Filter Coffee\" is pretty good ...</td>\n",
       "      <td>15</td>\n",
       "      <td>HR_Paul</td>\n",
       "    </tr>\n",
       "    <tr>\n",
       "      <th>32171</th>\n",
       "      <td>13f5sqf</td>\n",
       "      <td>jjx8fpk</td>\n",
       "      <td>I could not disagree more. PDG is like the dai...</td>\n",
       "      <td>7</td>\n",
       "      <td>Dwight_Kay_Schrute</td>\n",
       "    </tr>\n",
       "  </tbody>\n",
       "</table>\n",
       "<p>32172 rows × 5 columns</p>\n",
       "</div>"
      ],
      "text/plain": [
       "      thread_id comment_id                                       comment_text  \\\n",
       "0       19agk2c    kikp8lv  Hi! I’m a morning coffee drinker but I never m...   \n",
       "1       19agk2c    kikxhmz  Any Scooters employees around? I need to know ...   \n",
       "2       19agk2c    kinuq9z  Do any of you ever get “too lazy” to make coff...   \n",
       "3       19agk2c    kil6vl0  I can't find a pumpkin spice latte recipe that...   \n",
       "4       19agk2c    kilaorz  Hey all! I live in Costa Rica and regularly bu...   \n",
       "...         ...        ...                                                ...   \n",
       "32167   13f5sqf    jjtdirv  There's tons of info out there, but you need t...   \n",
       "32168   13f5sqf    jju4t0r  Books written by Michael Sivets tend to be a p...   \n",
       "32169   13f5sqf    jk1k4n8  https://instagram.com/espressofun?igshid=ZWIzM...   \n",
       "32170   13f5sqf    jjtnoon  \"The Physics of Filter Coffee\" is pretty good ...   \n",
       "32171   13f5sqf    jjx8fpk  I could not disagree more. PDG is like the dai...   \n",
       "\n",
       "       comment_score          author_name  \n",
       "0                  2      testingpage2025  \n",
       "1                  2          Ok_Bet_2634  \n",
       "2                  2  angelsandairwaves93  \n",
       "3                  1         automirage04  \n",
       "4                  1       chuvakinfinity  \n",
       "...              ...                  ...  \n",
       "32167              3        AnimorphsGeek  \n",
       "32168              3        LATechSpartan  \n",
       "32169              1            PoJenkins  \n",
       "32170             15              HR_Paul  \n",
       "32171              7   Dwight_Kay_Schrute  \n",
       "\n",
       "[32172 rows x 5 columns]"
      ]
     },
     "execution_count": 12,
     "metadata": {},
     "output_type": "execute_result"
    }
   ],
   "source": [
    "# Check the comment dataframe to see columns and row contents \n",
    "# > Illustratively: Coffee Comments\n",
    "coffee_comments_df"
   ]
  },
  {
   "cell_type": "code",
   "execution_count": 13,
   "metadata": {},
   "outputs": [
    {
     "name": "stdout",
     "output_type": "stream",
     "text": [
      "Coffee: Comments\n",
      "No. of comments: 32172\n",
      "No. of authors: 9367\n"
     ]
    }
   ],
   "source": [
    "# Check no. of comments and corresponding no. of authors\n",
    "# > Illustratively: Coffee Comments\n",
    "\n",
    "print(\"Coffee: Comments\")\n",
    "print(\"No. of comments:\", coffee_comments_df.shape[0])\n",
    "print(\"No. of authors:\",coffee_comments_df[\"author_name\"].nunique())"
   ]
  },
  {
   "cell_type": "markdown",
   "metadata": {},
   "source": [
    "EDA: Examine No. of Comments per Author"
   ]
  },
  {
   "cell_type": "code",
   "execution_count": 14,
   "metadata": {},
   "outputs": [
    {
     "data": {
      "text/plain": [
       "author_name\n",
       "LEJ5512                1022\n",
       "Anomander               716\n",
       "paulo-urbonas           566\n",
       "VibrantCoffee           440\n",
       "p739397                 403\n",
       "                       ... \n",
       "SeveralSecurity8058       1\n",
       "Serpents_disobeyed        1\n",
       "Serious_Dot_4532          1\n",
       "SeriousJak                1\n",
       "zzzz_ok                   1\n",
       "Length: 9367, dtype: int64"
      ]
     },
     "execution_count": 14,
     "metadata": {},
     "output_type": "execute_result"
    }
   ],
   "source": [
    "# group by author_name to see who contributed the most in the comments across all threads\n",
    "# authors with highest count displayed first\n",
    "# > Illustratively: Coffee Comments\n",
    "\n",
    "coffee_comments_df.groupby(\"author_name\").size().sort_values(ascending=False)"
   ]
  },
  {
   "cell_type": "markdown",
   "metadata": {},
   "source": [
    "Comments:\n",
    "\n",
    "From the results above, and examining \"coffee comments\" for illustrative purposes: \n",
    "\n",
    "* We find that there are only ~9,400 authors despite having ~32,000 comments\n",
    "* While there is a possibility of an author having multiple comments, the difference is quite big\n",
    "* There could be a significant portion of comments with no author name\n",
    "\n",
    "Hence we checked the csv and realised that there are deleted comments represented by \"[deleted]\" with no author names, which presents a comment missingness concern\n",
    "* We double checked that with the code below"
   ]
  },
  {
   "cell_type": "code",
   "execution_count": 15,
   "metadata": {},
   "outputs": [
    {
     "data": {
      "text/plain": [
       "array([nan], dtype=object)"
      ]
     },
     "execution_count": 15,
     "metadata": {},
     "output_type": "execute_result"
    }
   ],
   "source": [
    "# check author names of deleted comments\n",
    "# > Illustratively: Coffee Comments\n",
    "\n",
    "coffee_comments_df[coffee_comments_df[\"comment_text\"] == \"[deleted]\"][\"author_name\"].unique()"
   ]
  },
  {
   "cell_type": "markdown",
   "metadata": {},
   "source": [
    "\n",
    "---\n",
    "\n",
    "### Part 3. Data Cleaning : Removing Dataframe Rows that are Not Useful/Errorneous\n",
    "\n",
    "* Based on the above potential issues, we will remove them from the existing dataframe but save the new dataframe into a new variable"
   ]
  },
  {
   "cell_type": "markdown",
   "metadata": {},
   "source": [
    "<b> (a) Create new \"clean\" dataframe variables </b>"
   ]
  },
  {
   "cell_type": "code",
   "execution_count": 16,
   "metadata": {},
   "outputs": [
    {
     "name": "stdout",
     "output_type": "stream",
     "text": [
      "Coffee - Threads: n(rows) = 674\n",
      "Coffee - Comments: n(rows) = 32172\n",
      "\n",
      "Tea - Threads: n(rows) = 962\n",
      "Tea - Comments: n(rows) = 12645\n"
     ]
    }
   ],
   "source": [
    "# create new \"clean\" dataframe variables\n",
    "df_coffee_threads_clean   = coffee_threads_df\n",
    "df_coffee_comments_clean = coffee_comments_df \n",
    "\n",
    "df_tea_threads_clean   = tea_threads_df  \n",
    "df_tea_comments_clean = tea_comments_df \n",
    "\n",
    "# print: initial no. of df rows\n",
    "print(\"Coffee - Threads: n(rows) =\", df_coffee_threads_clean.shape[0])\n",
    "print(\"Coffee - Comments: n(rows) =\", df_coffee_comments_clean.shape[0])\n",
    "print(\"\")\n",
    "print(\"Tea - Threads: n(rows) =\", df_tea_threads_clean.shape[0])\n",
    "print(\"Tea - Comments: n(rows) =\", df_tea_comments_clean.shape[0])"
   ]
  },
  {
   "cell_type": "markdown",
   "metadata": {},
   "source": [
    "<b> (b) Removal of non discussion threads and their associated comments (based on part 2b) </b>\n",
    "\n",
    "As these threads are marketing related, it is not useful in our sentiment analysis or modelling hence we will remove them."
   ]
  },
  {
   "cell_type": "code",
   "execution_count": 17,
   "metadata": {},
   "outputs": [
    {
     "name": "stdout",
     "output_type": "stream",
     "text": [
      "Coffee - Threads: n(rows) = 649\n",
      "Coffee - Comments: n(rows) = 31842\n"
     ]
    }
   ],
   "source": [
    "# Coffee\n",
    "\n",
    "# 1. remove from threads dataframe\n",
    "mask_marketing_threads = df_coffee_threads_clean[\"id\"].isin(coffee_marketing_thread_ids)\n",
    "df_coffee_threads_clean = df_coffee_threads_clean[~mask_marketing_threads]\n",
    "\n",
    "# 2. remove from comments dataframe\n",
    "mask_marketing_threads = df_coffee_comments_clean[\"thread_id\"].isin(coffee_marketing_thread_ids)\n",
    "df_coffee_comments_clean = df_coffee_comments_clean[~mask_marketing_threads]\n",
    "\n",
    "# 3. print no. of df rows\n",
    "print(\"Coffee - Threads: n(rows) =\", df_coffee_threads_clean.shape[0])\n",
    "print(\"Coffee - Comments: n(rows) =\", df_coffee_comments_clean.shape[0])"
   ]
  },
  {
   "cell_type": "code",
   "execution_count": 18,
   "metadata": {},
   "outputs": [
    {
     "name": "stdout",
     "output_type": "stream",
     "text": [
      "Tea - Threads: n(rows) = 959\n",
      "Tea - Comments: n(rows) = 12605\n"
     ]
    }
   ],
   "source": [
    "# Tea\n",
    "\n",
    "# 1. remove from threads dataframe\n",
    "mask_marketing_threads = df_tea_threads_clean[\"id\"].isin(tea_marketing_thread_ids)\n",
    "df_tea_threads_clean = df_tea_threads_clean[~mask_marketing_threads]\n",
    "\n",
    "# 2. remove from comments dataframe\n",
    "mask_marketing_threads = df_tea_comments_clean[\"thread_id\"].isin(tea_marketing_thread_ids)\n",
    "df_tea_comments_clean = df_tea_comments_clean[~mask_marketing_threads]\n",
    "\n",
    "# 3. print no. of df rows\n",
    "print(\"Tea - Threads: n(rows) =\", df_tea_threads_clean.shape[0])\n",
    "print(\"Tea - Comments: n(rows) =\", df_tea_comments_clean.shape[0])"
   ]
  },
  {
   "cell_type": "markdown",
   "metadata": {},
   "source": [
    "<b> (c) Removal of rows with comment text as [deleted] (based on part 2c) </b>\n",
    "\n",
    "As there is no comment content, it is not useful in our modelling hence we will remove them"
   ]
  },
  {
   "cell_type": "code",
   "execution_count": 19,
   "metadata": {},
   "outputs": [
    {
     "name": "stdout",
     "output_type": "stream",
     "text": [
      "Coffee - Comments: n(rows) = 31235\n",
      "Tea - Comments: n(rows) = 12520\n"
     ]
    }
   ],
   "source": [
    "# create a mask variable to contain rows with \"deleted\" or \"removed\" based on part (2c)\n",
    "deleted_texts = [\"[deleted]\", \"[removed]\"]\n",
    "\n",
    "# 1. remove them from dataframe = coffee\n",
    "df_coffee_comments_clean = df_coffee_comments_clean[~df_coffee_comments_clean[\"comment_text\"].isin(deleted_texts)]\n",
    "\n",
    "# 2. remove them from dataframe = tea\n",
    "df_tea_comments_clean = df_tea_comments_clean[~df_tea_comments_clean[\"comment_text\"].isin(deleted_texts)]\n",
    "\n",
    "# 3. print no. of df rows\n",
    "print(\"Coffee - Comments: n(rows) =\", df_coffee_comments_clean.shape[0])\n",
    "print(\"Tea - Comments: n(rows) =\", df_tea_comments_clean.shape[0])"
   ]
  },
  {
   "cell_type": "markdown",
   "metadata": {},
   "source": [
    "<b> (d) Remove Reddit's own markdown formatting for links and keep only the text </b>\n",
    "\n",
    "We only want to keep the text from the links as the text could possibly give an insight into what the contents are in the related link"
   ]
  },
  {
   "cell_type": "markdown",
   "metadata": {},
   "source": [
    "[] Test code"
   ]
  },
  {
   "cell_type": "code",
   "execution_count": 20,
   "metadata": {},
   "outputs": [
    {
     "data": {
      "text/html": [
       "<div>\n",
       "<style scoped>\n",
       "    .dataframe tbody tr th:only-of-type {\n",
       "        vertical-align: middle;\n",
       "    }\n",
       "\n",
       "    .dataframe tbody tr th {\n",
       "        vertical-align: top;\n",
       "    }\n",
       "\n",
       "    .dataframe thead th {\n",
       "        text-align: right;\n",
       "    }\n",
       "</style>\n",
       "<table border=\"1\" class=\"dataframe\">\n",
       "  <thead>\n",
       "    <tr style=\"text-align: right;\">\n",
       "      <th></th>\n",
       "      <th>thread_id</th>\n",
       "      <th>comment_id</th>\n",
       "      <th>comment_text</th>\n",
       "      <th>comment_score</th>\n",
       "      <th>author_name</th>\n",
       "    </tr>\n",
       "  </thead>\n",
       "  <tbody>\n",
       "    <tr>\n",
       "      <th>59</th>\n",
       "      <td>19ambi4</td>\n",
       "      <td>kimb1hx</td>\n",
       "      <td>[Touchy Ethiopia habtamu fikadu](https://touch...</td>\n",
       "      <td>5</td>\n",
       "      <td>vicerowv86</td>\n",
       "    </tr>\n",
       "    <tr>\n",
       "      <th>63</th>\n",
       "      <td>19ambi4</td>\n",
       "      <td>kim52y1</td>\n",
       "      <td>[Edwin Zambrano - 170hr Anaerobic Natural](htt...</td>\n",
       "      <td>2</td>\n",
       "      <td>anaerobic_natural</td>\n",
       "    </tr>\n",
       "    <tr>\n",
       "      <th>71</th>\n",
       "      <td>19ambi4</td>\n",
       "      <td>kimjuew</td>\n",
       "      <td>[Night fly roast works](https://nightflyerroas...</td>\n",
       "      <td>1</td>\n",
       "      <td>hippihoopihoo</td>\n",
       "    </tr>\n",
       "    <tr>\n",
       "      <th>80</th>\n",
       "      <td>19ambi4</td>\n",
       "      <td>kine3y5</td>\n",
       "      <td>[https://regaliacoffee.com/products/rainbow-ho...</td>\n",
       "      <td>1</td>\n",
       "      <td>ad6499</td>\n",
       "    </tr>\n",
       "    <tr>\n",
       "      <th>154</th>\n",
       "      <td>199sf8j</td>\n",
       "      <td>kigvg2o</td>\n",
       "      <td>[Going for versatility here](https://i.imgur.c...</td>\n",
       "      <td>2</td>\n",
       "      <td>DrSpaceman575</td>\n",
       "    </tr>\n",
       "  </tbody>\n",
       "</table>\n",
       "</div>"
      ],
      "text/plain": [
       "    thread_id comment_id                                       comment_text  \\\n",
       "59    19ambi4    kimb1hx  [Touchy Ethiopia habtamu fikadu](https://touch...   \n",
       "63    19ambi4    kim52y1  [Edwin Zambrano - 170hr Anaerobic Natural](htt...   \n",
       "71    19ambi4    kimjuew  [Night fly roast works](https://nightflyerroas...   \n",
       "80    19ambi4    kine3y5  [https://regaliacoffee.com/products/rainbow-ho...   \n",
       "154   199sf8j    kigvg2o  [Going for versatility here](https://i.imgur.c...   \n",
       "\n",
       "     comment_score        author_name  \n",
       "59               5         vicerowv86  \n",
       "63               2  anaerobic_natural  \n",
       "71               1      hippihoopihoo  \n",
       "80               1             ad6499  \n",
       "154              2      DrSpaceman575  "
      ]
     },
     "execution_count": 20,
     "metadata": {},
     "output_type": "execute_result"
    }
   ],
   "source": [
    "# testing out the regex expression to see if we filtered out the rows correctly\n",
    "# > Illustratively: Coffee Comments\n",
    "\n",
    "link_regex = r'\\[(.+?)\\]\\((.+?)\\)'\n",
    "df_coffee_comments_clean[df_coffee_comments_clean['comment_text'].str.match(link_regex)].head()"
   ]
  },
  {
   "cell_type": "markdown",
   "metadata": {},
   "source": [
    "[] Define filtering function"
   ]
  },
  {
   "cell_type": "code",
   "execution_count": 21,
   "metadata": {},
   "outputs": [],
   "source": [
    "# define a function to filter out rows with markdown formatting on links\n",
    "\n",
    "def keep_text_from_link(text):\n",
    "    link_regex = r'\\[(.+?)\\]\\((.+?)\\)'\n",
    "    \n",
    "    def replace_link(match):\n",
    "        return match.group(1)\n",
    "\n",
    "    return re.sub(link_regex, replace_link, text)"
   ]
  },
  {
   "cell_type": "markdown",
   "metadata": {},
   "source": [
    "[] Apply filtering function"
   ]
  },
  {
   "cell_type": "code",
   "execution_count": 22,
   "metadata": {},
   "outputs": [],
   "source": [
    "# apply to the coffee and tea dataframes\n",
    "df_coffee_comments_clean[\"comment_text\"] = df_coffee_comments_clean[\"comment_text\"].apply(lambda x: keep_text_from_link(x))\n",
    "df_tea_comments_clean[\"comment_text\"]    = df_tea_comments_clean[\"comment_text\"].apply(lambda x: keep_text_from_link(x))"
   ]
  },
  {
   "cell_type": "markdown",
   "metadata": {},
   "source": [
    "[] Check if filtering is successful\n",
    "* check again to see if any links have been unprocessed by our function\n",
    "* should return with no results if function successfully applied to all relevant rows"
   ]
  },
  {
   "cell_type": "code",
   "execution_count": 23,
   "metadata": {},
   "outputs": [
    {
     "data": {
      "text/html": [
       "<div>\n",
       "<style scoped>\n",
       "    .dataframe tbody tr th:only-of-type {\n",
       "        vertical-align: middle;\n",
       "    }\n",
       "\n",
       "    .dataframe tbody tr th {\n",
       "        vertical-align: top;\n",
       "    }\n",
       "\n",
       "    .dataframe thead th {\n",
       "        text-align: right;\n",
       "    }\n",
       "</style>\n",
       "<table border=\"1\" class=\"dataframe\">\n",
       "  <thead>\n",
       "    <tr style=\"text-align: right;\">\n",
       "      <th></th>\n",
       "      <th>thread_id</th>\n",
       "      <th>comment_id</th>\n",
       "      <th>comment_text</th>\n",
       "      <th>comment_score</th>\n",
       "      <th>author_name</th>\n",
       "    </tr>\n",
       "  </thead>\n",
       "  <tbody>\n",
       "  </tbody>\n",
       "</table>\n",
       "</div>"
      ],
      "text/plain": [
       "Empty DataFrame\n",
       "Columns: [thread_id, comment_id, comment_text, comment_score, author_name]\n",
       "Index: []"
      ]
     },
     "execution_count": 23,
     "metadata": {},
     "output_type": "execute_result"
    }
   ],
   "source": [
    "df_coffee_comments_clean[df_coffee_comments_clean[\"comment_text\"].str.match(link_regex)].head()"
   ]
  },
  {
   "cell_type": "code",
   "execution_count": 24,
   "metadata": {},
   "outputs": [
    {
     "data": {
      "text/html": [
       "<div>\n",
       "<style scoped>\n",
       "    .dataframe tbody tr th:only-of-type {\n",
       "        vertical-align: middle;\n",
       "    }\n",
       "\n",
       "    .dataframe tbody tr th {\n",
       "        vertical-align: top;\n",
       "    }\n",
       "\n",
       "    .dataframe thead th {\n",
       "        text-align: right;\n",
       "    }\n",
       "</style>\n",
       "<table border=\"1\" class=\"dataframe\">\n",
       "  <thead>\n",
       "    <tr style=\"text-align: right;\">\n",
       "      <th></th>\n",
       "      <th>thread_id</th>\n",
       "      <th>comment_id</th>\n",
       "      <th>comment_text</th>\n",
       "      <th>comment_score</th>\n",
       "      <th>author_name</th>\n",
       "    </tr>\n",
       "  </thead>\n",
       "  <tbody>\n",
       "  </tbody>\n",
       "</table>\n",
       "</div>"
      ],
      "text/plain": [
       "Empty DataFrame\n",
       "Columns: [thread_id, comment_id, comment_text, comment_score, author_name]\n",
       "Index: []"
      ]
     },
     "execution_count": 24,
     "metadata": {},
     "output_type": "execute_result"
    }
   ],
   "source": [
    "df_tea_comments_clean[df_tea_comments_clean[\"comment_text\"].str.match(link_regex)].head()"
   ]
  },
  {
   "cell_type": "markdown",
   "metadata": {},
   "source": [
    "<b> (e) Removal of url-only comments </b>\n",
    "\n",
    "We do not want them because they do not provide any form of sentiment analysis nor use in modelling"
   ]
  },
  {
   "cell_type": "markdown",
   "metadata": {},
   "source": [
    "[] Test code"
   ]
  },
  {
   "cell_type": "code",
   "execution_count": 25,
   "metadata": {},
   "outputs": [
    {
     "data": {
      "text/html": [
       "<div>\n",
       "<style scoped>\n",
       "    .dataframe tbody tr th:only-of-type {\n",
       "        vertical-align: middle;\n",
       "    }\n",
       "\n",
       "    .dataframe tbody tr th {\n",
       "        vertical-align: top;\n",
       "    }\n",
       "\n",
       "    .dataframe thead th {\n",
       "        text-align: right;\n",
       "    }\n",
       "</style>\n",
       "<table border=\"1\" class=\"dataframe\">\n",
       "  <thead>\n",
       "    <tr style=\"text-align: right;\">\n",
       "      <th></th>\n",
       "      <th>thread_id</th>\n",
       "      <th>comment_id</th>\n",
       "      <th>comment_text</th>\n",
       "      <th>comment_score</th>\n",
       "      <th>author_name</th>\n",
       "    </tr>\n",
       "  </thead>\n",
       "  <tbody>\n",
       "    <tr>\n",
       "      <th>80</th>\n",
       "      <td>19ambi4</td>\n",
       "      <td>kine3y5</td>\n",
       "      <td>https://regaliacoffee.com/products/rainbow-hop...</td>\n",
       "      <td>1</td>\n",
       "      <td>ad6499</td>\n",
       "    </tr>\n",
       "    <tr>\n",
       "      <th>702</th>\n",
       "      <td>19764n9</td>\n",
       "      <td>ki2mk46</td>\n",
       "      <td>https://us.amazon.com/Coffee-Organizer-Silicon...</td>\n",
       "      <td>2</td>\n",
       "      <td>Vietname</td>\n",
       "    </tr>\n",
       "    <tr>\n",
       "      <th>989</th>\n",
       "      <td>1950ew2</td>\n",
       "      <td>khkhzw9</td>\n",
       "      <td>https://tendropscoffee.com/\\n\\nI just picked u...</td>\n",
       "      <td>1</td>\n",
       "      <td>Burninmules</td>\n",
       "    </tr>\n",
       "    <tr>\n",
       "      <th>1457</th>\n",
       "      <td>192sur5</td>\n",
       "      <td>khotlky</td>\n",
       "      <td>https://www.oxo.com/barista-brain-9-cup-coffee...</td>\n",
       "      <td>2</td>\n",
       "      <td>wasdtomove</td>\n",
       "    </tr>\n",
       "    <tr>\n",
       "      <th>1516</th>\n",
       "      <td>1935pxp</td>\n",
       "      <td>kha2kh6</td>\n",
       "      <td>https://www.reddit.com/r/FlairEspresso/s/HLKhG...</td>\n",
       "      <td>1</td>\n",
       "      <td>p739397</td>\n",
       "    </tr>\n",
       "    <tr>\n",
       "      <th>...</th>\n",
       "      <td>...</td>\n",
       "      <td>...</td>\n",
       "      <td>...</td>\n",
       "      <td>...</td>\n",
       "      <td>...</td>\n",
       "    </tr>\n",
       "    <tr>\n",
       "      <th>30936</th>\n",
       "      <td>13m2h59</td>\n",
       "      <td>jksx6a7</td>\n",
       "      <td>https://iccontrols.com/faq-items/what-is-the-d...</td>\n",
       "      <td>1</td>\n",
       "      <td>EXTRA370H55V</td>\n",
       "    </tr>\n",
       "    <tr>\n",
       "      <th>31804</th>\n",
       "      <td>13hjhmw</td>\n",
       "      <td>jk5wj0v</td>\n",
       "      <td>https://www.baristahustle.com/blog/diy-water-r...</td>\n",
       "      <td>5</td>\n",
       "      <td>Josefest</td>\n",
       "    </tr>\n",
       "    <tr>\n",
       "      <th>31847</th>\n",
       "      <td>13h86yx</td>\n",
       "      <td>jk6cr7l</td>\n",
       "      <td>https://youtu.be/au92VvBYLrA</td>\n",
       "      <td>1</td>\n",
       "      <td>paulo-urbonas</td>\n",
       "    </tr>\n",
       "    <tr>\n",
       "      <th>32121</th>\n",
       "      <td>13fgl41</td>\n",
       "      <td>jjvsnp5</td>\n",
       "      <td>https://i.imgur.com/ekiK6j2.jpg\\nWhat can thes...</td>\n",
       "      <td>1</td>\n",
       "      <td>Taskolo</td>\n",
       "    </tr>\n",
       "    <tr>\n",
       "      <th>32169</th>\n",
       "      <td>13f5sqf</td>\n",
       "      <td>jk1k4n8</td>\n",
       "      <td>https://instagram.com/espressofun?igshid=ZWIzM...</td>\n",
       "      <td>1</td>\n",
       "      <td>PoJenkins</td>\n",
       "    </tr>\n",
       "  </tbody>\n",
       "</table>\n",
       "<p>107 rows × 5 columns</p>\n",
       "</div>"
      ],
      "text/plain": [
       "      thread_id comment_id                                       comment_text  \\\n",
       "80      19ambi4    kine3y5  https://regaliacoffee.com/products/rainbow-hop...   \n",
       "702     19764n9    ki2mk46  https://us.amazon.com/Coffee-Organizer-Silicon...   \n",
       "989     1950ew2    khkhzw9  https://tendropscoffee.com/\\n\\nI just picked u...   \n",
       "1457    192sur5    khotlky  https://www.oxo.com/barista-brain-9-cup-coffee...   \n",
       "1516    1935pxp    kha2kh6  https://www.reddit.com/r/FlairEspresso/s/HLKhG...   \n",
       "...         ...        ...                                                ...   \n",
       "30936   13m2h59    jksx6a7  https://iccontrols.com/faq-items/what-is-the-d...   \n",
       "31804   13hjhmw    jk5wj0v  https://www.baristahustle.com/blog/diy-water-r...   \n",
       "31847   13h86yx    jk6cr7l                       https://youtu.be/au92VvBYLrA   \n",
       "32121   13fgl41    jjvsnp5  https://i.imgur.com/ekiK6j2.jpg\\nWhat can thes...   \n",
       "32169   13f5sqf    jk1k4n8  https://instagram.com/espressofun?igshid=ZWIzM...   \n",
       "\n",
       "       comment_score    author_name  \n",
       "80                 1         ad6499  \n",
       "702                2       Vietname  \n",
       "989                1    Burninmules  \n",
       "1457               2     wasdtomove  \n",
       "1516               1        p739397  \n",
       "...              ...            ...  \n",
       "30936              1   EXTRA370H55V  \n",
       "31804              5       Josefest  \n",
       "31847              1  paulo-urbonas  \n",
       "32121              1        Taskolo  \n",
       "32169              1      PoJenkins  \n",
       "\n",
       "[107 rows x 5 columns]"
      ]
     },
     "execution_count": 25,
     "metadata": {},
     "output_type": "execute_result"
    }
   ],
   "source": [
    "# testing out the regex expression to see if we filtered out the rows correctly\n",
    "# > Illustratively: Coffee Comments\n",
    "\n",
    "url_regex = r'https?://\\S+|www\\.\\S+'\n",
    "df_coffee_comments_clean[df_coffee_comments_clean[\"comment_text\"].str.match(url_regex)]"
   ]
  },
  {
   "cell_type": "markdown",
   "metadata": {},
   "source": [
    "[] Define filtering function"
   ]
  },
  {
   "cell_type": "code",
   "execution_count": 26,
   "metadata": {},
   "outputs": [],
   "source": [
    "# define a function to filter out rows with urls and return with a blank instead\n",
    "def remove_url(text):\n",
    "    url_regex = r'https?://\\S+|www\\.\\S+'\n",
    "    return re.sub(url_regex, '', text)"
   ]
  },
  {
   "cell_type": "markdown",
   "metadata": {},
   "source": [
    "[] Apply filtering function"
   ]
  },
  {
   "cell_type": "code",
   "execution_count": 27,
   "metadata": {},
   "outputs": [],
   "source": [
    "# apply to the coffee and tea dataframes\n",
    "df_coffee_comments_clean[\"comment_text\"] = df_coffee_comments_clean[\"comment_text\"].apply(lambda x: remove_url(x))\n",
    "df_tea_comments_clean[\"comment_text\"] = df_tea_comments_clean[\"comment_text\"].apply(lambda x: remove_url(x))"
   ]
  },
  {
   "cell_type": "markdown",
   "metadata": {},
   "source": [
    "[] Check if filtering is successful\n",
    "* check again to see if any rows have been unprocessed by our function\n",
    "* should return with no results if function successfully applied to all relevant rows"
   ]
  },
  {
   "cell_type": "code",
   "execution_count": 28,
   "metadata": {},
   "outputs": [
    {
     "data": {
      "text/html": [
       "<div>\n",
       "<style scoped>\n",
       "    .dataframe tbody tr th:only-of-type {\n",
       "        vertical-align: middle;\n",
       "    }\n",
       "\n",
       "    .dataframe tbody tr th {\n",
       "        vertical-align: top;\n",
       "    }\n",
       "\n",
       "    .dataframe thead th {\n",
       "        text-align: right;\n",
       "    }\n",
       "</style>\n",
       "<table border=\"1\" class=\"dataframe\">\n",
       "  <thead>\n",
       "    <tr style=\"text-align: right;\">\n",
       "      <th></th>\n",
       "      <th>thread_id</th>\n",
       "      <th>comment_id</th>\n",
       "      <th>comment_text</th>\n",
       "      <th>comment_score</th>\n",
       "      <th>author_name</th>\n",
       "    </tr>\n",
       "  </thead>\n",
       "  <tbody>\n",
       "  </tbody>\n",
       "</table>\n",
       "</div>"
      ],
      "text/plain": [
       "Empty DataFrame\n",
       "Columns: [thread_id, comment_id, comment_text, comment_score, author_name]\n",
       "Index: []"
      ]
     },
     "execution_count": 28,
     "metadata": {},
     "output_type": "execute_result"
    }
   ],
   "source": [
    "df_coffee_comments_clean[df_coffee_comments_clean['comment_text'].str.match(url_regex)]"
   ]
  },
  {
   "cell_type": "code",
   "execution_count": 29,
   "metadata": {},
   "outputs": [
    {
     "data": {
      "text/html": [
       "<div>\n",
       "<style scoped>\n",
       "    .dataframe tbody tr th:only-of-type {\n",
       "        vertical-align: middle;\n",
       "    }\n",
       "\n",
       "    .dataframe tbody tr th {\n",
       "        vertical-align: top;\n",
       "    }\n",
       "\n",
       "    .dataframe thead th {\n",
       "        text-align: right;\n",
       "    }\n",
       "</style>\n",
       "<table border=\"1\" class=\"dataframe\">\n",
       "  <thead>\n",
       "    <tr style=\"text-align: right;\">\n",
       "      <th></th>\n",
       "      <th>thread_id</th>\n",
       "      <th>comment_id</th>\n",
       "      <th>comment_text</th>\n",
       "      <th>comment_score</th>\n",
       "      <th>author_name</th>\n",
       "    </tr>\n",
       "  </thead>\n",
       "  <tbody>\n",
       "  </tbody>\n",
       "</table>\n",
       "</div>"
      ],
      "text/plain": [
       "Empty DataFrame\n",
       "Columns: [thread_id, comment_id, comment_text, comment_score, author_name]\n",
       "Index: []"
      ]
     },
     "execution_count": 29,
     "metadata": {},
     "output_type": "execute_result"
    }
   ],
   "source": [
    "df_tea_comments_clean[df_tea_comments_clean['comment_text'].str.match(url_regex)]"
   ]
  },
  {
   "cell_type": "markdown",
   "metadata": {},
   "source": [
    "<b> (f) Removal of comments posted by AutoModerator</b>\n",
    "\n",
    "We do not want them because they are not posted by the users of the subreddit, and hence not useful in sentiment analysis or modelling"
   ]
  },
  {
   "cell_type": "markdown",
   "metadata": {},
   "source": [
    "[] Apply filtering"
   ]
  },
  {
   "cell_type": "code",
   "execution_count": 30,
   "metadata": {},
   "outputs": [],
   "source": [
    "# only save comment rows that are not posted by automoderator\n",
    "df_coffee_comments_clean = df_coffee_comments_clean[df_coffee_comments_clean[\"author_name\"] != \"AutoModerator\"]\n",
    "df_tea_comments_clean = df_tea_comments_clean[df_tea_comments_clean[\"author_name\"] != \"AutoModerator\"]"
   ]
  },
  {
   "cell_type": "markdown",
   "metadata": {},
   "source": [
    "[] Check if filtering is successful\n",
    "* sanity check on updated dataframe to see if any comments by automoderator left"
   ]
  },
  {
   "cell_type": "code",
   "execution_count": 31,
   "metadata": {},
   "outputs": [
    {
     "data": {
      "text/html": [
       "<div>\n",
       "<style scoped>\n",
       "    .dataframe tbody tr th:only-of-type {\n",
       "        vertical-align: middle;\n",
       "    }\n",
       "\n",
       "    .dataframe tbody tr th {\n",
       "        vertical-align: top;\n",
       "    }\n",
       "\n",
       "    .dataframe thead th {\n",
       "        text-align: right;\n",
       "    }\n",
       "</style>\n",
       "<table border=\"1\" class=\"dataframe\">\n",
       "  <thead>\n",
       "    <tr style=\"text-align: right;\">\n",
       "      <th></th>\n",
       "      <th>thread_id</th>\n",
       "      <th>comment_id</th>\n",
       "      <th>comment_text</th>\n",
       "      <th>comment_score</th>\n",
       "      <th>author_name</th>\n",
       "    </tr>\n",
       "  </thead>\n",
       "  <tbody>\n",
       "  </tbody>\n",
       "</table>\n",
       "</div>"
      ],
      "text/plain": [
       "Empty DataFrame\n",
       "Columns: [thread_id, comment_id, comment_text, comment_score, author_name]\n",
       "Index: []"
      ]
     },
     "execution_count": 31,
     "metadata": {},
     "output_type": "execute_result"
    }
   ],
   "source": [
    "df_coffee_comments_clean[df_coffee_comments_clean[\"author_name\"] == \"AutoModerator\"]"
   ]
  },
  {
   "cell_type": "code",
   "execution_count": 32,
   "metadata": {},
   "outputs": [
    {
     "data": {
      "text/html": [
       "<div>\n",
       "<style scoped>\n",
       "    .dataframe tbody tr th:only-of-type {\n",
       "        vertical-align: middle;\n",
       "    }\n",
       "\n",
       "    .dataframe tbody tr th {\n",
       "        vertical-align: top;\n",
       "    }\n",
       "\n",
       "    .dataframe thead th {\n",
       "        text-align: right;\n",
       "    }\n",
       "</style>\n",
       "<table border=\"1\" class=\"dataframe\">\n",
       "  <thead>\n",
       "    <tr style=\"text-align: right;\">\n",
       "      <th></th>\n",
       "      <th>thread_id</th>\n",
       "      <th>comment_id</th>\n",
       "      <th>comment_text</th>\n",
       "      <th>comment_score</th>\n",
       "      <th>author_name</th>\n",
       "    </tr>\n",
       "  </thead>\n",
       "  <tbody>\n",
       "  </tbody>\n",
       "</table>\n",
       "</div>"
      ],
      "text/plain": [
       "Empty DataFrame\n",
       "Columns: [thread_id, comment_id, comment_text, comment_score, author_name]\n",
       "Index: []"
      ]
     },
     "execution_count": 32,
     "metadata": {},
     "output_type": "execute_result"
    }
   ],
   "source": [
    "df_tea_comments_clean[df_tea_comments_clean[\"author_name\"] == \"AutoModerator\"]"
   ]
  },
  {
   "cell_type": "markdown",
   "metadata": {},
   "source": [
    "<b> (g) Removal of comments posted by Bots</b>\n",
    "\n",
    "* A review of the data shows that there are comments posted by bots\n",
    "* We do not want them because they are not posted by the users of the subreddit, and hence not useful in sentiment analysis or modelling"
   ]
  },
  {
   "cell_type": "code",
   "execution_count": 33,
   "metadata": {},
   "outputs": [],
   "source": [
    "# remove comments from bots\n",
    "\n",
    "bot_list = [\"alphabet_order_bot\", \n",
    "            \"Booty_Warrior_bot\", \n",
    "            \"VettedBot\", \n",
    "            \"TheGratitudeBot\", \n",
    "            \"exclaim_bot\",\n",
    "            \"FakespotAnalysisBot\",\n",
    "            \"RemindMeBot\",\n",
    "            \"sneakpeekbot\",\n",
    "            \"subredditsummarybot\",\n",
    "            \"of_patrol_bot\",\n",
    "            \"SexPanther_Bot\",\n",
    "            \"lerobinbot\"]\n",
    "\n",
    "for bot in bot_list: \n",
    "    df_coffee_comments_clean = df_coffee_comments_clean.drop(df_coffee_comments_clean.loc[(df_coffee_comments_clean[\"author_name\"] == bot),:].index , axis=0)\n",
    "    df_tea_comments_clean = df_tea_comments_clean.drop(df_tea_comments_clean.loc[(df_tea_comments_clean[\"author_name\"] == bot),:].index , axis=0)"
   ]
  },
  {
   "cell_type": "code",
   "execution_count": 34,
   "metadata": {},
   "outputs": [
    {
     "name": "stdout",
     "output_type": "stream",
     "text": [
      "Coffee - Comments: n(rows) = 31227\n",
      "Tea - Comments: n(rows) = 12201\n"
     ]
    }
   ],
   "source": [
    "# print no. of df rows\n",
    "print(\"Coffee - Comments: n(rows) =\", df_coffee_comments_clean.shape[0])\n",
    "print(\"Tea - Comments: n(rows) =\", df_tea_comments_clean.shape[0])"
   ]
  },
  {
   "cell_type": "markdown",
   "metadata": {},
   "source": [
    "<b> (h) Removal of rows with \"blank\" comments </b>\n",
    "\n",
    "This sub-section: \n",
    "* first checks for and examines the nature of rows with empty/blank comments\n",
    "* removes any rows with empty/blank comments"
   ]
  },
  {
   "cell_type": "code",
   "execution_count": 35,
   "metadata": {},
   "outputs": [
    {
     "name": "stdout",
     "output_type": "stream",
     "text": [
      "Coffee comments - no. of empty comments: 0\n",
      "Tea comments - no. of empty comments: 0\n"
     ]
    }
   ],
   "source": [
    "print(\"Coffee comments - no. of empty comments:\", df_coffee_comments_clean[\"comment_text\"].isnull().sum())\n",
    "print(\"Tea comments - no. of empty comments:\", df_tea_comments_clean[\"comment_text\"].isnull().sum())"
   ]
  },
  {
   "cell_type": "markdown",
   "metadata": {},
   "source": [
    "<b>(i) Review : Dataframe Row Counts</b>"
   ]
  },
  {
   "cell_type": "code",
   "execution_count": 36,
   "metadata": {},
   "outputs": [
    {
     "name": "stdout",
     "output_type": "stream",
     "text": [
      "Coffee - Threads: n(rows) = 649\n",
      "Coffee - Comments: n(rows) = 31227\n",
      "\n",
      "Tea - Threads: n(rows) = 959\n",
      "Tea - Comments: n(rows) = 12201\n"
     ]
    }
   ],
   "source": [
    "# print: no. of df rows\n",
    "print(\"Coffee - Threads: n(rows) =\", df_coffee_threads_clean.shape[0])\n",
    "print(\"Coffee - Comments: n(rows) =\", df_coffee_comments_clean.shape[0])\n",
    "print(\"\")\n",
    "print(\"Tea - Threads: n(rows) =\", df_tea_threads_clean.shape[0])\n",
    "print(\"Tea - Comments: n(rows) =\", df_tea_comments_clean.shape[0])"
   ]
  },
  {
   "cell_type": "markdown",
   "metadata": {},
   "source": [
    "\n",
    "---\n",
    "\n",
    "### Part 4. Merge Comments & Threads Dataframes\n",
    "\n",
    "Overview of Dataframes:\n",
    "* `df_coffee_comments_clean`, `df_tea_comments_clean` : dataframes that contain only rows with cleaned/useful comment text \n",
    "* `df_coffee_threads_clean`, `df_tea_threads_clean` : updated dataframes but may contain threads that we deemed not useful and have dropped off\n",
    "\n",
    "Overview of Merging Process:\n",
    "* Objective: produce coffee, tea \"comments\" datasets with accompanying thread info\n",
    "* We will do a _left merge_ \"threads_clean\" [Right] onto \"comments_clean\" [Left] based on \"thread_id\", so that rows that are not in our cleaned comment dataframe will be excluded \n",
    "* This also helps us to map thread information to each comment so that we can further categorize comments based on which thread they belong to."
   ]
  },
  {
   "cell_type": "markdown",
   "metadata": {},
   "source": [
    "[] Perform merging"
   ]
  },
  {
   "cell_type": "code",
   "execution_count": 37,
   "metadata": {},
   "outputs": [],
   "source": [
    "# perform merging\n",
    "df_coffee_comments_clean_merged = pd.merge(df_coffee_comments_clean, df_coffee_threads_clean, left_on='thread_id', right_on='id', how='left', suffixes=('', '_thread'))\n",
    "df_tea_comments_clean_merged = pd.merge(df_tea_comments_clean, df_tea_threads_clean, left_on='thread_id', right_on='id', how='left', suffixes=('', '_thread'))"
   ]
  },
  {
   "cell_type": "markdown",
   "metadata": {},
   "source": [
    "[] Check: no. of comments & associated threads in each dataframe"
   ]
  },
  {
   "cell_type": "code",
   "execution_count": 38,
   "metadata": {},
   "outputs": [
    {
     "name": "stdout",
     "output_type": "stream",
     "text": [
      "Dataset: coffee\n",
      "No. of comments: 31227\n",
      "No. of threads: 633\n",
      "Average no. of comments per thread: 49.33\n",
      "\n",
      "Dataset: tea\n",
      "No. of comments: 12201\n",
      "No. of threads: 878\n",
      "Average no. of comments per thread: 13.9\n",
      "\n"
     ]
    }
   ],
   "source": [
    "# Obtain thread/comments stats\n",
    "\n",
    "df_dict = {\"Dataset: coffee\":df_coffee_comments_clean_merged,\n",
    "           \"Dataset: tea\":df_tea_comments_clean_merged}\n",
    "\n",
    "for desc,df in df_dict.items():\n",
    "\n",
    "    print(desc)\n",
    "    \n",
    "    # 1. No. of comments\n",
    "    print(\"No. of comments:\", round(df.shape[0],2))\n",
    "\n",
    "    # 2. No. of threads\n",
    "    print(\"No. of threads:\", df[\"thread_id\"].nunique())\n",
    "\n",
    "    # 3. Ave. no. of comments per thread\n",
    "    print(\"Average no. of comments per thread:\", round(df.groupby(by=\"thread_id\")[\"comment_id\"].count().mean(),2))\n",
    "    print(\"\")"
   ]
  },
  {
   "cell_type": "markdown",
   "metadata": {},
   "source": [
    "[] Check: rows and columns, to assess if merge was performed appropriately"
   ]
  },
  {
   "cell_type": "code",
   "execution_count": 39,
   "metadata": {},
   "outputs": [
    {
     "data": {
      "text/html": [
       "<div>\n",
       "<style scoped>\n",
       "    .dataframe tbody tr th:only-of-type {\n",
       "        vertical-align: middle;\n",
       "    }\n",
       "\n",
       "    .dataframe tbody tr th {\n",
       "        vertical-align: top;\n",
       "    }\n",
       "\n",
       "    .dataframe thead th {\n",
       "        text-align: right;\n",
       "    }\n",
       "</style>\n",
       "<table border=\"1\" class=\"dataframe\">\n",
       "  <thead>\n",
       "    <tr style=\"text-align: right;\">\n",
       "      <th></th>\n",
       "      <th>thread_id</th>\n",
       "      <th>comment_id</th>\n",
       "      <th>comment_text</th>\n",
       "      <th>comment_score</th>\n",
       "      <th>author_name</th>\n",
       "      <th>id</th>\n",
       "      <th>title</th>\n",
       "      <th>score</th>\n",
       "      <th>num_comments</th>\n",
       "      <th>post_hint</th>\n",
       "      <th>self_text</th>\n",
       "      <th>author_name_thread</th>\n",
       "      <th>url</th>\n",
       "      <th>url_is_media</th>\n",
       "    </tr>\n",
       "  </thead>\n",
       "  <tbody>\n",
       "    <tr>\n",
       "      <th>0</th>\n",
       "      <td>19agk2c</td>\n",
       "      <td>kikp8lv</td>\n",
       "      <td>Hi! I’m a morning coffee drinker but I never m...</td>\n",
       "      <td>2</td>\n",
       "      <td>testingpage2025</td>\n",
       "      <td>19agk2c</td>\n",
       "      <td>[MOD] The Daily Question Thread</td>\n",
       "      <td>2</td>\n",
       "      <td>58</td>\n",
       "      <td>NaN</td>\n",
       "      <td>\\n\\nWelcome to the daily [/r/Coffee](https://...</td>\n",
       "      <td>menschmaschine5</td>\n",
       "      <td>https://www.reddit.com/r/Coffee/comments/19agk...</td>\n",
       "      <td>0</td>\n",
       "    </tr>\n",
       "    <tr>\n",
       "      <th>1</th>\n",
       "      <td>19agk2c</td>\n",
       "      <td>kikxhmz</td>\n",
       "      <td>Any Scooters employees around? I need to know ...</td>\n",
       "      <td>2</td>\n",
       "      <td>Ok_Bet_2634</td>\n",
       "      <td>19agk2c</td>\n",
       "      <td>[MOD] The Daily Question Thread</td>\n",
       "      <td>2</td>\n",
       "      <td>58</td>\n",
       "      <td>NaN</td>\n",
       "      <td>\\n\\nWelcome to the daily [/r/Coffee](https://...</td>\n",
       "      <td>menschmaschine5</td>\n",
       "      <td>https://www.reddit.com/r/Coffee/comments/19agk...</td>\n",
       "      <td>0</td>\n",
       "    </tr>\n",
       "    <tr>\n",
       "      <th>2</th>\n",
       "      <td>19agk2c</td>\n",
       "      <td>kinuq9z</td>\n",
       "      <td>Do any of you ever get “too lazy” to make coff...</td>\n",
       "      <td>2</td>\n",
       "      <td>angelsandairwaves93</td>\n",
       "      <td>19agk2c</td>\n",
       "      <td>[MOD] The Daily Question Thread</td>\n",
       "      <td>2</td>\n",
       "      <td>58</td>\n",
       "      <td>NaN</td>\n",
       "      <td>\\n\\nWelcome to the daily [/r/Coffee](https://...</td>\n",
       "      <td>menschmaschine5</td>\n",
       "      <td>https://www.reddit.com/r/Coffee/comments/19agk...</td>\n",
       "      <td>0</td>\n",
       "    </tr>\n",
       "    <tr>\n",
       "      <th>3</th>\n",
       "      <td>19agk2c</td>\n",
       "      <td>kil6vl0</td>\n",
       "      <td>I can't find a pumpkin spice latte recipe that...</td>\n",
       "      <td>1</td>\n",
       "      <td>automirage04</td>\n",
       "      <td>19agk2c</td>\n",
       "      <td>[MOD] The Daily Question Thread</td>\n",
       "      <td>2</td>\n",
       "      <td>58</td>\n",
       "      <td>NaN</td>\n",
       "      <td>\\n\\nWelcome to the daily [/r/Coffee](https://...</td>\n",
       "      <td>menschmaschine5</td>\n",
       "      <td>https://www.reddit.com/r/Coffee/comments/19agk...</td>\n",
       "      <td>0</td>\n",
       "    </tr>\n",
       "    <tr>\n",
       "      <th>4</th>\n",
       "      <td>19agk2c</td>\n",
       "      <td>kilaorz</td>\n",
       "      <td>Hey all! I live in Costa Rica and regularly bu...</td>\n",
       "      <td>1</td>\n",
       "      <td>chuvakinfinity</td>\n",
       "      <td>19agk2c</td>\n",
       "      <td>[MOD] The Daily Question Thread</td>\n",
       "      <td>2</td>\n",
       "      <td>58</td>\n",
       "      <td>NaN</td>\n",
       "      <td>\\n\\nWelcome to the daily [/r/Coffee](https://...</td>\n",
       "      <td>menschmaschine5</td>\n",
       "      <td>https://www.reddit.com/r/Coffee/comments/19agk...</td>\n",
       "      <td>0</td>\n",
       "    </tr>\n",
       "  </tbody>\n",
       "</table>\n",
       "</div>"
      ],
      "text/plain": [
       "  thread_id comment_id                                       comment_text  \\\n",
       "0   19agk2c    kikp8lv  Hi! I’m a morning coffee drinker but I never m...   \n",
       "1   19agk2c    kikxhmz  Any Scooters employees around? I need to know ...   \n",
       "2   19agk2c    kinuq9z  Do any of you ever get “too lazy” to make coff...   \n",
       "3   19agk2c    kil6vl0  I can't find a pumpkin spice latte recipe that...   \n",
       "4   19agk2c    kilaorz  Hey all! I live in Costa Rica and regularly bu...   \n",
       "\n",
       "   comment_score          author_name       id  \\\n",
       "0              2      testingpage2025  19agk2c   \n",
       "1              2          Ok_Bet_2634  19agk2c   \n",
       "2              2  angelsandairwaves93  19agk2c   \n",
       "3              1         automirage04  19agk2c   \n",
       "4              1       chuvakinfinity  19agk2c   \n",
       "\n",
       "                             title  score  num_comments post_hint  \\\n",
       "0  [MOD] The Daily Question Thread      2            58       NaN   \n",
       "1  [MOD] The Daily Question Thread      2            58       NaN   \n",
       "2  [MOD] The Daily Question Thread      2            58       NaN   \n",
       "3  [MOD] The Daily Question Thread      2            58       NaN   \n",
       "4  [MOD] The Daily Question Thread      2            58       NaN   \n",
       "\n",
       "                                           self_text author_name_thread  \\\n",
       "0   \\n\\nWelcome to the daily [/r/Coffee](https://...    menschmaschine5   \n",
       "1   \\n\\nWelcome to the daily [/r/Coffee](https://...    menschmaschine5   \n",
       "2   \\n\\nWelcome to the daily [/r/Coffee](https://...    menschmaschine5   \n",
       "3   \\n\\nWelcome to the daily [/r/Coffee](https://...    menschmaschine5   \n",
       "4   \\n\\nWelcome to the daily [/r/Coffee](https://...    menschmaschine5   \n",
       "\n",
       "                                                 url  url_is_media  \n",
       "0  https://www.reddit.com/r/Coffee/comments/19agk...             0  \n",
       "1  https://www.reddit.com/r/Coffee/comments/19agk...             0  \n",
       "2  https://www.reddit.com/r/Coffee/comments/19agk...             0  \n",
       "3  https://www.reddit.com/r/Coffee/comments/19agk...             0  \n",
       "4  https://www.reddit.com/r/Coffee/comments/19agk...             0  "
      ]
     },
     "execution_count": 39,
     "metadata": {},
     "output_type": "execute_result"
    }
   ],
   "source": [
    "# check rows and columns if merge is done appropriately\n",
    "# > Illustratively: Coffee Comments\n",
    "df_coffee_comments_clean_merged.head()"
   ]
  },
  {
   "cell_type": "markdown",
   "metadata": {},
   "source": [
    "\n",
    "---\n",
    "\n",
    "### Part 5. Save Cleaned Merged Dataframes as CSV Files "
   ]
  },
  {
   "cell_type": "code",
   "execution_count": 40,
   "metadata": {},
   "outputs": [],
   "source": [
    "df_coffee_comments_clean_merged.to_csv(\"data/coffee_comments_clean_merged.csv\", index=False)\n",
    "df_tea_comments_clean_merged.to_csv(\"data/tea_comments_clean_merged.csv\", index=False)"
   ]
  }
 ],
 "metadata": {
  "anaconda-cloud": {},
  "kernelspec": {
   "display_name": "Python 3 (ipykernel)",
   "language": "python",
   "name": "python3"
  },
  "language_info": {
   "codemirror_mode": {
    "name": "ipython",
    "version": 3
   },
   "file_extension": ".py",
   "mimetype": "text/x-python",
   "name": "python",
   "nbconvert_exporter": "python",
   "pygments_lexer": "ipython3",
   "version": "3.11.5"
  }
 },
 "nbformat": 4,
 "nbformat_minor": 4
}
