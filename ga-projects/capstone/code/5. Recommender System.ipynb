{
 "cells": [
  {
   "cell_type": "markdown",
   "metadata": {},
   "source": [
    "# ![](https://ga-dash.s3.amazonaws.com/production/assets/logo-9f88ae6c9c3871690e33280fcf557f33.png) Capstone Project: Donor Leads through Networks"
   ]
  },
  {
   "cell_type": "markdown",
   "metadata": {},
   "source": [
    "\n",
    "--- \n",
    "\n",
    "By: Wenzhe\n",
    "\n",
    "## Recommender System\n",
    "\n",
    "### Overview\n",
    "\n",
    "The notebook serves to build a recommender system for the problem statement: to provide new donor leads for a given organisation. It also builds some of the necessary code for the demo.\n",
    "\n",
    "### Notebook Structure\n",
    "\n",
    "* [Part 1: Setup](#part-1-eda)\n",
    "* [Part 2: Item-Based Recommender](#part-2-item-based-recommender)\n",
    "* [Part 3: Network Based](#part-3-network-based-recommender)\n",
    "* [Part 4: Visualising Recommendations](#part-4-visualising-recommendations)\n",
    "* [Part 5: Conclusion](#part-5-conclusion)\n",
    "\n",
    "---"
   ]
  },
  {
   "cell_type": "markdown",
   "metadata": {},
   "source": [
    "## Part 1: Setup"
   ]
  },
  {
   "cell_type": "markdown",
   "metadata": {},
   "source": [
    "#### Import Libraries"
   ]
  },
  {
   "cell_type": "code",
   "execution_count": 1,
   "metadata": {},
   "outputs": [
    {
     "data": {
      "text/html": [
       "\n",
       "\t\t\t<script type=\"text/javascript\">\n",
       "\t\t\t<!--\n",
       "\t\t\t\t\n",
       "\t\t\t{\n",
       "\t\t\t\tvar element = document.getElementById('NetworKit_script');\n",
       "\t\t\t\tif (element) {\n",
       "\t\t\t\t\telement.parentNode.removeChild(element);\n",
       "\t\t\t\t}\n",
       "\t\t\t\telement = document.createElement('script');\n",
       "\t\t\t\telement.type = 'text/javascript';\n",
       "\t\t\t\telement.innerHTML = 'function NetworKit_pageEmbed(id) { var i, j; var elements; elements = document.getElementById(id).getElementsByClassName(\"Plot\"); for (i=0; i<elements.length; i++) { elements[i].id = id + \"_Plot_\" + i; var data = elements[i].getAttribute(\"data-image\").split(\"|\"); elements[i].removeAttribute(\"data-image\"); var content = \"<div class=\\\\\"Image\\\\\" id=\\\\\"\" + elements[i].id + \"_Image\\\\\" />\"; elements[i].innerHTML = content; elements[i].setAttribute(\"data-image-index\", 0); elements[i].setAttribute(\"data-image-length\", data.length); for (j=0; j<data.length; j++) { elements[i].setAttribute(\"data-image-\" + j, data[j]); } NetworKit_plotUpdate(elements[i]); elements[i].onclick = function (e) { NetworKit_overlayShow((e.target) ? e.target : e.srcElement); } } elements = document.getElementById(id).getElementsByClassName(\"HeatCell\"); for (i=0; i<elements.length; i++) { var data = parseFloat(elements[i].getAttribute(\"data-heat\")); var color = \"#00FF00\"; if (data <= 1 && data > 0) { color = \"hsla(0, 100%, 75%, \" + (data) + \")\"; } else if (data <= 0 && data >= -1) { color = \"hsla(240, 100%, 75%, \" + (-data) + \")\"; } elements[i].style.backgroundColor = color; } elements = document.getElementById(id).getElementsByClassName(\"Details\"); for (i=0; i<elements.length; i++) { elements[i].setAttribute(\"data-title\", \"-\"); NetworKit_toggleDetails(elements[i]); elements[i].onclick = function (e) { NetworKit_toggleDetails((e.target) ? e.target : e.srcElement); } } elements = document.getElementById(id).getElementsByClassName(\"MathValue\"); for (i=elements.length-1; i>=0; i--) { value = elements[i].innerHTML.trim(); if (value === \"nan\") { elements[i].parentNode.innerHTML = \"\" } } elements = document.getElementById(id).getElementsByClassName(\"SubCategory\"); for (i=elements.length-1; i>=0; i--) { value = elements[i].innerHTML.trim(); if (value === \"\") { elements[i].parentNode.removeChild(elements[i]) } } elements = document.getElementById(id).getElementsByClassName(\"Category\"); for (i=elements.length-1; i>=0; i--) { value = elements[i].innerHTML.trim(); if (value === \"\") { elements[i].parentNode.removeChild(elements[i]) } } var isFirefox = false; try { isFirefox = typeof InstallTrigger !== \"undefined\"; } catch (e) {} if (!isFirefox) { alert(\"Currently the function\\'s output is only fully supported by Firefox.\"); } } function NetworKit_plotUpdate(source) { var index = source.getAttribute(\"data-image-index\"); var data = source.getAttribute(\"data-image-\" + index); var image = document.getElementById(source.id + \"_Image\"); image.style.backgroundImage = \"url(\" + data + \")\"; } function NetworKit_showElement(id, show) { var element = document.getElementById(id); element.style.display = (show) ? \"block\" : \"none\"; } function NetworKit_overlayShow(source) { NetworKit_overlayUpdate(source); NetworKit_showElement(\"NetworKit_Overlay\", true); } function NetworKit_overlayUpdate(source) { document.getElementById(\"NetworKit_Overlay_Title\").innerHTML = source.title; var index = source.getAttribute(\"data-image-index\"); var data = source.getAttribute(\"data-image-\" + index); var image = document.getElementById(\"NetworKit_Overlay_Image\"); image.setAttribute(\"data-id\", source.id); image.style.backgroundImage = \"url(\" + data + \")\"; var link = document.getElementById(\"NetworKit_Overlay_Toolbar_Bottom_Save\"); link.href = data; link.download = source.title + \".svg\"; } function NetworKit_overlayImageShift(delta) { var image = document.getElementById(\"NetworKit_Overlay_Image\"); var source = document.getElementById(image.getAttribute(\"data-id\")); var index = parseInt(source.getAttribute(\"data-image-index\")); var length = parseInt(source.getAttribute(\"data-image-length\")); var index = (index+delta) % length; if (index < 0) { index = length + index; } source.setAttribute(\"data-image-index\", index); NetworKit_overlayUpdate(source); } function NetworKit_toggleDetails(source) { var childs = source.children; var show = false; if (source.getAttribute(\"data-title\") == \"-\") { source.setAttribute(\"data-title\", \"+\"); show = false; } else { source.setAttribute(\"data-title\", \"-\"); show = true; } for (i=0; i<childs.length; i++) { if (show) { childs[i].style.display = \"block\"; } else { childs[i].style.display = \"none\"; } } }';\n",
       "\t\t\t\telement.setAttribute('id', 'NetworKit_script');\n",
       "\t\t\t\tdocument.head.appendChild(element);\n",
       "\t\t\t}\n",
       "\t\t\n",
       "\t\t\t\t\n",
       "\t\t\t{\n",
       "\t\t\t\tvar element = document.getElementById('NetworKit_style');\n",
       "\t\t\t\tif (element) {\n",
       "\t\t\t\t\telement.parentNode.removeChild(element);\n",
       "\t\t\t\t}\n",
       "\t\t\t\telement = document.createElement('style');\n",
       "\t\t\t\telement.type = 'text/css';\n",
       "\t\t\t\telement.innerHTML = '.NetworKit_Page { font-family: Arial, Helvetica, sans-serif; font-size: 14px; } .NetworKit_Page .Value:before { font-family: Arial, Helvetica, sans-serif; font-size: 1.05em; content: attr(data-title) \":\"; margin-left: -2.5em; padding-right: 0.5em; } .NetworKit_Page .Details .Value:before { display: block; } .NetworKit_Page .Value { font-family: monospace; white-space: pre; padding-left: 2.5em; white-space: -moz-pre-wrap !important; white-space: -pre-wrap; white-space: -o-pre-wrap; white-space: pre-wrap; word-wrap: break-word; tab-size: 4; -moz-tab-size: 4; } .NetworKit_Page .Category { clear: both; padding-left: 1em; margin-bottom: 1.5em; } .NetworKit_Page .Category:before { content: attr(data-title); font-size: 1.75em; display: block; margin-left: -0.8em; margin-bottom: 0.5em; } .NetworKit_Page .SubCategory { margin-bottom: 1.5em; padding-left: 1em; } .NetworKit_Page .SubCategory:before { font-size: 1.6em; display: block; margin-left: -0.8em; margin-bottom: 0.5em; } .NetworKit_Page .SubCategory[data-title]:before { content: attr(data-title); } .NetworKit_Page .Block { display: block; } .NetworKit_Page .Block:after { content: \".\"; visibility: hidden; display: block; height: 0; clear: both; } .NetworKit_Page .Block .Thumbnail_Overview, .NetworKit_Page .Block .Thumbnail_ScatterPlot { width: 260px; float: left; } .NetworKit_Page .Block .Thumbnail_Overview img, .NetworKit_Page .Block .Thumbnail_ScatterPlot img { width: 260px; } .NetworKit_Page .Block .Thumbnail_Overview:before, .NetworKit_Page .Block .Thumbnail_ScatterPlot:before { display: block; text-align: center; font-weight: bold; } .NetworKit_Page .Block .Thumbnail_Overview:before { content: attr(data-title); } .NetworKit_Page .HeatCell { font-family: \"Courier New\", Courier, monospace; cursor: pointer; } .NetworKit_Page .HeatCell, .NetworKit_Page .HeatCellName { display: inline; padding: 0.1em; margin-right: 2px; background-color: #FFFFFF } .NetworKit_Page .HeatCellName { margin-left: 0.25em; } .NetworKit_Page .HeatCell:before { content: attr(data-heat); display: inline-block; color: #000000; width: 4em; text-align: center; } .NetworKit_Page .Measure { clear: both; } .NetworKit_Page .Measure .Details { cursor: pointer; } .NetworKit_Page .Measure .Details:before { content: \"[\" attr(data-title) \"]\"; display: block; } .NetworKit_Page .Measure .Details .Value { border-left: 1px dotted black; margin-left: 0.4em; padding-left: 3.5em; pointer-events: none; } .NetworKit_Page .Measure .Details .Spacer:before { content: \".\"; opacity: 0.0; pointer-events: none; } .NetworKit_Page .Measure .Plot { width: 440px; height: 440px; cursor: pointer; float: left; margin-left: -0.9em; margin-right: 20px; } .NetworKit_Page .Measure .Plot .Image { background-repeat: no-repeat; background-position: center center; background-size: contain; height: 100%; pointer-events: none; } .NetworKit_Page .Measure .Stat { width: 500px; float: left; } .NetworKit_Page .Measure .Stat .Group { padding-left: 1.25em; margin-bottom: 0.75em; } .NetworKit_Page .Measure .Stat .Group .Title { font-size: 1.1em; display: block; margin-bottom: 0.3em; margin-left: -0.75em; border-right-style: dotted; border-right-width: 1px; border-bottom-style: dotted; border-bottom-width: 1px; background-color: #D0D0D0; padding-left: 0.2em; } .NetworKit_Page .Measure .Stat .Group .List { -webkit-column-count: 3; -moz-column-count: 3; column-count: 3; } .NetworKit_Page .Measure .Stat .Group .List .Entry { position: relative; line-height: 1.75em; } .NetworKit_Page .Measure .Stat .Group .List .Entry[data-tooltip]:before { position: absolute; left: 0; top: -40px; background-color: #808080; color: #ffffff; height: 30px; line-height: 30px; border-radius: 5px; padding: 0 15px; content: attr(data-tooltip); white-space: nowrap; display: none; } .NetworKit_Page .Measure .Stat .Group .List .Entry[data-tooltip]:after { position: absolute; left: 15px; top: -10px; border-top: 7px solid #808080; border-left: 7px solid transparent; border-right: 7px solid transparent; content: \"\"; display: none; } .NetworKit_Page .Measure .Stat .Group .List .Entry[data-tooltip]:hover:after, .NetworKit_Page .Measure .Stat .Group .List .Entry[data-tooltip]:hover:before { display: block; } .NetworKit_Page .Measure .Stat .Group .List .Entry .MathValue { font-family: \"Courier New\", Courier, monospace; } .NetworKit_Page .Measure:after { content: \".\"; visibility: hidden; display: block; height: 0; clear: both; } .NetworKit_Page .PartitionPie { clear: both; } .NetworKit_Page .PartitionPie img { width: 600px; } #NetworKit_Overlay { left: 0px; top: 0px; display: none; position: absolute; width: 100%; height: 100%; background-color: rgba(0,0,0,0.6); z-index: 1000; } #NetworKit_Overlay_Title { position: absolute; color: white; transform: rotate(-90deg); width: 32em; height: 32em; padding-right: 0.5em; padding-top: 0.5em; text-align: right; font-size: 40px; } #NetworKit_Overlay .button { background: white; cursor: pointer; } #NetworKit_Overlay .button:before { size: 13px; display: inline-block; text-align: center; margin-top: 0.5em; margin-bottom: 0.5em; width: 1.5em; height: 1.5em; } #NetworKit_Overlay .icon-close:before { content: \"X\"; } #NetworKit_Overlay .icon-previous:before { content: \"P\"; } #NetworKit_Overlay .icon-next:before { content: \"N\"; } #NetworKit_Overlay .icon-save:before { content: \"S\"; } #NetworKit_Overlay_Toolbar_Top, #NetworKit_Overlay_Toolbar_Bottom { position: absolute; width: 40px; right: 13px; text-align: right; z-index: 1100; } #NetworKit_Overlay_Toolbar_Top { top: 0.5em; } #NetworKit_Overlay_Toolbar_Bottom { Bottom: 0.5em; } #NetworKit_Overlay_ImageContainer { position: absolute; top: 5%; left: 5%; height: 90%; width: 90%; background-repeat: no-repeat; background-position: center center; background-size: contain; } #NetworKit_Overlay_Image { height: 100%; width: 100%; background-repeat: no-repeat; background-position: center center; background-size: contain; }';\n",
       "\t\t\t\telement.setAttribute('id', 'NetworKit_style');\n",
       "\t\t\t\tdocument.head.appendChild(element);\n",
       "\t\t\t}\n",
       "\t\t\n",
       "\t\t\t\t\n",
       "\t\t\t{\n",
       "\t\t\t\tvar element = document.getElementById('NetworKit_Overlay');\n",
       "\t\t\t\tif (element) {\n",
       "\t\t\t\t\telement.parentNode.removeChild(element);\n",
       "\t\t\t\t}\n",
       "\t\t\t\telement = document.createElement('div');\n",
       "\t\t\t\telement.innerHTML = '<div id=\"NetworKit_Overlay_Toolbar_Top\"><div class=\"button icon-close\" id=\"NetworKit_Overlay_Close\" /></div><div id=\"NetworKit_Overlay_Title\" /> <div id=\"NetworKit_Overlay_ImageContainer\"> <div id=\"NetworKit_Overlay_Image\" /> </div> <div id=\"NetworKit_Overlay_Toolbar_Bottom\"> <div class=\"button icon-previous\" onclick=\"NetworKit_overlayImageShift(-1)\" /> <div class=\"button icon-next\" onclick=\"NetworKit_overlayImageShift(1)\" /> <a id=\"NetworKit_Overlay_Toolbar_Bottom_Save\"><div class=\"button icon-save\" /></a> </div>';\n",
       "\t\t\t\telement.setAttribute('id', 'NetworKit_Overlay');\n",
       "\t\t\t\tdocument.body.appendChild(element);\n",
       "\t\t\t\tdocument.getElementById('NetworKit_Overlay_Close').onclick = function (e) {\n",
       "\t\t\t\t\tdocument.getElementById('NetworKit_Overlay').style.display = 'none';\n",
       "\t\t\t\t}\n",
       "\t\t\t}\n",
       "\t\t\n",
       "\t\t\t-->\n",
       "\t\t\t</script>\n",
       "\t\t"
      ]
     },
     "metadata": {},
     "output_type": "display_data"
    }
   ],
   "source": [
    "import pandas as pd\n",
    "import matplotlib.pyplot as plt\n",
    "import numpy as np\n",
    "import seaborn as sns\n",
    "\n",
    "# NetworkX to create and work with Networks\n",
    "import networkx as nx\n",
    "\n",
    "# Pyvis to visualise the graps from NetworkX \n",
    "from pyvis.network import Network\n",
    "\n",
    "# To write the graph data into JSON\n",
    "import json\n",
    "from networkx.readwrite import json_graph\n",
    "\n",
    "# For forest centrality\n",
    "import networkit\n",
    "\n",
    "# For Community Detection\n",
    "import karateclub\n",
    "\n",
    "# For making copies\n",
    "import copy\n",
    "\n",
    "# For similarity score\n",
    "from sklearn.metrics.pairwise import cosine_similarity\n",
    "from sklearn.metrics.pairwise import pairwise_distances\n",
    "# from sklearn.metrics import jaccard_score\n",
    "\n",
    "# For colors in visualisation\n",
    "import matplotlib\n",
    "import matplotlib.colors as mcolors"
   ]
  },
  {
   "cell_type": "markdown",
   "metadata": {},
   "source": [
    "### Import Charities Data"
   ]
  },
  {
   "cell_type": "markdown",
   "metadata": {},
   "source": [
    "Load the previously saved graph that is store in JSON format."
   ]
  },
  {
   "cell_type": "code",
   "execution_count": 2,
   "metadata": {},
   "outputs": [],
   "source": [
    "with open('../json/graph.json', \"r\") as f:\n",
    "    json_data = json.load(f)"
   ]
  },
  {
   "cell_type": "code",
   "execution_count": 3,
   "metadata": {},
   "outputs": [],
   "source": [
    "G = json_graph.node_link_graph(json_data)"
   ]
  },
  {
   "cell_type": "code",
   "execution_count": 4,
   "metadata": {},
   "outputs": [
    {
     "data": {
      "text/plain": [
       "24756"
      ]
     },
     "execution_count": 4,
     "metadata": {},
     "output_type": "execute_result"
    }
   ],
   "source": [
    "# Check that graph has been loaded\n",
    "len(G.nodes())"
   ]
  },
  {
   "cell_type": "code",
   "execution_count": 5,
   "metadata": {},
   "outputs": [],
   "source": [
    "df_charities = pd.read_csv('../data/charities.csv')"
   ]
  },
  {
   "cell_type": "code",
   "execution_count": 6,
   "metadata": {},
   "outputs": [
    {
     "data": {
      "text/html": [
       "<div>\n",
       "<style scoped>\n",
       "    .dataframe tbody tr th:only-of-type {\n",
       "        vertical-align: middle;\n",
       "    }\n",
       "\n",
       "    .dataframe tbody tr th {\n",
       "        vertical-align: top;\n",
       "    }\n",
       "\n",
       "    .dataframe thead th {\n",
       "        text-align: right;\n",
       "    }\n",
       "</style>\n",
       "<table border=\"1\" class=\"dataframe\">\n",
       "  <thead>\n",
       "    <tr style=\"text-align: right;\">\n",
       "      <th></th>\n",
       "      <th>charity_uen</th>\n",
       "      <th>charity_name</th>\n",
       "      <th>address</th>\n",
       "      <th>postal_code</th>\n",
       "      <th>charity_objective</th>\n",
       "      <th>charity_vision</th>\n",
       "      <th>sector</th>\n",
       "      <th>is_ipc</th>\n",
       "      <th>activity_direct_services</th>\n",
       "      <th>activity_research</th>\n",
       "      <th>...</th>\n",
       "      <th>classification_south_west</th>\n",
       "      <th>classification_support_groups</th>\n",
       "      <th>classification_taoism</th>\n",
       "      <th>classification_tcm_clinic</th>\n",
       "      <th>classification_theatre_&amp;_dramatic_arts</th>\n",
       "      <th>classification_think_tanks</th>\n",
       "      <th>classification_traditional_ethnic_performing_arts</th>\n",
       "      <th>classification_training_&amp;_education</th>\n",
       "      <th>classification_trust/research_funds</th>\n",
       "      <th>classification_visual_arts</th>\n",
       "    </tr>\n",
       "  </thead>\n",
       "  <tbody>\n",
       "    <tr>\n",
       "      <th>0</th>\n",
       "      <td>200920810R</td>\n",
       "      <td>#CHECKED LIMITED</td>\n",
       "      <td>350 ORCHARD ROAD, #17-07/09, SHAW HOUSE, 238868</td>\n",
       "      <td>238868.0</td>\n",
       "      <td>A. To match Green innovation ideas with the re...</td>\n",
       "      <td>1. Vision: To be an educational platform for e...</td>\n",
       "      <td>Others</td>\n",
       "      <td>0</td>\n",
       "      <td>0</td>\n",
       "      <td>0</td>\n",
       "      <td>...</td>\n",
       "      <td>0</td>\n",
       "      <td>0</td>\n",
       "      <td>0</td>\n",
       "      <td>0</td>\n",
       "      <td>0</td>\n",
       "      <td>0</td>\n",
       "      <td>0</td>\n",
       "      <td>0</td>\n",
       "      <td>0</td>\n",
       "      <td>0</td>\n",
       "    </tr>\n",
       "    <tr>\n",
       "      <th>1</th>\n",
       "      <td>200712761D</td>\n",
       "      <td>*SCAPE CO., LTD.</td>\n",
       "      <td>2 ORCHARD LINK, #04-01, SCAPE, 237978</td>\n",
       "      <td>237978.0</td>\n",
       "      <td>(i) To encourage and promote social and cultur...</td>\n",
       "      <td>Vision To be a celebrated talent and resource ...</td>\n",
       "      <td>Others</td>\n",
       "      <td>1</td>\n",
       "      <td>1</td>\n",
       "      <td>0</td>\n",
       "      <td>...</td>\n",
       "      <td>0</td>\n",
       "      <td>0</td>\n",
       "      <td>0</td>\n",
       "      <td>0</td>\n",
       "      <td>0</td>\n",
       "      <td>0</td>\n",
       "      <td>0</td>\n",
       "      <td>0</td>\n",
       "      <td>0</td>\n",
       "      <td>0</td>\n",
       "    </tr>\n",
       "    <tr>\n",
       "      <th>2</th>\n",
       "      <td>201021998H</td>\n",
       "      <td>=DREAMS (ASIA) LIMITED</td>\n",
       "      <td>1 LORONG 2 TOA PAYOH, #07-00, BRADDELL HOUSE, ...</td>\n",
       "      <td>319637.0</td>\n",
       "      <td>Overseas work for disadvantaged children, comm...</td>\n",
       "      <td>Communities are developed and poverty is allev...</td>\n",
       "      <td>Others</td>\n",
       "      <td>0</td>\n",
       "      <td>0</td>\n",
       "      <td>0</td>\n",
       "      <td>...</td>\n",
       "      <td>0</td>\n",
       "      <td>0</td>\n",
       "      <td>0</td>\n",
       "      <td>0</td>\n",
       "      <td>0</td>\n",
       "      <td>0</td>\n",
       "      <td>0</td>\n",
       "      <td>0</td>\n",
       "      <td>0</td>\n",
       "      <td>0</td>\n",
       "    </tr>\n",
       "    <tr>\n",
       "      <th>3</th>\n",
       "      <td>202032457N</td>\n",
       "      <td>=DREAMS (SINGAPORE) LIMITED</td>\n",
       "      <td>99 HAIG ROAD, =DREAMS CAMPUS, 438748</td>\n",
       "      <td>438748.0</td>\n",
       "      <td>=DREAMS Singapore is a first-of-its-kind secul...</td>\n",
       "      <td>ABOUT US\\n\\nWHAT: =DREAMS is a residential mod...</td>\n",
       "      <td>Social and Welfare</td>\n",
       "      <td>1</td>\n",
       "      <td>1</td>\n",
       "      <td>0</td>\n",
       "      <td>...</td>\n",
       "      <td>0</td>\n",
       "      <td>0</td>\n",
       "      <td>0</td>\n",
       "      <td>0</td>\n",
       "      <td>0</td>\n",
       "      <td>0</td>\n",
       "      <td>0</td>\n",
       "      <td>0</td>\n",
       "      <td>0</td>\n",
       "      <td>0</td>\n",
       "    </tr>\n",
       "    <tr>\n",
       "      <th>4</th>\n",
       "      <td>201436550G</td>\n",
       "      <td>21C GIRLS LTD.</td>\n",
       "      <td>101 UPPER CROSS STREET, #05-16, PEOPLE'S PARK ...</td>\n",
       "      <td>58357.0</td>\n",
       "      <td>DELIVER FREE TECHNOLOGY CLASSES AND CAMPS FOR ...</td>\n",
       "      <td>TO TEACH TECHNOLOGY TO GIRLS SO THAT THEY CAN ...</td>\n",
       "      <td>Education</td>\n",
       "      <td>0</td>\n",
       "      <td>0</td>\n",
       "      <td>0</td>\n",
       "      <td>...</td>\n",
       "      <td>0</td>\n",
       "      <td>0</td>\n",
       "      <td>0</td>\n",
       "      <td>0</td>\n",
       "      <td>0</td>\n",
       "      <td>0</td>\n",
       "      <td>0</td>\n",
       "      <td>0</td>\n",
       "      <td>0</td>\n",
       "      <td>0</td>\n",
       "    </tr>\n",
       "  </tbody>\n",
       "</table>\n",
       "<p>5 rows × 68 columns</p>\n",
       "</div>"
      ],
      "text/plain": [
       "  charity_uen                 charity_name  \\\n",
       "0  200920810R             #CHECKED LIMITED   \n",
       "1  200712761D             *SCAPE CO., LTD.   \n",
       "2  201021998H       =DREAMS (ASIA) LIMITED   \n",
       "3  202032457N  =DREAMS (SINGAPORE) LIMITED   \n",
       "4  201436550G               21C GIRLS LTD.   \n",
       "\n",
       "                                             address  postal_code  \\\n",
       "0    350 ORCHARD ROAD, #17-07/09, SHAW HOUSE, 238868     238868.0   \n",
       "1              2 ORCHARD LINK, #04-01, SCAPE, 237978     237978.0   \n",
       "2  1 LORONG 2 TOA PAYOH, #07-00, BRADDELL HOUSE, ...     319637.0   \n",
       "3               99 HAIG ROAD, =DREAMS CAMPUS, 438748     438748.0   \n",
       "4  101 UPPER CROSS STREET, #05-16, PEOPLE'S PARK ...      58357.0   \n",
       "\n",
       "                                   charity_objective  \\\n",
       "0  A. To match Green innovation ideas with the re...   \n",
       "1  (i) To encourage and promote social and cultur...   \n",
       "2  Overseas work for disadvantaged children, comm...   \n",
       "3  =DREAMS Singapore is a first-of-its-kind secul...   \n",
       "4  DELIVER FREE TECHNOLOGY CLASSES AND CAMPS FOR ...   \n",
       "\n",
       "                                      charity_vision              sector  \\\n",
       "0  1. Vision: To be an educational platform for e...              Others   \n",
       "1  Vision To be a celebrated talent and resource ...              Others   \n",
       "2  Communities are developed and poverty is allev...              Others   \n",
       "3  ABOUT US\\n\\nWHAT: =DREAMS is a residential mod...  Social and Welfare   \n",
       "4  TO TEACH TECHNOLOGY TO GIRLS SO THAT THEY CAN ...           Education   \n",
       "\n",
       "   is_ipc  activity_direct_services  activity_research  ...  \\\n",
       "0       0                         0                  0  ...   \n",
       "1       1                         1                  0  ...   \n",
       "2       0                         0                  0  ...   \n",
       "3       1                         1                  0  ...   \n",
       "4       0                         0                  0  ...   \n",
       "\n",
       "   classification_south_west  classification_support_groups  \\\n",
       "0                          0                              0   \n",
       "1                          0                              0   \n",
       "2                          0                              0   \n",
       "3                          0                              0   \n",
       "4                          0                              0   \n",
       "\n",
       "   classification_taoism  classification_tcm_clinic  \\\n",
       "0                      0                          0   \n",
       "1                      0                          0   \n",
       "2                      0                          0   \n",
       "3                      0                          0   \n",
       "4                      0                          0   \n",
       "\n",
       "   classification_theatre_&_dramatic_arts  classification_think_tanks  \\\n",
       "0                                       0                           0   \n",
       "1                                       0                           0   \n",
       "2                                       0                           0   \n",
       "3                                       0                           0   \n",
       "4                                       0                           0   \n",
       "\n",
       "   classification_traditional_ethnic_performing_arts  \\\n",
       "0                                                  0   \n",
       "1                                                  0   \n",
       "2                                                  0   \n",
       "3                                                  0   \n",
       "4                                                  0   \n",
       "\n",
       "   classification_training_&_education  classification_trust/research_funds  \\\n",
       "0                                    0                                    0   \n",
       "1                                    0                                    0   \n",
       "2                                    0                                    0   \n",
       "3                                    0                                    0   \n",
       "4                                    0                                    0   \n",
       "\n",
       "   classification_visual_arts  \n",
       "0                           0  \n",
       "1                           0  \n",
       "2                           0  \n",
       "3                           0  \n",
       "4                           0  \n",
       "\n",
       "[5 rows x 68 columns]"
      ]
     },
     "execution_count": 6,
     "metadata": {},
     "output_type": "execute_result"
    }
   ],
   "source": [
    "df_charities.head()"
   ]
  },
  {
   "cell_type": "code",
   "execution_count": 7,
   "metadata": {},
   "outputs": [
    {
     "name": "stdout",
     "output_type": "stream",
     "text": [
      "<class 'pandas.core.frame.DataFrame'>\n",
      "RangeIndex: 2601 entries, 0 to 2600\n",
      "Data columns (total 68 columns):\n",
      " #   Column                                                 Non-Null Count  Dtype  \n",
      "---  ------                                                 --------------  -----  \n",
      " 0   charity_uen                                            2601 non-null   object \n",
      " 1   charity_name                                           2601 non-null   object \n",
      " 2   address                                                2598 non-null   object \n",
      " 3   postal_code                                            2535 non-null   float64\n",
      " 4   charity_objective                                      2274 non-null   object \n",
      " 5   charity_vision                                         2115 non-null   object \n",
      " 6   sector                                                 2601 non-null   object \n",
      " 7   is_ipc                                                 2601 non-null   int64  \n",
      " 8   activity_direct_services                               2601 non-null   int64  \n",
      " 9   activity_research                                      2601 non-null   int64  \n",
      " 10  activity_financial_assistance                          2601 non-null   int64  \n",
      " 11  activity_support_charities                             2601 non-null   int64  \n",
      " 12  activity_grantmaking                                   2601 non-null   int64  \n",
      " 13  activity_training_education                            2601 non-null   int64  \n",
      " 14  activity_public_awareness                              2601 non-null   int64  \n",
      " 15  classification_active_ageing                           2601 non-null   int64  \n",
      " 16  classification_animal_welfare                          2601 non-null   int64  \n",
      " 17  classification_buddhism                                2601 non-null   int64  \n",
      " 18  classification_central                                 2601 non-null   int64  \n",
      " 19  classification_children/youth                          2601 non-null   int64  \n",
      " 20  classification_christianity                            2601 non-null   int64  \n",
      " 21  classification_cluster/hospital_funds                  2601 non-null   int64  \n",
      " 22  classification_community                               2601 non-null   int64  \n",
      " 23  classification_contemporary_&_ethnic_dance             2601 non-null   int64  \n",
      " 24  classification_day_rehabilitation_centre               2601 non-null   int64  \n",
      " 25  classification_disability_(adult)                      2601 non-null   int64  \n",
      " 26  classification_disability_(children)                   2601 non-null   int64  \n",
      " 27  classification_disability_sports                       2601 non-null   int64  \n",
      " 28  classification_diseases/illnessess_support_group       2601 non-null   int64  \n",
      " 29  classification_eldercare                               2601 non-null   int64  \n",
      " 30  classification_environment                             2601 non-null   int64  \n",
      " 31  classification_family                                  2601 non-null   int64  \n",
      " 32  classification_foreign_educational_institutions/funds  2601 non-null   int64  \n",
      " 33  classification_foundations_&_trusts                    2601 non-null   int64  \n",
      " 34  classification_general_charitable_purposes             2601 non-null   int64  \n",
      " 35  classification_government-aided_schools                2601 non-null   int64  \n",
      " 36  classification_health_professional_group               2601 non-null   int64  \n",
      " 37  classification_hinduism                                2601 non-null   int64  \n",
      " 38  classification_historical_&_cultural_conservation      2601 non-null   int64  \n",
      " 39  classification_home_care                               2601 non-null   int64  \n",
      " 40  classification_hospice                                 2601 non-null   int64  \n",
      " 41  classification_humanitarian_aid                        2601 non-null   int64  \n",
      " 42  classification_independent_schools                     2601 non-null   int64  \n",
      " 43  classification_islam                                   2601 non-null   int64  \n",
      " 44  classification_literary_arts                           2601 non-null   int64  \n",
      " 45  classification_local_educational_institutions/funds    2601 non-null   int64  \n",
      " 46  classification_mental_health                           2601 non-null   int64  \n",
      " 47  classification_music_&_orchestras                      2601 non-null   int64  \n",
      " 48  classification_non-nsas                                2601 non-null   int64  \n",
      " 49  classification_north_east                              2601 non-null   int64  \n",
      " 50  classification_north_west                              2601 non-null   int64  \n",
      " 51  classification_nsas                                    2601 non-null   int64  \n",
      " 52  classification_nursing_home                            2601 non-null   int64  \n",
      " 53  classification_other_community-based_services          2601 non-null   int64  \n",
      " 54  classification_others                                  2601 non-null   int64  \n",
      " 55  classification_professional                            2601 non-null   int64  \n",
      " 56  classification_self-help_groups                        2601 non-null   int64  \n",
      " 57  classification_south_east                              2601 non-null   int64  \n",
      " 58  classification_south_west                              2601 non-null   int64  \n",
      " 59  classification_support_groups                          2601 non-null   int64  \n",
      " 60  classification_taoism                                  2601 non-null   int64  \n",
      " 61  classification_tcm_clinic                              2601 non-null   int64  \n",
      " 62  classification_theatre_&_dramatic_arts                 2601 non-null   int64  \n",
      " 63  classification_think_tanks                             2601 non-null   int64  \n",
      " 64  classification_traditional_ethnic_performing_arts      2601 non-null   int64  \n",
      " 65  classification_training_&_education                    2601 non-null   int64  \n",
      " 66  classification_trust/research_funds                    2601 non-null   int64  \n",
      " 67  classification_visual_arts                             2601 non-null   int64  \n",
      "dtypes: float64(1), int64(61), object(6)\n",
      "memory usage: 1.3+ MB\n"
     ]
    }
   ],
   "source": [
    "df_charities.info()"
   ]
  },
  {
   "cell_type": "markdown",
   "metadata": {},
   "source": [
    "---"
   ]
  },
  {
   "cell_type": "markdown",
   "metadata": {},
   "source": [
    "## Part 2: Item-Based Recommender"
   ]
  },
  {
   "cell_type": "markdown",
   "metadata": {},
   "source": [
    "From the available dataset, most person nodes are only connected to one organisation. An item-based recommender will be more appropriate to recommend donors connected to similar charities.\n",
    "\n",
    "Item-based recommender is straightforward with generally better prediction accuracy, and in this case, it is based on the features of the items and disregards the connected donors.\n",
    "\n",
    "The downside would be that this is heavily dependent on the data quality of features and will only recommend similar organisations with no consideration for novelty."
   ]
  },
  {
   "cell_type": "markdown",
   "metadata": {},
   "source": [
    "### Forming the Dataframe"
   ]
  },
  {
   "cell_type": "code",
   "execution_count": 8,
   "metadata": {},
   "outputs": [],
   "source": [
    "# Make dummy columns for sector\n",
    "df_charities = pd.get_dummies(df_charities, prefix='sector', columns=['sector'], dtype=int)"
   ]
  },
  {
   "cell_type": "code",
   "execution_count": 9,
   "metadata": {},
   "outputs": [
    {
     "data": {
      "text/plain": [
       "['activity_direct_services',\n",
       " 'activity_research',\n",
       " 'activity_financial_assistance',\n",
       " 'activity_support_charities',\n",
       " 'activity_grantmaking',\n",
       " 'activity_training_education',\n",
       " 'activity_public_awareness',\n",
       " 'classification_active_ageing',\n",
       " 'classification_animal_welfare',\n",
       " 'classification_buddhism',\n",
       " 'classification_central',\n",
       " 'classification_children/youth',\n",
       " 'classification_christianity',\n",
       " 'classification_cluster/hospital_funds',\n",
       " 'classification_community',\n",
       " 'classification_contemporary_&_ethnic_dance',\n",
       " 'classification_day_rehabilitation_centre',\n",
       " 'classification_disability_(adult)',\n",
       " 'classification_disability_(children)',\n",
       " 'classification_disability_sports',\n",
       " 'classification_diseases/illnessess_support_group',\n",
       " 'classification_eldercare',\n",
       " 'classification_environment',\n",
       " 'classification_family',\n",
       " 'classification_foreign_educational_institutions/funds',\n",
       " 'classification_foundations_&_trusts',\n",
       " 'classification_general_charitable_purposes',\n",
       " 'classification_government-aided_schools',\n",
       " 'classification_health_professional_group',\n",
       " 'classification_hinduism',\n",
       " 'classification_historical_&_cultural_conservation',\n",
       " 'classification_home_care',\n",
       " 'classification_hospice',\n",
       " 'classification_humanitarian_aid',\n",
       " 'classification_independent_schools',\n",
       " 'classification_islam',\n",
       " 'classification_literary_arts',\n",
       " 'classification_local_educational_institutions/funds',\n",
       " 'classification_mental_health',\n",
       " 'classification_music_&_orchestras',\n",
       " 'classification_non-nsas',\n",
       " 'classification_north_east',\n",
       " 'classification_north_west',\n",
       " 'classification_nsas',\n",
       " 'classification_nursing_home',\n",
       " 'classification_other_community-based_services',\n",
       " 'classification_others',\n",
       " 'classification_professional',\n",
       " 'classification_self-help_groups',\n",
       " 'classification_south_east',\n",
       " 'classification_south_west',\n",
       " 'classification_support_groups',\n",
       " 'classification_taoism',\n",
       " 'classification_tcm_clinic',\n",
       " 'classification_theatre_&_dramatic_arts',\n",
       " 'classification_think_tanks',\n",
       " 'classification_traditional_ethnic_performing_arts',\n",
       " 'classification_training_&_education',\n",
       " 'classification_trust/research_funds',\n",
       " 'classification_visual_arts',\n",
       " 'sector_Arts and Heritage',\n",
       " 'sector_Community',\n",
       " 'sector_Education',\n",
       " 'sector_Health',\n",
       " 'sector_Others',\n",
       " 'sector_Religious',\n",
       " 'sector_Social and Welfare',\n",
       " 'sector_Sports']"
      ]
     },
     "execution_count": 9,
     "metadata": {},
     "output_type": "execute_result"
    }
   ],
   "source": [
    "feature_cols = [col for col in df_charities.columns if col.startswith(('sector', 'activity', 'classification'))]\n",
    "feature_cols"
   ]
  },
  {
   "cell_type": "code",
   "execution_count": 10,
   "metadata": {},
   "outputs": [
    {
     "data": {
      "text/html": [
       "<div>\n",
       "<style scoped>\n",
       "    .dataframe tbody tr th:only-of-type {\n",
       "        vertical-align: middle;\n",
       "    }\n",
       "\n",
       "    .dataframe tbody tr th {\n",
       "        vertical-align: top;\n",
       "    }\n",
       "\n",
       "    .dataframe thead th {\n",
       "        text-align: right;\n",
       "    }\n",
       "</style>\n",
       "<table border=\"1\" class=\"dataframe\">\n",
       "  <thead>\n",
       "    <tr style=\"text-align: right;\">\n",
       "      <th></th>\n",
       "      <th>charity_name</th>\n",
       "      <th>is_ipc</th>\n",
       "      <th>activity_direct_services</th>\n",
       "      <th>activity_research</th>\n",
       "      <th>activity_financial_assistance</th>\n",
       "      <th>activity_support_charities</th>\n",
       "      <th>activity_grantmaking</th>\n",
       "      <th>activity_training_education</th>\n",
       "      <th>activity_public_awareness</th>\n",
       "      <th>classification_active_ageing</th>\n",
       "      <th>...</th>\n",
       "      <th>classification_trust/research_funds</th>\n",
       "      <th>classification_visual_arts</th>\n",
       "      <th>sector_Arts and Heritage</th>\n",
       "      <th>sector_Community</th>\n",
       "      <th>sector_Education</th>\n",
       "      <th>sector_Health</th>\n",
       "      <th>sector_Others</th>\n",
       "      <th>sector_Religious</th>\n",
       "      <th>sector_Social and Welfare</th>\n",
       "      <th>sector_Sports</th>\n",
       "    </tr>\n",
       "  </thead>\n",
       "  <tbody>\n",
       "    <tr>\n",
       "      <th>0</th>\n",
       "      <td>#CHECKED LIMITED</td>\n",
       "      <td>0</td>\n",
       "      <td>0</td>\n",
       "      <td>0</td>\n",
       "      <td>0</td>\n",
       "      <td>0</td>\n",
       "      <td>0</td>\n",
       "      <td>0</td>\n",
       "      <td>0</td>\n",
       "      <td>0</td>\n",
       "      <td>...</td>\n",
       "      <td>0</td>\n",
       "      <td>0</td>\n",
       "      <td>0</td>\n",
       "      <td>0</td>\n",
       "      <td>0</td>\n",
       "      <td>0</td>\n",
       "      <td>1</td>\n",
       "      <td>0</td>\n",
       "      <td>0</td>\n",
       "      <td>0</td>\n",
       "    </tr>\n",
       "    <tr>\n",
       "      <th>1</th>\n",
       "      <td>*SCAPE CO., LTD.</td>\n",
       "      <td>1</td>\n",
       "      <td>1</td>\n",
       "      <td>0</td>\n",
       "      <td>0</td>\n",
       "      <td>0</td>\n",
       "      <td>0</td>\n",
       "      <td>0</td>\n",
       "      <td>0</td>\n",
       "      <td>0</td>\n",
       "      <td>...</td>\n",
       "      <td>0</td>\n",
       "      <td>0</td>\n",
       "      <td>0</td>\n",
       "      <td>0</td>\n",
       "      <td>0</td>\n",
       "      <td>0</td>\n",
       "      <td>1</td>\n",
       "      <td>0</td>\n",
       "      <td>0</td>\n",
       "      <td>0</td>\n",
       "    </tr>\n",
       "    <tr>\n",
       "      <th>2</th>\n",
       "      <td>=DREAMS (ASIA) LIMITED</td>\n",
       "      <td>0</td>\n",
       "      <td>0</td>\n",
       "      <td>0</td>\n",
       "      <td>0</td>\n",
       "      <td>0</td>\n",
       "      <td>1</td>\n",
       "      <td>0</td>\n",
       "      <td>0</td>\n",
       "      <td>0</td>\n",
       "      <td>...</td>\n",
       "      <td>0</td>\n",
       "      <td>0</td>\n",
       "      <td>0</td>\n",
       "      <td>0</td>\n",
       "      <td>0</td>\n",
       "      <td>0</td>\n",
       "      <td>1</td>\n",
       "      <td>0</td>\n",
       "      <td>0</td>\n",
       "      <td>0</td>\n",
       "    </tr>\n",
       "    <tr>\n",
       "      <th>3</th>\n",
       "      <td>=DREAMS (SINGAPORE) LIMITED</td>\n",
       "      <td>1</td>\n",
       "      <td>1</td>\n",
       "      <td>0</td>\n",
       "      <td>1</td>\n",
       "      <td>0</td>\n",
       "      <td>0</td>\n",
       "      <td>1</td>\n",
       "      <td>0</td>\n",
       "      <td>0</td>\n",
       "      <td>...</td>\n",
       "      <td>0</td>\n",
       "      <td>0</td>\n",
       "      <td>0</td>\n",
       "      <td>0</td>\n",
       "      <td>0</td>\n",
       "      <td>0</td>\n",
       "      <td>0</td>\n",
       "      <td>0</td>\n",
       "      <td>1</td>\n",
       "      <td>0</td>\n",
       "    </tr>\n",
       "    <tr>\n",
       "      <th>4</th>\n",
       "      <td>21C GIRLS LTD.</td>\n",
       "      <td>0</td>\n",
       "      <td>0</td>\n",
       "      <td>0</td>\n",
       "      <td>0</td>\n",
       "      <td>0</td>\n",
       "      <td>0</td>\n",
       "      <td>1</td>\n",
       "      <td>0</td>\n",
       "      <td>0</td>\n",
       "      <td>...</td>\n",
       "      <td>0</td>\n",
       "      <td>0</td>\n",
       "      <td>0</td>\n",
       "      <td>0</td>\n",
       "      <td>1</td>\n",
       "      <td>0</td>\n",
       "      <td>0</td>\n",
       "      <td>0</td>\n",
       "      <td>0</td>\n",
       "      <td>0</td>\n",
       "    </tr>\n",
       "  </tbody>\n",
       "</table>\n",
       "<p>5 rows × 70 columns</p>\n",
       "</div>"
      ],
      "text/plain": [
       "                  charity_name  is_ipc  activity_direct_services  \\\n",
       "0             #CHECKED LIMITED       0                         0   \n",
       "1             *SCAPE CO., LTD.       1                         1   \n",
       "2       =DREAMS (ASIA) LIMITED       0                         0   \n",
       "3  =DREAMS (SINGAPORE) LIMITED       1                         1   \n",
       "4               21C GIRLS LTD.       0                         0   \n",
       "\n",
       "   activity_research  activity_financial_assistance  \\\n",
       "0                  0                              0   \n",
       "1                  0                              0   \n",
       "2                  0                              0   \n",
       "3                  0                              1   \n",
       "4                  0                              0   \n",
       "\n",
       "   activity_support_charities  activity_grantmaking  \\\n",
       "0                           0                     0   \n",
       "1                           0                     0   \n",
       "2                           0                     1   \n",
       "3                           0                     0   \n",
       "4                           0                     0   \n",
       "\n",
       "   activity_training_education  activity_public_awareness  \\\n",
       "0                            0                          0   \n",
       "1                            0                          0   \n",
       "2                            0                          0   \n",
       "3                            1                          0   \n",
       "4                            1                          0   \n",
       "\n",
       "   classification_active_ageing  ...  classification_trust/research_funds  \\\n",
       "0                             0  ...                                    0   \n",
       "1                             0  ...                                    0   \n",
       "2                             0  ...                                    0   \n",
       "3                             0  ...                                    0   \n",
       "4                             0  ...                                    0   \n",
       "\n",
       "   classification_visual_arts  sector_Arts and Heritage  sector_Community  \\\n",
       "0                           0                         0                 0   \n",
       "1                           0                         0                 0   \n",
       "2                           0                         0                 0   \n",
       "3                           0                         0                 0   \n",
       "4                           0                         0                 0   \n",
       "\n",
       "   sector_Education  sector_Health  sector_Others  sector_Religious  \\\n",
       "0                 0              0              1                 0   \n",
       "1                 0              0              1                 0   \n",
       "2                 0              0              1                 0   \n",
       "3                 0              0              0                 0   \n",
       "4                 1              0              0                 0   \n",
       "\n",
       "   sector_Social and Welfare  sector_Sports  \n",
       "0                          0              0  \n",
       "1                          0              0  \n",
       "2                          0              0  \n",
       "3                          1              0  \n",
       "4                          0              0  \n",
       "\n",
       "[5 rows x 70 columns]"
      ]
     },
     "execution_count": 10,
     "metadata": {},
     "output_type": "execute_result"
    }
   ],
   "source": [
    "items = df_charities[['charity_name', 'is_ipc'] + feature_cols]\n",
    "items.head()"
   ]
  },
  {
   "cell_type": "code",
   "execution_count": 11,
   "metadata": {},
   "outputs": [],
   "source": [
    "features = items.drop(columns=['charity_name'])"
   ]
  },
  {
   "cell_type": "markdown",
   "metadata": {},
   "source": [
    "### Cosine Similarity vs Jaccard Similarity"
   ]
  },
  {
   "cell_type": "markdown",
   "metadata": {},
   "source": [
    "Explore the differences between using the two similarity metrics for item based recommender.\n",
    "\n",
    "The features of the items are binary variables.\n",
    "\n",
    "**Cosine Similarity**: Measures the similarity of two vectors in the same inner product space. Mathematically, it is the dot product of the vectors divided by their magnitude.\n",
    "\n",
    "**Jaccard Similarity**: Can compute the similarity between two asymmetric binary variables. Mathematically, it is the intersection of the two sets of variables divided by their union. In this case where the value of 1 may be more important than 0, it is said to be an asymmetric binary variable. Source: https://www.learndatasci.com/glossary/jaccard-similarity/"
   ]
  },
  {
   "cell_type": "code",
   "execution_count": 12,
   "metadata": {},
   "outputs": [],
   "source": [
    "data = {\n",
    "    'item_id': ['item1', 'item2', 'item3', 'item4'],\n",
    "    'feature_1': [1, 0, 1, 0],\n",
    "    'feature_2': [0, 1, 1, 0],\n",
    "    'feature_3': [1, 1, 0, 0],\n",
    "    'feature_4': [0, 0, 1, 1]\n",
    "}\n",
    "\n",
    "df = pd.DataFrame(data)\n",
    "\n",
    "# Set 'item_id' as index\n",
    "df.set_index('item_id', inplace=True)"
   ]
  },
  {
   "cell_type": "code",
   "execution_count": 13,
   "metadata": {},
   "outputs": [],
   "source": [
    "# Calculate cosine similarity\n",
    "cos_sim_matrix = cosine_similarity(df.values)\n",
    "\n",
    "# Create a DataFrame from the cosine similarity matrix\n",
    "cos_sim_df = pd.DataFrame(cos_sim_matrix, index=df.index, columns=df.index)\n"
   ]
  },
  {
   "cell_type": "code",
   "execution_count": 14,
   "metadata": {},
   "outputs": [
    {
     "data": {
      "text/html": [
       "<div>\n",
       "<style scoped>\n",
       "    .dataframe tbody tr th:only-of-type {\n",
       "        vertical-align: middle;\n",
       "    }\n",
       "\n",
       "    .dataframe tbody tr th {\n",
       "        vertical-align: top;\n",
       "    }\n",
       "\n",
       "    .dataframe thead th {\n",
       "        text-align: right;\n",
       "    }\n",
       "</style>\n",
       "<table border=\"1\" class=\"dataframe\">\n",
       "  <thead>\n",
       "    <tr style=\"text-align: right;\">\n",
       "      <th>item_id</th>\n",
       "      <th>item1</th>\n",
       "      <th>item2</th>\n",
       "      <th>item3</th>\n",
       "      <th>item4</th>\n",
       "    </tr>\n",
       "    <tr>\n",
       "      <th>item_id</th>\n",
       "      <th></th>\n",
       "      <th></th>\n",
       "      <th></th>\n",
       "      <th></th>\n",
       "    </tr>\n",
       "  </thead>\n",
       "  <tbody>\n",
       "    <tr>\n",
       "      <th>item1</th>\n",
       "      <td>1.000000</td>\n",
       "      <td>0.500000</td>\n",
       "      <td>0.408248</td>\n",
       "      <td>0.00000</td>\n",
       "    </tr>\n",
       "    <tr>\n",
       "      <th>item2</th>\n",
       "      <td>0.500000</td>\n",
       "      <td>1.000000</td>\n",
       "      <td>0.408248</td>\n",
       "      <td>0.00000</td>\n",
       "    </tr>\n",
       "    <tr>\n",
       "      <th>item3</th>\n",
       "      <td>0.408248</td>\n",
       "      <td>0.408248</td>\n",
       "      <td>1.000000</td>\n",
       "      <td>0.57735</td>\n",
       "    </tr>\n",
       "    <tr>\n",
       "      <th>item4</th>\n",
       "      <td>0.000000</td>\n",
       "      <td>0.000000</td>\n",
       "      <td>0.577350</td>\n",
       "      <td>1.00000</td>\n",
       "    </tr>\n",
       "  </tbody>\n",
       "</table>\n",
       "</div>"
      ],
      "text/plain": [
       "item_id     item1     item2     item3    item4\n",
       "item_id                                       \n",
       "item1    1.000000  0.500000  0.408248  0.00000\n",
       "item2    0.500000  1.000000  0.408248  0.00000\n",
       "item3    0.408248  0.408248  1.000000  0.57735\n",
       "item4    0.000000  0.000000  0.577350  1.00000"
      ]
     },
     "execution_count": 14,
     "metadata": {},
     "output_type": "execute_result"
    }
   ],
   "source": [
    "cos_sim_df"
   ]
  },
  {
   "cell_type": "code",
   "execution_count": 15,
   "metadata": {},
   "outputs": [
    {
     "name": "stderr",
     "output_type": "stream",
     "text": [
      "c:\\Users\\user\\anaconda3\\Lib\\site-packages\\sklearn\\metrics\\pairwise.py:2181: DataConversionWarning: Data was converted to boolean for metric jaccard\n",
      "  warnings.warn(msg, DataConversionWarning)\n"
     ]
    },
    {
     "data": {
      "text/html": [
       "<div>\n",
       "<style scoped>\n",
       "    .dataframe tbody tr th:only-of-type {\n",
       "        vertical-align: middle;\n",
       "    }\n",
       "\n",
       "    .dataframe tbody tr th {\n",
       "        vertical-align: top;\n",
       "    }\n",
       "\n",
       "    .dataframe thead th {\n",
       "        text-align: right;\n",
       "    }\n",
       "</style>\n",
       "<table border=\"1\" class=\"dataframe\">\n",
       "  <thead>\n",
       "    <tr style=\"text-align: right;\">\n",
       "      <th></th>\n",
       "      <th>0</th>\n",
       "      <th>1</th>\n",
       "      <th>2</th>\n",
       "      <th>3</th>\n",
       "    </tr>\n",
       "  </thead>\n",
       "  <tbody>\n",
       "    <tr>\n",
       "      <th>0</th>\n",
       "      <td>1.000000</td>\n",
       "      <td>0.333333</td>\n",
       "      <td>0.250000</td>\n",
       "      <td>0.000000</td>\n",
       "    </tr>\n",
       "    <tr>\n",
       "      <th>1</th>\n",
       "      <td>0.333333</td>\n",
       "      <td>1.000000</td>\n",
       "      <td>0.250000</td>\n",
       "      <td>0.000000</td>\n",
       "    </tr>\n",
       "    <tr>\n",
       "      <th>2</th>\n",
       "      <td>0.250000</td>\n",
       "      <td>0.250000</td>\n",
       "      <td>1.000000</td>\n",
       "      <td>0.333333</td>\n",
       "    </tr>\n",
       "    <tr>\n",
       "      <th>3</th>\n",
       "      <td>0.000000</td>\n",
       "      <td>0.000000</td>\n",
       "      <td>0.333333</td>\n",
       "      <td>1.000000</td>\n",
       "    </tr>\n",
       "  </tbody>\n",
       "</table>\n",
       "</div>"
      ],
      "text/plain": [
       "          0         1         2         3\n",
       "0  1.000000  0.333333  0.250000  0.000000\n",
       "1  0.333333  1.000000  0.250000  0.000000\n",
       "2  0.250000  0.250000  1.000000  0.333333\n",
       "3  0.000000  0.000000  0.333333  1.000000"
      ]
     },
     "execution_count": 15,
     "metadata": {},
     "output_type": "execute_result"
    }
   ],
   "source": [
    "pd.DataFrame(1- pairwise_distances(df.values, metric='jaccard'))"
   ]
  },
  {
   "cell_type": "code",
   "execution_count": 16,
   "metadata": {},
   "outputs": [
    {
     "data": {
      "text/html": [
       "<div>\n",
       "<style scoped>\n",
       "    .dataframe tbody tr th:only-of-type {\n",
       "        vertical-align: middle;\n",
       "    }\n",
       "\n",
       "    .dataframe tbody tr th {\n",
       "        vertical-align: top;\n",
       "    }\n",
       "\n",
       "    .dataframe thead th {\n",
       "        text-align: right;\n",
       "    }\n",
       "</style>\n",
       "<table border=\"1\" class=\"dataframe\">\n",
       "  <thead>\n",
       "    <tr style=\"text-align: right;\">\n",
       "      <th></th>\n",
       "      <th>feature_1</th>\n",
       "      <th>feature_2</th>\n",
       "      <th>feature_3</th>\n",
       "      <th>feature_4</th>\n",
       "    </tr>\n",
       "    <tr>\n",
       "      <th>item_id</th>\n",
       "      <th></th>\n",
       "      <th></th>\n",
       "      <th></th>\n",
       "      <th></th>\n",
       "    </tr>\n",
       "  </thead>\n",
       "  <tbody>\n",
       "    <tr>\n",
       "      <th>item1</th>\n",
       "      <td>1</td>\n",
       "      <td>0</td>\n",
       "      <td>1</td>\n",
       "      <td>0</td>\n",
       "    </tr>\n",
       "    <tr>\n",
       "      <th>item2</th>\n",
       "      <td>0</td>\n",
       "      <td>1</td>\n",
       "      <td>1</td>\n",
       "      <td>0</td>\n",
       "    </tr>\n",
       "    <tr>\n",
       "      <th>item3</th>\n",
       "      <td>1</td>\n",
       "      <td>1</td>\n",
       "      <td>0</td>\n",
       "      <td>1</td>\n",
       "    </tr>\n",
       "    <tr>\n",
       "      <th>item4</th>\n",
       "      <td>0</td>\n",
       "      <td>0</td>\n",
       "      <td>0</td>\n",
       "      <td>1</td>\n",
       "    </tr>\n",
       "  </tbody>\n",
       "</table>\n",
       "</div>"
      ],
      "text/plain": [
       "         feature_1  feature_2  feature_3  feature_4\n",
       "item_id                                            \n",
       "item1            1          0          1          0\n",
       "item2            0          1          1          0\n",
       "item3            1          1          0          1\n",
       "item4            0          0          0          1"
      ]
     },
     "execution_count": 16,
     "metadata": {},
     "output_type": "execute_result"
    }
   ],
   "source": [
    "df"
   ]
  },
  {
   "cell_type": "markdown",
   "metadata": {},
   "source": [
    "From the created dataframe, item1 and item2 are similar by having 1 in feature3 and 0 in feature4. The cosine similarity of these two items are 0.5 using cosine similarity, and 0.333 using jaccard similarity.\n",
    "\n",
    "For this recommender system, it may be better to prioritise similarities where the features are present and less so on the features that are absent. As such, jaccard similarity is the better metric to use for measuring the similarity of items (organisations) for this project."
   ]
  },
  {
   "cell_type": "markdown",
   "metadata": {},
   "source": [
    "### Jaccard Similarities"
   ]
  },
  {
   "cell_type": "code",
   "execution_count": 17,
   "metadata": {},
   "outputs": [
    {
     "data": {
      "text/plain": [
       "(2601, 69)"
      ]
     },
     "execution_count": 17,
     "metadata": {},
     "output_type": "execute_result"
    }
   ],
   "source": [
    "features.shape"
   ]
  },
  {
   "cell_type": "code",
   "execution_count": 18,
   "metadata": {},
   "outputs": [
    {
     "name": "stderr",
     "output_type": "stream",
     "text": [
      "c:\\Users\\user\\anaconda3\\Lib\\site-packages\\sklearn\\metrics\\pairwise.py:2181: DataConversionWarning: Data was converted to boolean for metric jaccard\n",
      "  warnings.warn(msg, DataConversionWarning)\n"
     ]
    },
    {
     "data": {
      "text/plain": [
       "(2601, 2601)"
      ]
     },
     "execution_count": 18,
     "metadata": {},
     "output_type": "execute_result"
    }
   ],
   "source": [
    "jaccard_similarties = 1 - pairwise_distances(features.values, metric='jaccard')\n",
    "jaccard_similarties.shape"
   ]
  },
  {
   "cell_type": "code",
   "execution_count": 19,
   "metadata": {},
   "outputs": [],
   "source": [
    "df_similarities = pd.DataFrame(jaccard_similarties, index=items['charity_name'], columns=items['charity_name'])"
   ]
  },
  {
   "cell_type": "code",
   "execution_count": 20,
   "metadata": {},
   "outputs": [
    {
     "data": {
      "text/html": [
       "<div>\n",
       "<style scoped>\n",
       "    .dataframe tbody tr th:only-of-type {\n",
       "        vertical-align: middle;\n",
       "    }\n",
       "\n",
       "    .dataframe tbody tr th {\n",
       "        vertical-align: top;\n",
       "    }\n",
       "\n",
       "    .dataframe thead th {\n",
       "        text-align: right;\n",
       "    }\n",
       "</style>\n",
       "<table border=\"1\" class=\"dataframe\">\n",
       "  <thead>\n",
       "    <tr style=\"text-align: right;\">\n",
       "      <th>charity_name</th>\n",
       "      <th>#CHECKED LIMITED</th>\n",
       "      <th>*SCAPE CO., LTD.</th>\n",
       "      <th>=DREAMS (ASIA) LIMITED</th>\n",
       "      <th>=DREAMS (SINGAPORE) LIMITED</th>\n",
       "      <th>21C GIRLS LTD.</th>\n",
       "      <th>365 CANCER PREVENTION SOCIETY</th>\n",
       "      <th>3PUMPKINS LIMITED</th>\n",
       "      <th>A DAY WITH MARY</th>\n",
       "      <th>A. O. ACTION LOVE LTD.</th>\n",
       "      <th>ABDULLAH SALEH SHOOKER TRUST</th>\n",
       "      <th>...</th>\n",
       "      <th>ZI JING CULTURAL CENTRE LTD.</th>\n",
       "      <th>ZION BISHAN BIBLE-PRESBYTERIAN CHURCH</th>\n",
       "      <th>Zion Church</th>\n",
       "      <th>Zion Full Gospel Church</th>\n",
       "      <th>Zion Home for the Aged</th>\n",
       "      <th>Zion Living Streams Community Church</th>\n",
       "      <th>Zion Presbyterian Church</th>\n",
       "      <th>ZION SERANGOON BIBLE-PRESBYTERIAN CHURCH</th>\n",
       "      <th>Zonta Singapore- Project Pari Fund</th>\n",
       "      <th>Zu-Lin Temple Association</th>\n",
       "    </tr>\n",
       "    <tr>\n",
       "      <th>charity_name</th>\n",
       "      <th></th>\n",
       "      <th></th>\n",
       "      <th></th>\n",
       "      <th></th>\n",
       "      <th></th>\n",
       "      <th></th>\n",
       "      <th></th>\n",
       "      <th></th>\n",
       "      <th></th>\n",
       "      <th></th>\n",
       "      <th></th>\n",
       "      <th></th>\n",
       "      <th></th>\n",
       "      <th></th>\n",
       "      <th></th>\n",
       "      <th></th>\n",
       "      <th></th>\n",
       "      <th></th>\n",
       "      <th></th>\n",
       "      <th></th>\n",
       "      <th></th>\n",
       "    </tr>\n",
       "  </thead>\n",
       "  <tbody>\n",
       "    <tr>\n",
       "      <th>#CHECKED LIMITED</th>\n",
       "      <td>1.00</td>\n",
       "      <td>0.200000</td>\n",
       "      <td>0.250000</td>\n",
       "      <td>0.000000</td>\n",
       "      <td>0.000</td>\n",
       "      <td>0.000000</td>\n",
       "      <td>0.000000</td>\n",
       "      <td>0.0</td>\n",
       "      <td>0.0</td>\n",
       "      <td>0.333333</td>\n",
       "      <td>...</td>\n",
       "      <td>0.250000</td>\n",
       "      <td>0.0</td>\n",
       "      <td>0.0</td>\n",
       "      <td>0.0</td>\n",
       "      <td>0.000000</td>\n",
       "      <td>0.000000</td>\n",
       "      <td>0.0</td>\n",
       "      <td>0.000000</td>\n",
       "      <td>0.000000</td>\n",
       "      <td>0.000</td>\n",
       "    </tr>\n",
       "    <tr>\n",
       "      <th>*SCAPE CO., LTD.</th>\n",
       "      <td>0.20</td>\n",
       "      <td>1.000000</td>\n",
       "      <td>0.166667</td>\n",
       "      <td>0.428571</td>\n",
       "      <td>0.000</td>\n",
       "      <td>0.125000</td>\n",
       "      <td>0.200000</td>\n",
       "      <td>0.0</td>\n",
       "      <td>0.0</td>\n",
       "      <td>0.200000</td>\n",
       "      <td>...</td>\n",
       "      <td>0.166667</td>\n",
       "      <td>0.0</td>\n",
       "      <td>0.0</td>\n",
       "      <td>0.0</td>\n",
       "      <td>0.166667</td>\n",
       "      <td>0.166667</td>\n",
       "      <td>0.0</td>\n",
       "      <td>0.000000</td>\n",
       "      <td>0.142857</td>\n",
       "      <td>0.000</td>\n",
       "    </tr>\n",
       "    <tr>\n",
       "      <th>=DREAMS (ASIA) LIMITED</th>\n",
       "      <td>0.25</td>\n",
       "      <td>0.166667</td>\n",
       "      <td>1.000000</td>\n",
       "      <td>0.000000</td>\n",
       "      <td>0.000</td>\n",
       "      <td>0.000000</td>\n",
       "      <td>0.000000</td>\n",
       "      <td>0.0</td>\n",
       "      <td>0.0</td>\n",
       "      <td>0.666667</td>\n",
       "      <td>...</td>\n",
       "      <td>0.500000</td>\n",
       "      <td>0.0</td>\n",
       "      <td>0.0</td>\n",
       "      <td>0.0</td>\n",
       "      <td>0.000000</td>\n",
       "      <td>0.000000</td>\n",
       "      <td>0.0</td>\n",
       "      <td>0.000000</td>\n",
       "      <td>0.000000</td>\n",
       "      <td>0.000</td>\n",
       "    </tr>\n",
       "    <tr>\n",
       "      <th>=DREAMS (SINGAPORE) LIMITED</th>\n",
       "      <td>0.00</td>\n",
       "      <td>0.428571</td>\n",
       "      <td>0.000000</td>\n",
       "      <td>1.000000</td>\n",
       "      <td>0.125</td>\n",
       "      <td>0.375000</td>\n",
       "      <td>0.272727</td>\n",
       "      <td>0.0</td>\n",
       "      <td>0.0</td>\n",
       "      <td>0.000000</td>\n",
       "      <td>...</td>\n",
       "      <td>0.125000</td>\n",
       "      <td>0.0</td>\n",
       "      <td>0.0</td>\n",
       "      <td>0.0</td>\n",
       "      <td>0.285714</td>\n",
       "      <td>0.125000</td>\n",
       "      <td>0.0</td>\n",
       "      <td>0.111111</td>\n",
       "      <td>0.428571</td>\n",
       "      <td>0.125</td>\n",
       "    </tr>\n",
       "    <tr>\n",
       "      <th>21C GIRLS LTD.</th>\n",
       "      <td>0.00</td>\n",
       "      <td>0.000000</td>\n",
       "      <td>0.000000</td>\n",
       "      <td>0.125000</td>\n",
       "      <td>1.000</td>\n",
       "      <td>0.142857</td>\n",
       "      <td>0.000000</td>\n",
       "      <td>0.0</td>\n",
       "      <td>0.0</td>\n",
       "      <td>0.000000</td>\n",
       "      <td>...</td>\n",
       "      <td>0.200000</td>\n",
       "      <td>0.0</td>\n",
       "      <td>0.0</td>\n",
       "      <td>0.0</td>\n",
       "      <td>0.000000</td>\n",
       "      <td>0.000000</td>\n",
       "      <td>0.0</td>\n",
       "      <td>0.166667</td>\n",
       "      <td>0.000000</td>\n",
       "      <td>0.000</td>\n",
       "    </tr>\n",
       "  </tbody>\n",
       "</table>\n",
       "<p>5 rows × 2601 columns</p>\n",
       "</div>"
      ],
      "text/plain": [
       "charity_name                 #CHECKED LIMITED  *SCAPE CO., LTD.  \\\n",
       "charity_name                                                      \n",
       "#CHECKED LIMITED                         1.00          0.200000   \n",
       "*SCAPE CO., LTD.                         0.20          1.000000   \n",
       "=DREAMS (ASIA) LIMITED                   0.25          0.166667   \n",
       "=DREAMS (SINGAPORE) LIMITED              0.00          0.428571   \n",
       "21C GIRLS LTD.                           0.00          0.000000   \n",
       "\n",
       "charity_name                 =DREAMS (ASIA) LIMITED  \\\n",
       "charity_name                                          \n",
       "#CHECKED LIMITED                           0.250000   \n",
       "*SCAPE CO., LTD.                           0.166667   \n",
       "=DREAMS (ASIA) LIMITED                     1.000000   \n",
       "=DREAMS (SINGAPORE) LIMITED                0.000000   \n",
       "21C GIRLS LTD.                             0.000000   \n",
       "\n",
       "charity_name                 =DREAMS (SINGAPORE) LIMITED  21C GIRLS LTD.  \\\n",
       "charity_name                                                               \n",
       "#CHECKED LIMITED                                0.000000           0.000   \n",
       "*SCAPE CO., LTD.                                0.428571           0.000   \n",
       "=DREAMS (ASIA) LIMITED                          0.000000           0.000   \n",
       "=DREAMS (SINGAPORE) LIMITED                     1.000000           0.125   \n",
       "21C GIRLS LTD.                                  0.125000           1.000   \n",
       "\n",
       "charity_name                 365 CANCER PREVENTION SOCIETY  3PUMPKINS LIMITED  \\\n",
       "charity_name                                                                    \n",
       "#CHECKED LIMITED                                  0.000000           0.000000   \n",
       "*SCAPE CO., LTD.                                  0.125000           0.200000   \n",
       "=DREAMS (ASIA) LIMITED                            0.000000           0.000000   \n",
       "=DREAMS (SINGAPORE) LIMITED                       0.375000           0.272727   \n",
       "21C GIRLS LTD.                                    0.142857           0.000000   \n",
       "\n",
       "charity_name                 A DAY WITH MARY  A. O. ACTION LOVE LTD.  \\\n",
       "charity_name                                                           \n",
       "#CHECKED LIMITED                         0.0                     0.0   \n",
       "*SCAPE CO., LTD.                         0.0                     0.0   \n",
       "=DREAMS (ASIA) LIMITED                   0.0                     0.0   \n",
       "=DREAMS (SINGAPORE) LIMITED              0.0                     0.0   \n",
       "21C GIRLS LTD.                           0.0                     0.0   \n",
       "\n",
       "charity_name                 ABDULLAH SALEH SHOOKER TRUST  ...  \\\n",
       "charity_name                                               ...   \n",
       "#CHECKED LIMITED                                 0.333333  ...   \n",
       "*SCAPE CO., LTD.                                 0.200000  ...   \n",
       "=DREAMS (ASIA) LIMITED                           0.666667  ...   \n",
       "=DREAMS (SINGAPORE) LIMITED                      0.000000  ...   \n",
       "21C GIRLS LTD.                                   0.000000  ...   \n",
       "\n",
       "charity_name                 ZI JING CULTURAL CENTRE LTD.  \\\n",
       "charity_name                                                \n",
       "#CHECKED LIMITED                                 0.250000   \n",
       "*SCAPE CO., LTD.                                 0.166667   \n",
       "=DREAMS (ASIA) LIMITED                           0.500000   \n",
       "=DREAMS (SINGAPORE) LIMITED                      0.125000   \n",
       "21C GIRLS LTD.                                   0.200000   \n",
       "\n",
       "charity_name                 ZION BISHAN BIBLE-PRESBYTERIAN CHURCH  \\\n",
       "charity_name                                                         \n",
       "#CHECKED LIMITED                                               0.0   \n",
       "*SCAPE CO., LTD.                                               0.0   \n",
       "=DREAMS (ASIA) LIMITED                                         0.0   \n",
       "=DREAMS (SINGAPORE) LIMITED                                    0.0   \n",
       "21C GIRLS LTD.                                                 0.0   \n",
       "\n",
       "charity_name                 Zion Church  Zion Full Gospel Church  \\\n",
       "charity_name                                                        \n",
       "#CHECKED LIMITED                     0.0                      0.0   \n",
       "*SCAPE CO., LTD.                     0.0                      0.0   \n",
       "=DREAMS (ASIA) LIMITED               0.0                      0.0   \n",
       "=DREAMS (SINGAPORE) LIMITED          0.0                      0.0   \n",
       "21C GIRLS LTD.                       0.0                      0.0   \n",
       "\n",
       "charity_name                 Zion Home for the Aged  \\\n",
       "charity_name                                          \n",
       "#CHECKED LIMITED                           0.000000   \n",
       "*SCAPE CO., LTD.                           0.166667   \n",
       "=DREAMS (ASIA) LIMITED                     0.000000   \n",
       "=DREAMS (SINGAPORE) LIMITED                0.285714   \n",
       "21C GIRLS LTD.                             0.000000   \n",
       "\n",
       "charity_name                 Zion Living Streams Community Church  \\\n",
       "charity_name                                                        \n",
       "#CHECKED LIMITED                                         0.000000   \n",
       "*SCAPE CO., LTD.                                         0.166667   \n",
       "=DREAMS (ASIA) LIMITED                                   0.000000   \n",
       "=DREAMS (SINGAPORE) LIMITED                              0.125000   \n",
       "21C GIRLS LTD.                                           0.000000   \n",
       "\n",
       "charity_name                 Zion Presbyterian Church  \\\n",
       "charity_name                                            \n",
       "#CHECKED LIMITED                                  0.0   \n",
       "*SCAPE CO., LTD.                                  0.0   \n",
       "=DREAMS (ASIA) LIMITED                            0.0   \n",
       "=DREAMS (SINGAPORE) LIMITED                       0.0   \n",
       "21C GIRLS LTD.                                    0.0   \n",
       "\n",
       "charity_name                 ZION SERANGOON BIBLE-PRESBYTERIAN CHURCH  \\\n",
       "charity_name                                                            \n",
       "#CHECKED LIMITED                                             0.000000   \n",
       "*SCAPE CO., LTD.                                             0.000000   \n",
       "=DREAMS (ASIA) LIMITED                                       0.000000   \n",
       "=DREAMS (SINGAPORE) LIMITED                                  0.111111   \n",
       "21C GIRLS LTD.                                               0.166667   \n",
       "\n",
       "charity_name                 Zonta Singapore- Project Pari Fund  \\\n",
       "charity_name                                                      \n",
       "#CHECKED LIMITED                                       0.000000   \n",
       "*SCAPE CO., LTD.                                       0.142857   \n",
       "=DREAMS (ASIA) LIMITED                                 0.000000   \n",
       "=DREAMS (SINGAPORE) LIMITED                            0.428571   \n",
       "21C GIRLS LTD.                                         0.000000   \n",
       "\n",
       "charity_name                 Zu-Lin Temple Association  \n",
       "charity_name                                            \n",
       "#CHECKED LIMITED                                 0.000  \n",
       "*SCAPE CO., LTD.                                 0.000  \n",
       "=DREAMS (ASIA) LIMITED                           0.000  \n",
       "=DREAMS (SINGAPORE) LIMITED                      0.125  \n",
       "21C GIRLS LTD.                                   0.000  \n",
       "\n",
       "[5 rows x 2601 columns]"
      ]
     },
     "execution_count": 20,
     "metadata": {},
     "output_type": "execute_result"
    }
   ],
   "source": [
    "df_similarities.head()"
   ]
  },
  {
   "cell_type": "markdown",
   "metadata": {},
   "source": [
    "Get the top 10 similarities of a given charity."
   ]
  },
  {
   "cell_type": "code",
   "execution_count": 21,
   "metadata": {},
   "outputs": [
    {
     "data": {
      "text/plain": [
       "charity_name\n",
       "IMPART LTD.                                                1.000000\n",
       "KAMPUNG SENANG CHARITY AND EDUCATION FOUNDATION LIMITED    0.875000\n",
       "PERTAPIS EDUCATION AND WELFARE CENTRE                      0.857143\n",
       "MONTFORT CARE                                              0.777778\n",
       "RAMAKRISHNA MISSION-BOYS' HOME, THE                        0.714286\n",
       "SMA CARE LIMITED                                           0.714286\n",
       "Teen Challenge (Singapore)                                 0.714286\n",
       "ONE HOPE CENTRE                                            0.714286\n",
       "BABES PREGNANCY CRISIS SUPPORT LTD.                        0.714286\n",
       "THYE HUA KWAN MORAL CHARITIES LIMITED                      0.700000\n",
       "Name: IMPART LTD., dtype: float64"
      ]
     },
     "execution_count": 21,
     "metadata": {},
     "output_type": "execute_result"
    }
   ],
   "source": [
    "df_similarities['IMPART LTD.'].sort_values(ascending=False)[:10]"
   ]
  },
  {
   "cell_type": "markdown",
   "metadata": {},
   "source": [
    "---"
   ]
  },
  {
   "cell_type": "markdown",
   "metadata": {},
   "source": [
    "## Part 3: Network Based Recommender"
   ]
  },
  {
   "cell_type": "markdown",
   "metadata": {},
   "source": [
    "Given the network, build a recommender system based on various metrics. There are several social network-based recommender systems. This section aims to implement a simple solution for the given network."
   ]
  },
  {
   "cell_type": "markdown",
   "metadata": {},
   "source": [
    "### Helper Functions for Network Building / Visualisation"
   ]
  },
  {
   "cell_type": "code",
   "execution_count": 22,
   "metadata": {},
   "outputs": [],
   "source": [
    "# Returns the name of person / charity\n",
    "def label_node_name(node):\n",
    "    if node.get('node-type') == 'person':\n",
    "        return node.get('name')\n",
    "    else:\n",
    "        return node.get('charity_name')"
   ]
  },
  {
   "cell_type": "code",
   "execution_count": 23,
   "metadata": {},
   "outputs": [],
   "source": [
    "# make persons dot and charities box on the visualisation\n",
    "def label_node_shape(node):\n",
    "    if node['node-type'] == 'person':\n",
    "        return 'dot'\n",
    "    else:\n",
    "        return 'box' # square"
   ]
  },
  {
   "cell_type": "code",
   "execution_count": 24,
   "metadata": {},
   "outputs": [],
   "source": [
    "def label_node_color_degree(graph, node, start_node):\n",
    "    try: path_len = nx.shortest_path_length(graph, source=start_node, target=node)\n",
    "    except nx.NetworkXNoPath: path_len = 6\n",
    "    if path_len == 0: path_len = 1 # if target is same as source, set it to be the warmest color (same as deg=1)\n",
    "    if path_len > 6: path_len = 6 # this color palette only has 6 colours, limit anything beyond 6 to use the coolest color available\n",
    "    return sns.color_palette('coolwarm').as_hex()[-path_len]"
   ]
  },
  {
   "cell_type": "code",
   "execution_count": 25,
   "metadata": {},
   "outputs": [],
   "source": [
    "def visualise_graph(graph, filename):\n",
    "    for n in graph.nodes(data=True):\n",
    "        n[1]['label'] = label_node_name(n[1])\n",
    "        n[1]['shape'] = label_node_shape(n[1])\n",
    "    \n",
    "    pyvis_net = Network(notebook=True, cdn_resources='remote') \n",
    "    pyvis_net.from_nx(graph) \n",
    "    pyvis_net.show(f'../graph/{filename}.html') "
   ]
  },
  {
   "cell_type": "code",
   "execution_count": 26,
   "metadata": {},
   "outputs": [],
   "source": [
    "# Returns the node of a charity based on its name\n",
    "# Names are unique, else returns the first instance\n",
    "def get_charity_by_name(G, name):\n",
    "    node_select = [node for node, data in G.nodes(data=True) if data.get('node-type') == 'entity' and data.get('charity_name') == name]\n",
    "    # return none if no such charity name\n",
    "    if len(node_select) == 0: return None\n",
    "    return node_select[0]"
   ]
  },
  {
   "cell_type": "code",
   "execution_count": 27,
   "metadata": {},
   "outputs": [],
   "source": [
    "# Returns the node of a person based on the name\n",
    "def get_person_by_name(G, name):\n",
    "    node_select = [node for node, data in G.nodes(data=True) if data.get('node-type') == 'person' and data.get('name') == name]\n",
    "    # return none if no such charity name\n",
    "    if len(node_select) == 0: return None\n",
    "    return node_select[0]"
   ]
  },
  {
   "cell_type": "code",
   "execution_count": 28,
   "metadata": {},
   "outputs": [],
   "source": [
    "def visualise_degree_graph(graph, charity_name, degree, filename):\n",
    "    charity_node = get_charity_by_name(graph, charity_name)\n",
    "    subgraph = nx.ego_graph(graph, charity_node, degree)\n",
    "    for n in subgraph.nodes(data=True):\n",
    "        n[1]['label'] = label_node_name(n[1])\n",
    "        n[1]['shape'] = label_node_shape(n[1])\n",
    "        n[1]['color'] = label_node_color_degree(subgraph, n[0], charity_node)\n",
    "        # TODO: label entity features\n",
    "    \n",
    "    pyvis_net = Network(notebook=True, cdn_resources='remote') \n",
    "    pyvis_net.from_nx(subgraph) \n",
    "    pyvis_net.show(f'../graph/{filename}.html') "
   ]
  },
  {
   "cell_type": "code",
   "execution_count": 29,
   "metadata": {},
   "outputs": [],
   "source": [
    "def visualise_subgraph(subgraph, charity_node, filename):\n",
    "    for n in subgraph.nodes(data=True):\n",
    "        n[1]['label'] = label_node_name(n[1])\n",
    "        n[1]['shape'] = label_node_shape(n[1])\n",
    "        n[1]['color'] = label_node_color_degree(subgraph, n[0], charity_node)\n",
    "        # TODO: label entity features\n",
    "    \n",
    "    pyvis_net = Network(notebook=True, cdn_resources='remote') \n",
    "    pyvis_net.from_nx(subgraph) \n",
    "    pyvis_net.show_buttons(filter_=['physics'])\n",
    "    pyvis_net.show(f'../graph/{filename}.html') "
   ]
  },
  {
   "cell_type": "code",
   "execution_count": 30,
   "metadata": {},
   "outputs": [],
   "source": [
    "def get_community_subgraph_visualise(graph, charity_name, communities, filename):\n",
    "    charity_node = get_charity_by_name(graph, charity_name)\n",
    "    community_num = list(communities.items())[charity_node][1][0]\n",
    "    community_nodes = [node for node, community in communities.items() if community[0] == community_num]\n",
    "    subgraph = graph.subgraph(community_nodes)\n",
    "\n",
    "    visualise_subgraph(subgraph, charity_node, filename)\n",
    "    return \n",
    "    "
   ]
  },
  {
   "cell_type": "markdown",
   "metadata": {},
   "source": [
    "### Ego-Splitting Framework (Community Detection)"
   ]
  },
  {
   "cell_type": "markdown",
   "metadata": {},
   "source": [
    "Use the Ego-Splitting community detection method as evaluated in the previous notebook."
   ]
  },
  {
   "cell_type": "code",
   "execution_count": 31,
   "metadata": {},
   "outputs": [],
   "source": [
    "ENS = karateclub.EgoNetSplitter(weight=None)"
   ]
  },
  {
   "cell_type": "markdown",
   "metadata": {},
   "source": [
    "As this method alters the original graph, use a deep copy of the graph to run this method and use the communities created to visualise on the original graph."
   ]
  },
  {
   "cell_type": "code",
   "execution_count": 32,
   "metadata": {},
   "outputs": [],
   "source": [
    "G_ens = copy.deepcopy(G)\n",
    "ENS.fit(G_ens)"
   ]
  },
  {
   "cell_type": "code",
   "execution_count": 33,
   "metadata": {},
   "outputs": [],
   "source": [
    "communities = ENS.get_memberships()"
   ]
  },
  {
   "cell_type": "markdown",
   "metadata": {},
   "source": [
    "As this algorithm caters for overlapping clusters, check whether any node has been clustered under multiple communities."
   ]
  },
  {
   "cell_type": "code",
   "execution_count": 34,
   "metadata": {},
   "outputs": [],
   "source": [
    "for node, community in communities.items():\n",
    "    if len(community) > 1:\n",
    "        print(f\"Node {node}: Community {community}\")"
   ]
  },
  {
   "cell_type": "markdown",
   "metadata": {},
   "source": [
    "For this network, each node only belongs to one community."
   ]
  },
  {
   "cell_type": "markdown",
   "metadata": {},
   "source": [
    "### Point Based Recommender using Networks"
   ]
  },
  {
   "cell_type": "markdown",
   "metadata": {},
   "source": [
    "While there are probablistic means for [recommending in a network](https://medium.com/dunnhumby-data-science-engineering/network-models-for-recommender-systems-7f0d6d210ccf+), this project thats a point-based approach to weigh donors to recommend based on the donor's relation to the chosen organisation in the network.\n",
    "\n",
    "Taking D to abbreviate a donor and C for the chosen charity, points can be assigned based on the following:\n",
    "1) Distance of D to C\n",
    "2) Whether D resides in the same community as C\n",
    "3) Centrality of D within the subgraph of C\n",
    "4) Similarity of other charities connected to D"
   ]
  },
  {
   "cell_type": "markdown",
   "metadata": {},
   "source": [
    "Using a chosen charity for example:"
   ]
  },
  {
   "cell_type": "code",
   "execution_count": 35,
   "metadata": {},
   "outputs": [],
   "source": [
    "chosen_charity = 'IMPART LTD.'"
   ]
  },
  {
   "cell_type": "code",
   "execution_count": 36,
   "metadata": {},
   "outputs": [
    {
     "data": {
      "text/plain": [
       "23185"
      ]
     },
     "execution_count": 36,
     "metadata": {},
     "output_type": "execute_result"
    }
   ],
   "source": [
    "node_chosen_charity = get_charity_by_name(G, chosen_charity)\n",
    "node_chosen_charity"
   ]
  },
  {
   "cell_type": "markdown",
   "metadata": {},
   "source": [
    "Initialise an empty dictionary to contain the recommended persons. The key will be the node, and the nested dictionary will contain the scores and reasons for recommending."
   ]
  },
  {
   "cell_type": "code",
   "execution_count": 37,
   "metadata": {},
   "outputs": [],
   "source": [
    "recommendations = {}"
   ]
  },
  {
   "cell_type": "code",
   "execution_count": 38,
   "metadata": {},
   "outputs": [],
   "source": [
    "def add_recommendation(node, score, reason):\n",
    "    reason_str = f'({score:.3f}) {reason}\\n'\n",
    "    if node in recommendations:\n",
    "        recommendations[node]['score'] += score\n",
    "        recommendations[node]['reason'] += reason_str\n",
    "        return\n",
    "    else:\n",
    "        recommendations[node] = {\n",
    "            'name': G.nodes()[node]['name'],\n",
    "            'score': score,\n",
    "            'reason': reason_str\n",
    "        }"
   ]
  },
  {
   "cell_type": "markdown",
   "metadata": {},
   "source": [
    "#### Getting the charity's community"
   ]
  },
  {
   "cell_type": "markdown",
   "metadata": {},
   "source": [
    "Recommend donors who are in the same community as the charity."
   ]
  },
  {
   "cell_type": "code",
   "execution_count": 39,
   "metadata": {},
   "outputs": [],
   "source": [
    "# Get the community number of a node\n",
    "def get_community_num(node, communities):\n",
    "    # As there are no overlapping communities detected currently, return the first item of the list\n",
    "    community_num = list(communities.items())[node][1][0]\n",
    "    return community_num"
   ]
  },
  {
   "cell_type": "code",
   "execution_count": 40,
   "metadata": {},
   "outputs": [
    {
     "data": {
      "text/plain": [
       "38"
      ]
     },
     "execution_count": 40,
     "metadata": {},
     "output_type": "execute_result"
    }
   ],
   "source": [
    "get_community_num(node_chosen_charity, communities)"
   ]
  },
  {
   "cell_type": "code",
   "execution_count": 41,
   "metadata": {},
   "outputs": [],
   "source": [
    "# Get all other person nodes within the community that is not already connected to the charity\n",
    "def get_other_persons_community(G, node_chosen_charity, communities):\n",
    "    \n",
    "    community_num = get_community_num(node_chosen_charity, communities)\n",
    "    # Nodes in the same community\n",
    "    community_nodes = [node for node, community in communities.items() if community[0] == community_num and \n",
    "                       # Node is not the charity itself\n",
    "                       node != node_chosen_charity and \n",
    "                       # Node is not already directly connected to the charity\n",
    "                       node not in G.neighbors(node_chosen_charity) and\n",
    "                       # Node is a person\n",
    "                       G.nodes()[node]['node-type'] == 'person']\n",
    "\n",
    "    return community_nodes"
   ]
  },
  {
   "cell_type": "code",
   "execution_count": 42,
   "metadata": {},
   "outputs": [],
   "source": [
    "persons_in_community = get_other_persons_community(G, node_chosen_charity, communities)"
   ]
  },
  {
   "cell_type": "code",
   "execution_count": 44,
   "metadata": {},
   "outputs": [],
   "source": [
    "# Add 1 score for persons in the same community\n",
    "for person in persons_in_community:\n",
    "    add_recommendation(person, 1, 'Donor resides in the same community')"
   ]
  },
  {
   "cell_type": "markdown",
   "metadata": {},
   "source": [
    "#### Getting similar charities"
   ]
  },
  {
   "cell_type": "markdown",
   "metadata": {},
   "source": [
    "Get charities that are above a set threshold of similarity, recommend their donors based on the similarity score. The same donor can appear multiple times and scores are additive."
   ]
  },
  {
   "cell_type": "code",
   "execution_count": 46,
   "metadata": {},
   "outputs": [],
   "source": [
    "similarity_threshold = 0.6"
   ]
  },
  {
   "cell_type": "code",
   "execution_count": 47,
   "metadata": {},
   "outputs": [],
   "source": [
    "similar_charities = df_similarities[chosen_charity][df_similarities[chosen_charity] >= similarity_threshold].sort_values(ascending=False)"
   ]
  },
  {
   "cell_type": "code",
   "execution_count": 48,
   "metadata": {},
   "outputs": [],
   "source": [
    "similar_charities.name = 'similarity'"
   ]
  },
  {
   "cell_type": "code",
   "execution_count": 49,
   "metadata": {},
   "outputs": [
    {
     "data": {
      "text/html": [
       "<div>\n",
       "<style scoped>\n",
       "    .dataframe tbody tr th:only-of-type {\n",
       "        vertical-align: middle;\n",
       "    }\n",
       "\n",
       "    .dataframe tbody tr th {\n",
       "        vertical-align: top;\n",
       "    }\n",
       "\n",
       "    .dataframe thead th {\n",
       "        text-align: right;\n",
       "    }\n",
       "</style>\n",
       "<table border=\"1\" class=\"dataframe\">\n",
       "  <thead>\n",
       "    <tr style=\"text-align: right;\">\n",
       "      <th></th>\n",
       "      <th>similarity</th>\n",
       "    </tr>\n",
       "    <tr>\n",
       "      <th>charity_name</th>\n",
       "      <th></th>\n",
       "    </tr>\n",
       "  </thead>\n",
       "  <tbody>\n",
       "    <tr>\n",
       "      <th>KAMPUNG SENANG CHARITY AND EDUCATION FOUNDATION LIMITED</th>\n",
       "      <td>0.875000</td>\n",
       "    </tr>\n",
       "    <tr>\n",
       "      <th>PERTAPIS EDUCATION AND WELFARE CENTRE</th>\n",
       "      <td>0.857143</td>\n",
       "    </tr>\n",
       "    <tr>\n",
       "      <th>MONTFORT CARE</th>\n",
       "      <td>0.777778</td>\n",
       "    </tr>\n",
       "    <tr>\n",
       "      <th>BABES PREGNANCY CRISIS SUPPORT LTD.</th>\n",
       "      <td>0.714286</td>\n",
       "    </tr>\n",
       "    <tr>\n",
       "      <th>SMA CARE LIMITED</th>\n",
       "      <td>0.714286</td>\n",
       "    </tr>\n",
       "  </tbody>\n",
       "</table>\n",
       "</div>"
      ],
      "text/plain": [
       "                                                    similarity\n",
       "charity_name                                                  \n",
       "KAMPUNG SENANG CHARITY AND EDUCATION FOUNDATION...    0.875000\n",
       "PERTAPIS EDUCATION AND WELFARE CENTRE                 0.857143\n",
       "MONTFORT CARE                                         0.777778\n",
       "BABES PREGNANCY CRISIS SUPPORT LTD.                   0.714286\n",
       "SMA CARE LIMITED                                      0.714286"
      ]
     },
     "execution_count": 49,
     "metadata": {},
     "output_type": "execute_result"
    }
   ],
   "source": [
    "df_similar = pd.DataFrame(similar_charities, index=similar_charities.index)\n",
    "df_similar.drop(chosen_charity, inplace=True)\n",
    "df_similar.head()"
   ]
  },
  {
   "cell_type": "code",
   "execution_count": 50,
   "metadata": {},
   "outputs": [],
   "source": [
    "# Will need to check length of df_similar for demo\n",
    "for c in df_similar.index:\n",
    "    # Get the score of the similar charity\n",
    "    score = df_similar.loc[c]['similarity']\n",
    "    # Get the neighbors (persons/donors) of the charity\n",
    "    # All neighbors of any given charity are currently only persons\n",
    "    charity_node = get_charity_by_name(G, c)\n",
    "    similar_persons = list(G.neighbors(charity_node))\n",
    "    if len(similar_persons) > 0:\n",
    "        reason_str = f'Donor from similar charity: {c}'\n",
    "        for p in similar_persons:\n",
    "            add_recommendation(p, score, reason_str)"
   ]
  },
  {
   "cell_type": "markdown",
   "metadata": {},
   "source": [
    "#### Distance of donor from charity"
   ]
  },
  {
   "cell_type": "code",
   "execution_count": 52,
   "metadata": {},
   "outputs": [],
   "source": [
    "distance_threshold = 5"
   ]
  },
  {
   "cell_type": "code",
   "execution_count": 53,
   "metadata": {},
   "outputs": [],
   "source": [
    "for node_person, person in recommendations.items():\n",
    "    try:\n",
    "        distance = nx.shortest_path_length(G, source=node_person, target=node_chosen_charity)\n",
    "        # Add a flat score of 1 when donor is up to 5 degrees away; otherwise 0.5 for connected donor\n",
    "        if distance <= distance_threshold: score = 1\n",
    "        else: score = 0.5\n",
    "        add_recommendation(node_person, score, f'Donor distance is {distance}')\n",
    "        #print(f\"Distance of {person['name']} is {nx.shortest_path_length(G, source=node_person, target=node_chosen_charity)}\")\n",
    "    # No score awarded when there is no direct path from donor to charity\n",
    "    except nx.NetworkXNoPath:\n",
    "        continue\n",
    "        #print(f\"{person['name']} has no connected path\")"
   ]
  },
  {
   "cell_type": "markdown",
   "metadata": {},
   "source": [
    "#### Creating donor subgraphs"
   ]
  },
  {
   "cell_type": "code",
   "execution_count": 55,
   "metadata": {},
   "outputs": [],
   "source": [
    "def get_recommendation_subgraph(G, node_charity, communities, recommendations):\n",
    "    community_num = get_community_num(node_charity, communities)\n",
    "    # Nodes in the same community\n",
    "    recommendation_nodes = [node for node, community in communities.items() if community[0] == community_num]\n",
    "    \n",
    "    # Add person nodes and its in-between connections if it can connect to the subgraph\n",
    "    for node_person in recommendations:\n",
    "        # skip if the person is already in the community subgraph\n",
    "        if node_person in recommendation_nodes: continue\n",
    "        try:\n",
    "            shortest_paths = list(nx.all_shortest_paths(G, source=node_person, target=node_chosen_charity))\n",
    "            for path in shortest_paths:\n",
    "                nodes_to_add = [node for node in path if node not in recommendation_nodes]\n",
    "                recommendation_nodes.extend(nodes_to_add)\n",
    "\n",
    "        # if there is no path from the person to the charity, just add the person node\n",
    "        except nx.NetworkXNoPath:\n",
    "            #print(f'{node_person} is not connected')\n",
    "            recommendation_nodes.append(node_person)\n",
    "    \n",
    "    return G.subgraph(recommendation_nodes)\n",
    "\n",
    "        "
   ]
  },
  {
   "cell_type": "code",
   "execution_count": 56,
   "metadata": {},
   "outputs": [],
   "source": [
    "recommendation_subgraph = get_recommendation_subgraph(G, node_chosen_charity, communities, recommendations)"
   ]
  },
  {
   "cell_type": "code",
   "execution_count": 57,
   "metadata": {},
   "outputs": [
    {
     "data": {
      "text/plain": [
       "NodeView((24576, 24580, 22538, 11, 6155, 12303, 22545, 17, 24594, 22549, 22, 4119, 24, 25, 22551, 24602, 30, 31, 22560, 22559, 24620, 2099, 8243, 58, 24635, 4160, 24649, 8265, 12363, 22604, 24652, 12364, 24655, 6219, 2130, 22610, 4181, 2134, 2135, 22622, 2164, 121, 12409, 123, 6269, 24702, 24703, 128, 24710, 135, 22664, 12422, 4236, 2192, 4241, 4242, 4243, 4244, 4245, 24723, 4247, 151, 4249, 4250, 4251, 4252, 24733, 153, 4255, 159, 2216, 2217, 2218, 2219, 2220, 2221, 2222, 2223, 2224, 177, 2225, 2226, 2227, 12472, 8378, 198, 22730, 203, 206, 2260, 22744, 4319, 12518, 2279, 12519, 12521, 4332, 22768, 22770, 4341, 4344, 12544, 12551, 22441, 22804, 22805, 22813, 22823, 22829, 12596, 12598, 14650, 14653, 14658, 8515, 14659, 14660, 14661, 14662, 14663, 2376, 2377, 2379, 12620, 2380, 24489, 22857, 22864, 10577, 2384, 10579, 2385, 2386, 10582, 10583, 2387, 10585, 14681, 10587, 14682, 14683, 10590, 10591, 14684, 14685, 14686, 14687, 10597, 4454, 4455, 4456, 4457, 4458, 361, 22894, 22897, 10612, 12661, 18806, 12667, 10627, 22918, 6537, 6539, 20876, 12685, 2445, 2446, 2447, 2448, 2449, 2450, 2451, 2452, 2453, 12695, 2454, 2455, 2456, 2457, 2458, 2459, 2460, 12703, 10656, 10657, 2461, 2462, 6566, 6569, 433, 438, 10688, 22986, 4589, 23300, 23024, 14838, 23049, 8714, 527, 528, 529, 8722, 531, 530, 532, 533, 534, 535, 23065, 536, 537, 538, 539, 540, 543, 541, 23077, 550, 12839, 6697, 23083, 4655, 14909, 23110, 20877, 20878, 8788, 6741, 6742, 12887, 20879, 12888, 23130, 12889, 12890, 20880, 12891, 23135, 12892, 12893, 20881, 12894, 23140, 12895, 12896, 20882, 23145, 2668, 20883, 20884, 630, 631, 20885, 633, 23164, 637, 638, 23180, 10893, 10894, 10895, 10896, 23185, 10898, 10899, 10897, 10900, 10901, 10902, 22927, 22928, 4776, 4777, 4778, 4779, 4780, 4781, 4782, 4783, 23215, 23211, 17068, 6826, 23216, 6828, 10934, 8887, 6831, 6832, 8890, 6834, 6835, 6836, 6837, 22934, 8888, 8889, 8891, 17101, 17102, 17103, 17104, 17105, 17106, 2767, 2768, 17109, 731, 23271, 23272, 23274, 23275, 23281, 23287, 23289, 19195, 19196, 19197, 19198, 19199, 19200, 19201, 19202, 19203, 15107, 19205, 19206, 19207, 19208, 19209, 19210, 19211, 19212, 19213, 21272, 21273, 21274, 21275, 21276, 21277, 15128, 15129, 15130, 15131, 15132, 15133, 21291, 21292, 21293, 23342, 21294, 21295, 23345, 23343, 2197, 23347, 11062, 23352, 13113, 13118, 13119, 11072, 23378, 1798, 9052, 9053, 9054, 9055, 9056, 23398, 15214, 884, 23419, 23420, 23424, 4994, 19337, 19338, 19339, 15263, 23464, 23465, 23472, 13241, 13242, 13243, 13244, 13245, 13246, 13247, 23485, 23490, 23491, 17347, 771, 11213, 23502, 23507, 9177, 1003, 1004, 1005, 1006, 9200, 9201, 9202, 9203, 9204, 9205, 23545, 13316, 23557, 13317, 13318, 13319, 13320, 13321, 15367, 7176, 17419, 15374, 23562, 23569, 13330, 1043, 23574, 23576, 23577, 1051, 23581, 23582, 23586, 23587, 23589, 23590, 11307, 11310, 15407, 11316, 23605, 3130, 3131, 3132, 3133, 11324, 23611, 11329, 11330, 11331, 13387, 3149, 3155, 3884, 11352, 11353, 11354, 11355, 9991, 11356, 3166, 23647, 11360, 11361, 11357, 11358, 11359, 3173, 11366, 11362, 11363, 11364, 11365, 23663, 23676, 1153, 23681, 7299, 23683, 23685, 5261, 1174, 1175, 21654, 5273, 21655, 21656, 21657, 21658, 21659, 21660, 11424, 21661, 21662, 23715, 21663, 7338, 23727, 23738, 9405, 9406, 9408, 9410, 9411, 9413, 9418, 3274, 1231, 19663, 19664, 1234, 1235, 9428, 19665, 9430, 19666, 3281, 23770, 23772, 23778, 3310, 23790, 9459, 3315, 16128, 16129, 9470, 23810, 16130, 16131, 7433, 23819, 23820, 16132, 16133, 16134, 16135, 16136, 23842, 3362, 1320, 1321, 1323, 1324, 1325, 1326, 1327, 1328, 23855, 9515, 9516, 3380, 3381, 3382, 5428, 3387, 3389, 17725, 23871, 17728, 17732, 23888, 5461, 5462, 5463, 5464, 5465, 5466, 23897, 23895, 23900, 23907, 23915, 23916, 1405, 11648, 11649, 11650, 11651, 11652, 1413, 11654, 11653, 13704, 23945, 3464, 3465, 13708, 1422, 13715, 1429, 1430, 1431, 1433, 1434, 23963, 1436, 1437, 22269, 15788, 11696, 11697, 11698, 11699, 11700, 11701, 11702, 11703, 11704, 11705, 23998, 24004, 24008, 22276, 24023, 13792, 24037, 1517, 24047, 24052, 24055, 24056, 7673, 11772, 3581, 3582, 24061, 11773, 11777, 3585, 24071, 3606, 24096, 17957, 17958, 17959, 17960, 17961, 17962, 24107, 17963, 11821, 24104, 24108, 24112, 6827, 5682, 11825, 6829, 11831, 24122, 6830, 24125, 11847, 11848, 13896, 13897, 13898, 13899, 13901, 13902, 13903, 13904, 13905, 13900, 3667, 24139, 24140, 24150, 24146, 24157, 3684, 24168, 24170, 24171, 24190, 24191, 1960, 11916, 11917, 11918, 11919, 11920, 22158, 11921, 24209, 22315, 3735, 3737, 8884, 22171, 24220, 22172, 1695, 24224, 8885, 22178, 18082, 18083, 18084, 18085, 18086, 18087, 8886, 3760, 3761, 24241, 5812, 5814, 1970, 22205, 9918, 9919, 9920, 9921, 9922, 9923, 9924, 9925, 1734, 9926, 9927, 9928, 9929, 9930, 24267, 22216, 22215, 24271, 16079, 16080, 16081, 16082, 22228, 9941, 16086, 16083, 16084, 16085, 24282, 22235, 16087, 16088, 16089, 9960, 24302, 24303, 2388, 2389, 5877, 24312, 2390, 9979, 9980, 9981, 9982, 9983, 9984, 9985, 9986, 9987, 9988, 9989, 9990, 22274, 9992, 9993, 9994, 20231, 20232, 20233, 20234, 20235, 20236, 20237, 20238, 22291, 20243, 22298, 22307, 770, 24360, 24361, 10026, 10027, 10028, 10029, 10030, 10031, 10032, 10033, 3888, 10035, 10036, 10037, 24375, 3899, 3901, 3902, 24384, 22342, 22343, 14150, 24393, 14156, 22350, 14158, 5966, 24402, 8023, 8024, 22366, 24415, 8109, 22371, 24421, 22377, 10095, 10096, 22387, 24436, 24437, 22394, 22395, 10108, 22398, 6833, 1920, 24454, 8117, 22411, 8118, 22412, 6031, 8119, 24471, 24480, 18339, 18340, 18341, 18342, 18343, 18344, 18345, 1962, 18346, 18347, 18348, 18349, 6063, 18350, 6065, 12210, 6066, 18351, 18352, 18353, 18354, 18355, 18356, 18357, 18358, 18359, 18360, 18361, 18362, 18363, 8120, 8121, 8122, 24509, 22480, 24528, 24530, 10193, 22482, 10196, 16337, 22484, 14298, 14299, 14300, 14301, 14302, 14303, 10209, 22498, 2020, 2021, 2022, 2023, 22504, 2024, 2025, 2026, 2027, 2028, 2031, 8176, 18417, 22514, 8178, 22515, 18418, 18419, 18420, 22525))"
      ]
     },
     "execution_count": 57,
     "metadata": {},
     "output_type": "execute_result"
    }
   ],
   "source": [
    "recommendation_subgraph.nodes()"
   ]
  },
  {
   "cell_type": "code",
   "execution_count": 59,
   "metadata": {},
   "outputs": [
    {
     "name": "stdout",
     "output_type": "stream",
     "text": [
      "../graph/impart_test.html\n"
     ]
    }
   ],
   "source": [
    "visualise_subgraph(recommendation_subgraph, node_chosen_charity, 'impart_test')"
   ]
  },
  {
   "cell_type": "markdown",
   "metadata": {},
   "source": [
    "#### Subgraph Centrality"
   ]
  },
  {
   "cell_type": "markdown",
   "metadata": {},
   "source": [
    "Eigenvector centrality is a useful measure of connections in social networks. Add scores based on a standardised scale of the centrality within the subgraph."
   ]
  },
  {
   "cell_type": "code",
   "execution_count": 60,
   "metadata": {},
   "outputs": [
    {
     "data": {
      "text/html": [
       "<div>\n",
       "<style scoped>\n",
       "    .dataframe tbody tr th:only-of-type {\n",
       "        vertical-align: middle;\n",
       "    }\n",
       "\n",
       "    .dataframe tbody tr th {\n",
       "        vertical-align: top;\n",
       "    }\n",
       "\n",
       "    .dataframe thead th {\n",
       "        text-align: right;\n",
       "    }\n",
       "</style>\n",
       "<table border=\"1\" class=\"dataframe\">\n",
       "  <thead>\n",
       "    <tr style=\"text-align: right;\">\n",
       "      <th></th>\n",
       "      <th>centrality</th>\n",
       "    </tr>\n",
       "  </thead>\n",
       "  <tbody>\n",
       "    <tr>\n",
       "      <th>24576</th>\n",
       "      <td>1.362565e-01</td>\n",
       "    </tr>\n",
       "    <tr>\n",
       "      <th>24580</th>\n",
       "      <td>1.852147e-01</td>\n",
       "    </tr>\n",
       "    <tr>\n",
       "      <th>22538</th>\n",
       "      <td>3.725001e-08</td>\n",
       "    </tr>\n",
       "    <tr>\n",
       "      <th>11</th>\n",
       "      <td>3.149611e-06</td>\n",
       "    </tr>\n",
       "    <tr>\n",
       "      <th>6155</th>\n",
       "      <td>1.366270e-05</td>\n",
       "    </tr>\n",
       "    <tr>\n",
       "      <th>...</th>\n",
       "      <td>...</td>\n",
       "    </tr>\n",
       "    <tr>\n",
       "      <th>22515</th>\n",
       "      <td>1.565219e-06</td>\n",
       "    </tr>\n",
       "    <tr>\n",
       "      <th>18418</th>\n",
       "      <td>9.433086e-65</td>\n",
       "    </tr>\n",
       "    <tr>\n",
       "      <th>18419</th>\n",
       "      <td>9.433086e-65</td>\n",
       "    </tr>\n",
       "    <tr>\n",
       "      <th>18420</th>\n",
       "      <td>9.433086e-65</td>\n",
       "    </tr>\n",
       "    <tr>\n",
       "      <th>22525</th>\n",
       "      <td>1.116202e-07</td>\n",
       "    </tr>\n",
       "  </tbody>\n",
       "</table>\n",
       "<p>908 rows × 1 columns</p>\n",
       "</div>"
      ],
      "text/plain": [
       "         centrality\n",
       "24576  1.362565e-01\n",
       "24580  1.852147e-01\n",
       "22538  3.725001e-08\n",
       "11     3.149611e-06\n",
       "6155   1.366270e-05\n",
       "...             ...\n",
       "22515  1.565219e-06\n",
       "18418  9.433086e-65\n",
       "18419  9.433086e-65\n",
       "18420  9.433086e-65\n",
       "22525  1.116202e-07\n",
       "\n",
       "[908 rows x 1 columns]"
      ]
     },
     "execution_count": 60,
     "metadata": {},
     "output_type": "execute_result"
    }
   ],
   "source": [
    "df_centrality = pd.DataFrame.from_dict(nx.eigenvector_centrality(recommendation_subgraph), orient='index', columns=['centrality'])\n",
    "df_centrality"
   ]
  },
  {
   "cell_type": "code",
   "execution_count": 61,
   "metadata": {},
   "outputs": [],
   "source": [
    "# Drop the charities from this centrality table\n",
    "for node in df_centrality.index:\n",
    "    if G.nodes()[node]['node-type'] == 'entity':\n",
    "        df_centrality.drop(node, inplace=True)"
   ]
  },
  {
   "cell_type": "code",
   "execution_count": 62,
   "metadata": {},
   "outputs": [
    {
     "data": {
      "text/plain": [
       "[3380, 9200, 9201, 9202, 9203, 9204, 9205]"
      ]
     },
     "execution_count": 62,
     "metadata": {},
     "output_type": "execute_result"
    }
   ],
   "source": [
    "existing_neighbors = list(G.neighbors(node_chosen_charity))\n",
    "existing_neighbors"
   ]
  },
  {
   "cell_type": "code",
   "execution_count": 63,
   "metadata": {},
   "outputs": [],
   "source": [
    "for node in existing_neighbors:\n",
    "    if node in df_centrality.index:\n",
    "        df_centrality.drop(node, inplace=True)"
   ]
  },
  {
   "cell_type": "code",
   "execution_count": 64,
   "metadata": {},
   "outputs": [
    {
     "data": {
      "text/plain": [
       "(682, 1)"
      ]
     },
     "execution_count": 64,
     "metadata": {},
     "output_type": "execute_result"
    }
   ],
   "source": [
    "df_centrality.shape"
   ]
  },
  {
   "cell_type": "code",
   "execution_count": 65,
   "metadata": {},
   "outputs": [],
   "source": [
    "max_centrality = df_centrality['centrality'].max()\n",
    "min_centrality = df_centrality['centrality'].min()"
   ]
  },
  {
   "cell_type": "code",
   "execution_count": 66,
   "metadata": {},
   "outputs": [],
   "source": [
    "df_centrality['centrality'] = (df_centrality['centrality']  - min_centrality) / (max_centrality - min_centrality)"
   ]
  },
  {
   "cell_type": "code",
   "execution_count": 67,
   "metadata": {},
   "outputs": [
    {
     "data": {
      "text/html": [
       "<div>\n",
       "<style scoped>\n",
       "    .dataframe tbody tr th:only-of-type {\n",
       "        vertical-align: middle;\n",
       "    }\n",
       "\n",
       "    .dataframe tbody tr th {\n",
       "        vertical-align: top;\n",
       "    }\n",
       "\n",
       "    .dataframe thead th {\n",
       "        text-align: right;\n",
       "    }\n",
       "</style>\n",
       "<table border=\"1\" class=\"dataframe\">\n",
       "  <thead>\n",
       "    <tr style=\"text-align: right;\">\n",
       "      <th></th>\n",
       "      <th>centrality</th>\n",
       "    </tr>\n",
       "  </thead>\n",
       "  <tbody>\n",
       "    <tr>\n",
       "      <th>4249</th>\n",
       "      <td>1.000000</td>\n",
       "    </tr>\n",
       "    <tr>\n",
       "      <th>4244</th>\n",
       "      <td>1.000000</td>\n",
       "    </tr>\n",
       "    <tr>\n",
       "      <th>4236</th>\n",
       "      <td>0.828991</td>\n",
       "    </tr>\n",
       "    <tr>\n",
       "      <th>4255</th>\n",
       "      <td>0.828991</td>\n",
       "    </tr>\n",
       "    <tr>\n",
       "      <th>4252</th>\n",
       "      <td>0.828991</td>\n",
       "    </tr>\n",
       "    <tr>\n",
       "      <th>...</th>\n",
       "      <td>...</td>\n",
       "    </tr>\n",
       "    <tr>\n",
       "      <th>21663</th>\n",
       "      <td>0.000000</td>\n",
       "    </tr>\n",
       "    <tr>\n",
       "      <th>9405</th>\n",
       "      <td>0.000000</td>\n",
       "    </tr>\n",
       "    <tr>\n",
       "      <th>9406</th>\n",
       "      <td>0.000000</td>\n",
       "    </tr>\n",
       "    <tr>\n",
       "      <th>9408</th>\n",
       "      <td>0.000000</td>\n",
       "    </tr>\n",
       "    <tr>\n",
       "      <th>18420</th>\n",
       "      <td>0.000000</td>\n",
       "    </tr>\n",
       "  </tbody>\n",
       "</table>\n",
       "<p>682 rows × 1 columns</p>\n",
       "</div>"
      ],
      "text/plain": [
       "       centrality\n",
       "4249     1.000000\n",
       "4244     1.000000\n",
       "4236     0.828991\n",
       "4255     0.828991\n",
       "4252     0.828991\n",
       "...           ...\n",
       "21663    0.000000\n",
       "9405     0.000000\n",
       "9406     0.000000\n",
       "9408     0.000000\n",
       "18420    0.000000\n",
       "\n",
       "[682 rows x 1 columns]"
      ]
     },
     "execution_count": 67,
     "metadata": {},
     "output_type": "execute_result"
    }
   ],
   "source": [
    "df_centrality.sort_values(by='centrality', ascending=False)"
   ]
  },
  {
   "cell_type": "code",
   "execution_count": 68,
   "metadata": {},
   "outputs": [],
   "source": [
    "for node in df_centrality.index: \n",
    "    score = df_centrality.loc[node]['centrality']\n",
    "    add_recommendation(node, score, f'Donor scaled eigenvector centrality is {score}')"
   ]
  },
  {
   "cell_type": "markdown",
   "metadata": {},
   "source": [
    "---"
   ]
  },
  {
   "cell_type": "markdown",
   "metadata": {},
   "source": [
    "## Part 4: Visualising Recommendations"
   ]
  },
  {
   "cell_type": "markdown",
   "metadata": {},
   "source": [
    "Visualise the recommended donors in a pyvis network graph. Autumn color palette is used where the higher recommended donors are colored more red, and less recommended donors are more yellow."
   ]
  },
  {
   "cell_type": "code",
   "execution_count": 71,
   "metadata": {},
   "outputs": [],
   "source": [
    "def label_node_score_color(node, node_charity, recommendations, max_score, min_score):\n",
    "    if node == node_charity: return '#c6e6ee' #'#34eb9e'\n",
    "    if node not in recommendations: return '#d7d9d8'\n",
    "    score = recommendations[node]['score']\n",
    "    # Normalize the score to [0, 1]\n",
    "    n_score = (score - min_score) / (max_score - min_score)\n",
    "    # Use the warm cool color gradient\n",
    "    hex_color = mcolors.to_hex(matplotlib.colormaps['autumn'](1-n_score))\n",
    "\n",
    "    return hex_color"
   ]
  },
  {
   "cell_type": "code",
   "execution_count": 72,
   "metadata": {},
   "outputs": [],
   "source": [
    "# Returns the name of person / charity\n",
    "def label_node_score_name(node, recommendations, node_num):\n",
    "    if node.get('node-type') == 'entity':\n",
    "        return node.get('charity_name')\n",
    "    if node_num not in recommendations:\n",
    "        return node.get('name')\n",
    "    else:\n",
    "        return f\"{recommendations[node_num]['score']:.3f} {node.get('name')}\"\n"
   ]
  },
  {
   "cell_type": "code",
   "execution_count": 73,
   "metadata": {},
   "outputs": [],
   "source": [
    "def visualise_recommendation(subgraph, node_charity, recommendations, filename):\n",
    "    scores = [value['score'] for value in recommendations.values()]\n",
    "    max_score = max(scores)\n",
    "    min_score = min(scores)\n",
    "    \n",
    "    for n in subgraph.nodes(data=True):\n",
    "        n[1]['label'] = label_node_score_name(n[1], recommendations, n[0])\n",
    "        n[1]['shape'] = label_node_shape(n[1])\n",
    "        n[1]['color'] = label_node_score_color(n[0], node_charity, recommendations, max_score, min_score)\n",
    "        \n",
    "    pyvis_net = Network(notebook=True, cdn_resources='remote') \n",
    "    pyvis_net.from_nx(subgraph)\n",
    "    #pyvis_net.toggle_physics(False)\n",
    "    pyvis_net.show_buttons(filter_=['physics'])\n",
    "    pyvis_net.show(f'../graph/{filename}.html') "
   ]
  },
  {
   "cell_type": "code",
   "execution_count": 74,
   "metadata": {},
   "outputs": [
    {
     "name": "stdout",
     "output_type": "stream",
     "text": [
      "../graph/impart_reqs.html\n"
     ]
    }
   ],
   "source": [
    "visualise_recommendation(recommendation_subgraph, node_chosen_charity, recommendations, 'impart_reqs')"
   ]
  },
  {
   "cell_type": "code",
   "execution_count": 75,
   "metadata": {},
   "outputs": [],
   "source": [
    "df_recommendations = pd.DataFrame.from_dict(recommendations, orient='index', columns=['name', 'score', 'reason'])"
   ]
  },
  {
   "cell_type": "code",
   "execution_count": 76,
   "metadata": {},
   "outputs": [
    {
     "data": {
      "text/html": [
       "<div>\n",
       "<style scoped>\n",
       "    .dataframe tbody tr th:only-of-type {\n",
       "        vertical-align: middle;\n",
       "    }\n",
       "\n",
       "    .dataframe tbody tr th {\n",
       "        vertical-align: top;\n",
       "    }\n",
       "\n",
       "    .dataframe thead th {\n",
       "        text-align: right;\n",
       "    }\n",
       "</style>\n",
       "<table border=\"1\" class=\"dataframe\">\n",
       "  <thead>\n",
       "    <tr style=\"text-align: right;\">\n",
       "      <th></th>\n",
       "      <th>name</th>\n",
       "      <th>score</th>\n",
       "      <th>reason</th>\n",
       "    </tr>\n",
       "  </thead>\n",
       "  <tbody>\n",
       "    <tr>\n",
       "      <th>3130</th>\n",
       "      <td>MAITLAND TANYA MEI SIAN</td>\n",
       "      <td>2.636370</td>\n",
       "      <td>(1.000) Donor resides in the same community\\n(...</td>\n",
       "    </tr>\n",
       "    <tr>\n",
       "      <th>3131</th>\n",
       "      <td>CHENG KUANG KUO @JAMES CHENG KUANG KUO</td>\n",
       "      <td>2.136367</td>\n",
       "      <td>(1.000) Donor resides in the same community\\n(...</td>\n",
       "    </tr>\n",
       "    <tr>\n",
       "      <th>3132</th>\n",
       "      <td>JOSEPH LEONG JERN-YI (LIANG ZHENYI)</td>\n",
       "      <td>2.136367</td>\n",
       "      <td>(1.000) Donor resides in the same community\\n(...</td>\n",
       "    </tr>\n",
       "    <tr>\n",
       "      <th>3133</th>\n",
       "      <td>SALLY HO TWA MOI</td>\n",
       "      <td>2.136367</td>\n",
       "      <td>(1.000) Donor resides in the same community\\n(...</td>\n",
       "    </tr>\n",
       "    <tr>\n",
       "      <th>3310</th>\n",
       "      <td>TAN KHENG BOON EUGENE</td>\n",
       "      <td>2.000085</td>\n",
       "      <td>(1.000) Donor resides in the same community\\n(...</td>\n",
       "    </tr>\n",
       "  </tbody>\n",
       "</table>\n",
       "</div>"
      ],
      "text/plain": [
       "                                        name     score  \\\n",
       "3130                 MAITLAND TANYA MEI SIAN  2.636370   \n",
       "3131  CHENG KUANG KUO @JAMES CHENG KUANG KUO  2.136367   \n",
       "3132     JOSEPH LEONG JERN-YI (LIANG ZHENYI)  2.136367   \n",
       "3133                        SALLY HO TWA MOI  2.136367   \n",
       "3310                   TAN KHENG BOON EUGENE  2.000085   \n",
       "\n",
       "                                                 reason  \n",
       "3130  (1.000) Donor resides in the same community\\n(...  \n",
       "3131  (1.000) Donor resides in the same community\\n(...  \n",
       "3132  (1.000) Donor resides in the same community\\n(...  \n",
       "3133  (1.000) Donor resides in the same community\\n(...  \n",
       "3310  (1.000) Donor resides in the same community\\n(...  "
      ]
     },
     "execution_count": 76,
     "metadata": {},
     "output_type": "execute_result"
    }
   ],
   "source": [
    "df_recommendations.head()"
   ]
  },
  {
   "cell_type": "code",
   "execution_count": 77,
   "metadata": {},
   "outputs": [
    {
     "data": {
      "text/html": [
       "<div>\n",
       "<style scoped>\n",
       "    .dataframe tbody tr th:only-of-type {\n",
       "        vertical-align: middle;\n",
       "    }\n",
       "\n",
       "    .dataframe tbody tr th {\n",
       "        vertical-align: top;\n",
       "    }\n",
       "\n",
       "    .dataframe thead th {\n",
       "        text-align: right;\n",
       "    }\n",
       "</style>\n",
       "<table border=\"1\" class=\"dataframe\">\n",
       "  <thead>\n",
       "    <tr style=\"text-align: right;\">\n",
       "      <th></th>\n",
       "      <th>name</th>\n",
       "      <th>score</th>\n",
       "      <th>reason</th>\n",
       "    </tr>\n",
       "  </thead>\n",
       "  <tbody>\n",
       "    <tr>\n",
       "      <th>3130</th>\n",
       "      <td>MAITLAND TANYA MEI SIAN</td>\n",
       "      <td>2.636370e+00</td>\n",
       "      <td>(1.000) Donor resides in the same community\\n(...</td>\n",
       "    </tr>\n",
       "    <tr>\n",
       "      <th>8178</th>\n",
       "      <td>TAN SEE LENG</td>\n",
       "      <td>2.291686e+00</td>\n",
       "      <td>(0.667) Donor from similar charity: THE HUT LI...</td>\n",
       "    </tr>\n",
       "    <tr>\n",
       "      <th>3132</th>\n",
       "      <td>JOSEPH LEONG JERN-YI (LIANG ZHENYI)</td>\n",
       "      <td>2.136367e+00</td>\n",
       "      <td>(1.000) Donor resides in the same community\\n(...</td>\n",
       "    </tr>\n",
       "    <tr>\n",
       "      <th>3133</th>\n",
       "      <td>SALLY HO TWA MOI</td>\n",
       "      <td>2.136367e+00</td>\n",
       "      <td>(1.000) Donor resides in the same community\\n(...</td>\n",
       "    </tr>\n",
       "    <tr>\n",
       "      <th>3131</th>\n",
       "      <td>CHENG KUANG KUO @JAMES CHENG KUANG KUO</td>\n",
       "      <td>2.136367e+00</td>\n",
       "      <td>(1.000) Donor resides in the same community\\n(...</td>\n",
       "    </tr>\n",
       "    <tr>\n",
       "      <th>...</th>\n",
       "      <td>...</td>\n",
       "      <td>...</td>\n",
       "      <td>...</td>\n",
       "    </tr>\n",
       "    <tr>\n",
       "      <th>3581</th>\n",
       "      <td>TAI WEN LIANG DENNES</td>\n",
       "      <td>6.202538e-07</td>\n",
       "      <td>(0.000) Donor scaled eigenvector centrality is...</td>\n",
       "    </tr>\n",
       "    <tr>\n",
       "      <th>3585</th>\n",
       "      <td>LEE PENG ONG @ DAVID LEE</td>\n",
       "      <td>6.202538e-07</td>\n",
       "      <td>(0.000) Donor scaled eigenvector centrality is...</td>\n",
       "    </tr>\n",
       "    <tr>\n",
       "      <th>9418</th>\n",
       "      <td>LING KIN HUAT</td>\n",
       "      <td>1.494647e-07</td>\n",
       "      <td>(0.000) Donor scaled eigenvector centrality is...</td>\n",
       "    </tr>\n",
       "    <tr>\n",
       "      <th>11324</th>\n",
       "      <td>QUEK KWANG THANG</td>\n",
       "      <td>9.131008e-08</td>\n",
       "      <td>(0.000) Donor scaled eigenvector centrality is...</td>\n",
       "    </tr>\n",
       "    <tr>\n",
       "      <th>15214</th>\n",
       "      <td>ONG HOCK HENG</td>\n",
       "      <td>9.055546e-08</td>\n",
       "      <td>(0.000) Donor scaled eigenvector centrality is...</td>\n",
       "    </tr>\n",
       "  </tbody>\n",
       "</table>\n",
       "<p>682 rows × 3 columns</p>\n",
       "</div>"
      ],
      "text/plain": [
       "                                         name         score  \\\n",
       "3130                  MAITLAND TANYA MEI SIAN  2.636370e+00   \n",
       "8178                             TAN SEE LENG  2.291686e+00   \n",
       "3132      JOSEPH LEONG JERN-YI (LIANG ZHENYI)  2.136367e+00   \n",
       "3133                         SALLY HO TWA MOI  2.136367e+00   \n",
       "3131   CHENG KUANG KUO @JAMES CHENG KUANG KUO  2.136367e+00   \n",
       "...                                       ...           ...   \n",
       "3581                     TAI WEN LIANG DENNES  6.202538e-07   \n",
       "3585                 LEE PENG ONG @ DAVID LEE  6.202538e-07   \n",
       "9418                            LING KIN HUAT  1.494647e-07   \n",
       "11324                        QUEK KWANG THANG  9.131008e-08   \n",
       "15214                           ONG HOCK HENG  9.055546e-08   \n",
       "\n",
       "                                                  reason  \n",
       "3130   (1.000) Donor resides in the same community\\n(...  \n",
       "8178   (0.667) Donor from similar charity: THE HUT LI...  \n",
       "3132   (1.000) Donor resides in the same community\\n(...  \n",
       "3133   (1.000) Donor resides in the same community\\n(...  \n",
       "3131   (1.000) Donor resides in the same community\\n(...  \n",
       "...                                                  ...  \n",
       "3581   (0.000) Donor scaled eigenvector centrality is...  \n",
       "3585   (0.000) Donor scaled eigenvector centrality is...  \n",
       "9418   (0.000) Donor scaled eigenvector centrality is...  \n",
       "11324  (0.000) Donor scaled eigenvector centrality is...  \n",
       "15214  (0.000) Donor scaled eigenvector centrality is...  \n",
       "\n",
       "[682 rows x 3 columns]"
      ]
     },
     "execution_count": 77,
     "metadata": {},
     "output_type": "execute_result"
    }
   ],
   "source": [
    "df_recommendations.sort_values(by='score', ascending=False)"
   ]
  },
  {
   "cell_type": "markdown",
   "metadata": {},
   "source": [
    "---"
   ]
  },
  {
   "cell_type": "markdown",
   "metadata": {},
   "source": [
    "## Part 5: Conclusion"
   ]
  },
  {
   "cell_type": "markdown",
   "metadata": {},
   "source": [
    "This project has explored the use of a social network recommender to generate new donor leads if given a limited dataset of donors and charities through unsupervised methods.\n",
    "\n",
    "It uses concepts of:\n",
    "* Community detection\n",
    "* Shortest path\n",
    "* Centrality\n",
    "* Similarity\n",
    "\n",
    "to provide recommendation of donors through the network and features of charities available. While multiple of each concepts have been explored, there is plenty of possible future work by exploring further depth and range of available concepts to fine tuning the recommender. "
   ]
  }
 ],
 "metadata": {
  "kernelspec": {
   "display_name": "base",
   "language": "python",
   "name": "python3"
  },
  "language_info": {
   "codemirror_mode": {
    "name": "ipython",
    "version": 3
   },
   "file_extension": ".py",
   "mimetype": "text/x-python",
   "name": "python",
   "nbconvert_exporter": "python",
   "pygments_lexer": "ipython3",
   "version": "3.11.5"
  }
 },
 "nbformat": 4,
 "nbformat_minor": 2
}
