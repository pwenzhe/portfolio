{
 "cells": [
  {
   "cell_type": "markdown",
   "metadata": {},
   "source": [
    "<img src=\"http://imgur.com/1ZcRyrc.png\" style=\"float: left; margin: 5px; height: 50px\"> \n",
    "\n",
    "#   Project 4: Detecting Hate Speech\n",
    "\n",
    "> SG-DSI-41 Group 01: Lionel Foo, Joel Lim, Poon Wenzhe, Daryl Chia\n",
    "\n",
    "---\n"
   ]
  },
  {
   "cell_type": "markdown",
   "metadata": {},
   "source": [
    "#### <b> Notebook: 02A-M2 Classification Model (Multiclass Classification - RNN with GloVe Word Embeddings) </b>\n",
    "\n",
    "<b>(a) Context: Rationale for Incorporating GloVe Word Embeddings</b>\n",
    "\n",
    "Keras' default word vectorisation approach is non-semantic by nature (i.e., word vectors produced do not reflect how semantically close/far apart words are from each other). [1]\n",
    "\n",
    "GloVe word embeddings will thus be incorporated in our model to enable semantic-based word vectorisation - with the view towards improving the classification model's performance. However, as GloVe's word embeddings are static (i.e., the same word will always have the same representation regardless of the context where it occurs - GloVe treats \"apple\" in \"apple computers\" and \"apple juice\" similarly) - word vectorisation with GloVe does not allow for context-driven semantic word vectorisation. [2] \n",
    "\n",
    "<font size=\"1.5\">\n",
    "\n",
    "References: \n",
    "\n",
    "[1] Towards Data Science. Text Classification using Word Embeddings and Deep Learning in Python - Classifying Tweets from .... \n",
    "<br>https://towardsdatascience.com/text-classification-using-word-embeddings-and-deep-learning-in-python-classifying-tweets-from-6fe644fcfc81\n",
    "\n",
    "[2] David Batista. Language Models and Contextualised Word Embeddings.\n",
    "<br>https://www.davidsbatista.net/blog/2018/12/06/Word_Embeddings/\n",
    "\n",
    "</font>\n",
    "\n",
    "<br>\n",
    "<b>(b) Incorporating GloVe Word Embeddings - Text-Preprocessing: Retention of Stop Words and No Lemmatisation</b>\n",
    "\n",
    "A review of words within the GloVe repository reveals the presence of: \n",
    "* Stop words (e.g., \"to\", \"but\", \"not\")\n",
    "* Words with similar lemmas that have different word vectors (e.g., \"computer\", \"computerized\", \"supercomputers\")\n",
    "\n",
    "As such, stop words will be retained, and lemmatisation will not be performed. \n",
    "\n",
    "<br>\n",
    "<b>(c) Notebook Outline</b>\n",
    "\n",
    "1. Import Libraries, Data & Specify Random Seeds\n",
    "2. Prepare Data for Modelling\n",
    "3. Construct GloVe Word Embedding Matrix\n",
    "4. Train Classification Model\n",
    "5. Evaluate Classification Model\n",
    "6. Comparison of Model Performance - Multinomial Classifier: w/out and w GloVe-based Word Vectoriser\n",
    "7. Key Insights & Steps Going Forward\n"
   ]
  },
  {
   "cell_type": "markdown",
   "metadata": {},
   "source": [
    "---\n",
    "\n",
    "<b> 1. Import Libraries, Data & Specify Random Seeds </b>"
   ]
  },
  {
   "cell_type": "code",
   "execution_count": 7,
   "metadata": {},
   "outputs": [],
   "source": [
    "# Imports: standard\n",
    "import pandas as pd\n",
    "import numpy as np\n",
    "import re\n",
    "\n",
    "import seaborn as sns\n",
    "import matplotlib.pyplot as plt\n",
    "\n",
    "from sklearn.model_selection import train_test_split\n",
    "from sklearn.metrics import classification_report\n",
    "\n",
    "import joblib\n",
    "\n",
    "# Imports: tensorflow for model building\n",
    "import tensorflow as tf\n",
    "from tensorflow import keras\n",
    "from keras import layers\n",
    "from tensorflow.keras.preprocessing.text import Tokenizer\n",
    "from tensorflow.keras.preprocessing.sequence import pad_sequences\n",
    "from tensorflow.keras.optimizers import Adam\n",
    "from keras.callbacks import EarlyStopping, ReduceLROnPlateau\n",
    "\n",
    "# from keras.models import Sequential\n",
    "# from keras.layers import Embedding\n",
    "\n",
    "# this setting widens how many characters pandas will display in a column:\n",
    "pd.options.display.max_colwidth = 4000"
   ]
  },
  {
   "cell_type": "code",
   "execution_count": 8,
   "metadata": {},
   "outputs": [
    {
     "data": {
      "text/html": [
       "<div>\n",
       "<style scoped>\n",
       "    .dataframe tbody tr th:only-of-type {\n",
       "        vertical-align: middle;\n",
       "    }\n",
       "\n",
       "    .dataframe tbody tr th {\n",
       "        vertical-align: top;\n",
       "    }\n",
       "\n",
       "    .dataframe thead th {\n",
       "        text-align: right;\n",
       "    }\n",
       "</style>\n",
       "<table border=\"1\" class=\"dataframe\">\n",
       "  <thead>\n",
       "    <tr style=\"text-align: right;\">\n",
       "      <th></th>\n",
       "      <th>class</th>\n",
       "      <th>tweet</th>\n",
       "    </tr>\n",
       "  </thead>\n",
       "  <tbody>\n",
       "    <tr>\n",
       "      <th>0</th>\n",
       "      <td>2</td>\n",
       "      <td>as a woman you should not complain about cleaning up your house as a man you should always take the trash out</td>\n",
       "    </tr>\n",
       "    <tr>\n",
       "      <th>1</th>\n",
       "      <td>1</td>\n",
       "      <td>boy dats cold tyga dwn bad for cuffin dat hoe in the st place</td>\n",
       "    </tr>\n",
       "    <tr>\n",
       "      <th>2</th>\n",
       "      <td>1</td>\n",
       "      <td>dawg you ever fuck a bitch and she start to cry you be confused as shit</td>\n",
       "    </tr>\n",
       "  </tbody>\n",
       "</table>\n",
       "</div>"
      ],
      "text/plain": [
       "   class  \\\n",
       "0      2   \n",
       "1      1   \n",
       "2      1   \n",
       "\n",
       "                                                                                                           tweet  \n",
       "0  as a woman you should not complain about cleaning up your house as a man you should always take the trash out  \n",
       "1                                                  boy dats cold tyga dwn bad for cuffin dat hoe in the st place  \n",
       "2                                        dawg you ever fuck a bitch and she start to cry you be confused as shit  "
      ]
     },
     "execution_count": 8,
     "metadata": {},
     "output_type": "execute_result"
    }
   ],
   "source": [
    "# Import data\n",
    "df = pd.read_csv(\"data/hate-speech-and-offensive-language-dataset_cleaned.csv\")\n",
    "df.head(3)"
   ]
  },
  {
   "cell_type": "code",
   "execution_count": 9,
   "metadata": {},
   "outputs": [],
   "source": [
    "# Specify Random Seeds\n",
    "np.random.seed(42)\n",
    "tf.random.set_seed(42)"
   ]
  },
  {
   "cell_type": "markdown",
   "metadata": {},
   "source": [
    "\n",
    "---\n",
    "\n",
    "<b> 2. Prepare Data for Modelling </b>\n",
    "\n",
    "Outline\n",
    "* (a) Evaluate Class Imbalance\n",
    "* (b) Perform Train-Test-Split\n",
    "* (c) Address Class Imbalance\n",
    "* (d) Tokenise & Pad Text Sequences"
   ]
  },
  {
   "cell_type": "markdown",
   "metadata": {},
   "source": [
    "<b> (a) Evaluate Class Imbalance </b>"
   ]
  },
  {
   "cell_type": "code",
   "execution_count": 10,
   "metadata": {},
   "outputs": [],
   "source": [
    "# 1. Create X (teatures) and y (target)\n",
    "X = df['tweet']\n",
    "y = df['class']"
   ]
  },
  {
   "cell_type": "code",
   "execution_count": 11,
   "metadata": {},
   "outputs": [
    {
     "name": "stdout",
     "output_type": "stream",
     "text": [
      "== Examine Class Imbalance == \n",
      "\n",
      "= Counts = \n",
      "\n",
      "class\n",
      "1    19187\n",
      "2     4158\n",
      "0     1428\n",
      "Name: count, dtype: int64 \n",
      "\n",
      "= Proportions = \n",
      "\n",
      "class\n",
      "1    0.774513\n",
      "2    0.167844\n",
      "0    0.057643\n",
      "Name: proportion, dtype: float64\n"
     ]
    }
   ],
   "source": [
    "# 2. Evaluate class imbalance\n",
    "print(\"== Examine Class Imbalance ==\", \"\\n\")\n",
    "\n",
    "print(\"= Counts =\", \"\\n\")\n",
    "print(y.value_counts(), \"\\n\")\n",
    "\n",
    "print(\"= Proportions =\", \"\\n\")\n",
    "print(y.value_counts(normalize = True))"
   ]
  },
  {
   "cell_type": "markdown",
   "metadata": {},
   "source": [
    "Comments: Class Imbalance\n",
    "* Class [0]: Hate Speech ; Class [1]: Offensive Language, Class [2]: Neither\n",
    "* There are a disproportionately low number of \"hate speech\" (5.8%) and \"neither\" (16.8%) tweets\n",
    "\n",
    "Comments: Approach to Addressing Class Imbalance\n",
    "* Undersampling (oversampling) of the most (least) numerous class to attain a tweet count equivalent to the \"neither\" class (as it has a tweet count between both classes), where we'll:\n",
    "    * undersample: the most numerous class (\"offensive language\") \n",
    "    * oversample: the least numerous class (\"hate speech)\n",
    "\n",
    "* To prevent \"training\" data from leaking into the \"testing\" data - the class rebalancing procedure will be applied:\n",
    "    * after the \"train-test-split\" step, and\n",
    "    * applied to the \"training\" sample only"
   ]
  },
  {
   "cell_type": "markdown",
   "metadata": {},
   "source": [
    "<b> (b) Perform Train-Test-Split </b>"
   ]
  },
  {
   "cell_type": "code",
   "execution_count": 12,
   "metadata": {},
   "outputs": [],
   "source": [
    "# Split the data into training and testing sets with stratification\n",
    "X_train, X_test, y_train, y_test = train_test_split(X, y, test_size=0.2, random_state=42, stratify=y)"
   ]
  },
  {
   "cell_type": "markdown",
   "metadata": {},
   "source": [
    "<br>\n",
    "<b> (c) Address Class Imbalance </b>\n",
    "\n",
    "Recall Approach: Rebalance Classes within the \"Training\" Sample Only\n",
    "\n",
    "* Undersampling (oversampling) of the most (least) numerous class to attain a tweet count equivalent to the \"neither\" class (as it has a tweet count between both classes), where we'll:\n",
    "    * undersample: the most numerous class (\"offensive language\") \n",
    "    * oversample: the least numerous class (\"hate speech)"
   ]
  },
  {
   "cell_type": "code",
   "execution_count": 13,
   "metadata": {},
   "outputs": [
    {
     "name": "stdout",
     "output_type": "stream",
     "text": [
      "== Examine Class Balance : Proportions == \n",
      "\n",
      "class\n",
      "0    0.339337\n",
      "1    0.331519\n",
      "2    0.329144\n",
      "Name: proportion, dtype: float64\n"
     ]
    }
   ],
   "source": [
    "# Perform Class Rebalancing on \"Training\" Data\n",
    "\n",
    "# 1. Temporarily Concatenate X_train and y_train (Column-to-Column)\n",
    "df_train = pd.concat(objs=[X_train,y_train], axis=1)\n",
    "\n",
    "# 2. Perform Rebalancing\n",
    "class_2 = df_train[df_train[\"class\"] == 2]\n",
    "class_1 = df_train[df_train[\"class\"] == 1].sample(n=3350, random_state=42)\n",
    "class_0 = df_train[df_train[\"class\"] == 0]\n",
    "\n",
    "df_train_balanced = pd.concat([class_0, class_0, class_0, class_1, class_2], axis=0)\n",
    "\n",
    "# 3. Check For Class Balance\n",
    "print(\"== Examine Class Balance : Proportions ==\", \"\\n\")\n",
    "print(df_train_balanced[\"class\"].value_counts(normalize=True))"
   ]
  },
  {
   "cell_type": "code",
   "execution_count": 14,
   "metadata": {},
   "outputs": [
    {
     "name": "stdout",
     "output_type": "stream",
     "text": [
      "X_train_bal data type: object\n"
     ]
    }
   ],
   "source": [
    "# Perform Class Rebalancing on \"Training\" Data (Cont'd)\n",
    "\n",
    "# 4. Add balanced: X_train_bal, y_train_bal\n",
    "X_train_bal = df_train_balanced[\"tweet\"]\n",
    "y_train_bal = df_train_balanced[\"class\"]\n",
    "\n",
    "# 5. Check that X_train_bal \"tweets\" are treated as strings\n",
    "print(\"X_train_bal data type:\", X_train_bal.dtype)"
   ]
  },
  {
   "cell_type": "code",
   "execution_count": 15,
   "metadata": {},
   "outputs": [
    {
     "name": "stdout",
     "output_type": "stream",
     "text": [
      "Shape y_train_bal: (10105, 3)\n",
      "Shape y_test: (4955, 3)\n"
     ]
    }
   ],
   "source": [
    "# Dummify \"training\" and \"testing\" data's target\n",
    "# > as we have multiple class categories\n",
    "\n",
    "y_train_bal_i = y_train_bal.copy()\n",
    "y_test_i = y_test.copy()\n",
    "\n",
    "y_train_bal = pd.get_dummies(y_train_bal)\n",
    "y_test      = pd.get_dummies(y_test)\n",
    "\n",
    "print(\"Shape y_train_bal:\", y_train_bal.shape)\n",
    "print(\"Shape y_test:\", y_test.shape)"
   ]
  },
  {
   "cell_type": "markdown",
   "metadata": {},
   "source": [
    "<br>\n",
    "<b> (d) Tokenise & Pad Text Sequences </b>"
   ]
  },
  {
   "cell_type": "code",
   "execution_count": 16,
   "metadata": {},
   "outputs": [],
   "source": [
    "# Perform Tokenisation\n",
    "\n",
    "# 1. Initialise tokeniser and fit tokeniser on training data \n",
    "tokenizer = Tokenizer()\n",
    "tokenizer.fit_on_texts(X_train_bal)\n",
    "\n",
    "# 2. Use that tokenizer to transform (convert) the text message strings in training and test data into a list of integers where each integer represents the index of that word\n",
    "X_train_bal_seq = tokenizer.texts_to_sequences(X_train_bal)\n",
    "X_test_seq = tokenizer.texts_to_sequences(X_test)"
   ]
  },
  {
   "cell_type": "code",
   "execution_count": 11,
   "metadata": {},
   "outputs": [
    {
     "name": "stdout",
     "output_type": "stream",
     "text": [
      "Max sequence length: 37\n",
      "Preview padded text sequence:\n",
      "[   0    0    0    0    0    0    0    0    0    0    0    0    0    0\n",
      "    0    0    0    0    0    0    0    0    0    0    0 1589  160   25\n",
      "  244   60  447  412    1  465   19   11   45]\n"
     ]
    }
   ],
   "source": [
    "# Pad Text Sequences\n",
    "\n",
    "# 1. Obtain maximum length of text sequences in X_train and X_test\n",
    "max_len_train = max(len(seq) for seq in tokenizer.texts_to_sequences(X_train_bal))\n",
    "max_len_test  = max(len(seq) for seq in tokenizer.texts_to_sequences(X_test))\n",
    "max_len = max(max_len_train, max_len_test)\n",
    "\n",
    "print(\"Max sequence length:\", max_len)\n",
    "\n",
    "# 2. Pad Text Sequences\n",
    "X_train_bal_seq_padded = pad_sequences(X_train_bal_seq, max_len)\n",
    "X_test_seq_padded = pad_sequences(X_test_seq, max_len)\n",
    "\n",
    "# 3. Preview padded text sequence\n",
    "print(\"Preview padded text sequence:\")\n",
    "print(X_test_seq_padded[0])"
   ]
  },
  {
   "cell_type": "markdown",
   "metadata": {},
   "source": [
    "<br>\n",
    "\n",
    "---\n",
    "\n",
    "<b> 3. Construct GloVe Word Embedding Matrix </b>\n",
    "\n",
    "As keras' default process to vectorise text sequencess is not semantics-based, a semantics-based approach utilising GloVe word embeddings will be adopted. \n",
    "\n",
    "\n",
    "(a) This step produces a GloVe Word Embedding Matrix required for semantics-based vectorisation, with guidance having been obtained from:\n",
    "* Towards Data Science. Text Classification using Word Embeddings and Deep Learning in Python - Classifying Tweets from ... .\n",
    "* <font size=\"1.5\"> weblink: https://towardsdatascience.com/text-classification-using-word-embeddings-and-deep-learning-in-python-classifying-tweets-from-6fe644fcfc81 </font>\n",
    "<br>\n",
    "\n",
    "(b) Details: GloVe Pre-Trained Word Embeddings Utilised\n",
    "* As our data comprise twitter tweets, a GloVe Word Embedding that was pre-trained on 2 billion tweets will be utilised\n",
    "* While word embedding vectors of dimensions 50d, 100d, & 200d are available, embeddings with <u>200d</u> will be used to capture finer differences between words' semantic meaning\n",
    "* <font size=\"1.5\"> weblink: https://nlp.stanford.edu/projects/glove/ </font>\n",
    "* <font size=\"1.5\"> download link: https://nlp.stanford.edu/data/glove.twitter.27B.zip </font>\n",
    "<br>\n",
    "\n",
    "(c) Broad Outline of Steps Required to Construct the GloVe Word Embedding Matrix\n",
    "1. Recall tokenised \"training\" data\n",
    "2. Create a parsimonious GloVe Word Embedding Matrix containing vectorised forms of the \"training\" data's tokens only \n",
    "    * i.e., other words within GloVe's word embeddings repository are excluded as they are not relevant to our analysis; and their exclusion allows us to conserve as much memory as possible\n",
    "    * code for creating the parsimonious GloVe Word Embedding Matrix: drawn from the \"Towards Data Science\" article referenced above"
   ]
  },
  {
   "cell_type": "code",
   "execution_count": 12,
   "metadata": {},
   "outputs": [],
   "source": [
    "# 1. Recall tokenised \"training\" data\n",
    "tokenizer = Tokenizer()\n",
    "tokenizer.fit_on_texts(X_train_bal)"
   ]
  },
  {
   "cell_type": "code",
   "execution_count": 13,
   "metadata": {},
   "outputs": [],
   "source": [
    "# 2. Define a class to create a parsimonious GloVe Word Embedding Matrix\n",
    "# code source: https://towardsdatascience.com/text-classification-using-word-embeddings-and-deep-learning-in-python-classifying-tweets-from-6fe644fcfc81\n",
    "\n",
    "class Embeddings():\n",
    "\n",
    "    # A class to read a given word embedding file and to create a parsimonious word embedding matrix\n",
    "\n",
    "    def __init__(self, path, vector_dimension):\n",
    "        self.path = path \n",
    "        self.vector_dimension = vector_dimension\n",
    "    \n",
    "    @staticmethod\n",
    "    def get_coefs(word, *arr): \n",
    "        return word, np.asarray(arr, dtype='float32')\n",
    "\n",
    "    def get_embedding_index(self):\n",
    "        embeddings_index = dict(self.get_coefs(*o.split(\" \")) for o in open(self.path, errors='ignore'))\n",
    "        return embeddings_index\n",
    "\n",
    "    def create_embedding_matrix(self, tokenizer, max_features):\n",
    "    \n",
    "        # A method to create the embedding matrix\n",
    "        \n",
    "        model_embed = self.get_embedding_index()\n",
    "\n",
    "        embedding_matrix = np.zeros((max_features + 1, self.vector_dimension))\n",
    "        for word, index in tokenizer.word_index.items():\n",
    "            if index > max_features:\n",
    "                break\n",
    "            else:\n",
    "                try:\n",
    "                    embedding_matrix[index] = model_embed[word]\n",
    "                except:\n",
    "                    continue\n",
    "\n",
    "        return embedding_matrix"
   ]
  },
  {
   "cell_type": "code",
   "execution_count": 14,
   "metadata": {},
   "outputs": [],
   "source": [
    "# 3. Create parsimonious GloVe Word Embedding Matrix\n",
    "\n",
    "embed_path = \"data/glove.twitter.27B.200d.txt\"\n",
    "embed_dim = 200  # corresponding to the number of dimensions per word in the GloVe repository above \n",
    "\n",
    "embedding = Embeddings(embed_path, embed_dim)\n",
    "embedding_matrix = embedding.create_embedding_matrix(tokenizer, len(tokenizer.word_counts))"
   ]
  },
  {
   "cell_type": "markdown",
   "metadata": {},
   "source": [
    "\n",
    "---\n",
    "\n",
    "<b> 4. Train Classification Model </b>\n",
    "\n",
    "1. Define Model\n",
    "2. Define callbacks\n",
    "3. Fit the RNN model"
   ]
  },
  {
   "cell_type": "code",
   "execution_count": 15,
   "metadata": {},
   "outputs": [
    {
     "name": "stdout",
     "output_type": "stream",
     "text": [
      "WARNING:tensorflow:From c:\\Users\\joell\\AppData\\Local\\Programs\\Python\\Python310\\lib\\site-packages\\keras\\src\\backend.py:873: The name tf.get_default_graph is deprecated. Please use tf.compat.v1.get_default_graph instead.\n",
      "\n"
     ]
    },
    {
     "name": "stdout",
     "output_type": "stream",
     "text": [
      "Model: \"sequential\"\n",
      "_________________________________________________________________\n",
      " Layer (type)                Output Shape              Param #   \n",
      "=================================================================\n",
      " embedding (Embedding)       (None, None, 200)         2265800   \n",
      "                                                                 \n",
      " bidirectional (Bidirection  (None, 64)                59648     \n",
      " al)                                                             \n",
      "                                                                 \n",
      " dense (Dense)               (None, 512)               33280     \n",
      "                                                                 \n",
      " batch_normalization (Batch  (None, 512)               2048      \n",
      " Normalization)                                                  \n",
      "                                                                 \n",
      " dropout (Dropout)           (None, 512)               0         \n",
      "                                                                 \n",
      " dense_1 (Dense)             (None, 3)                 1539      \n",
      "                                                                 \n",
      "=================================================================\n",
      "Total params: 2362315 (9.01 MB)\n",
      "Trainable params: 2361291 (9.01 MB)\n",
      "Non-trainable params: 1024 (4.00 KB)\n",
      "_________________________________________________________________\n"
     ]
    }
   ],
   "source": [
    "# 1. Define a RNN-LSTM model architecture using Keras\n",
    "model = keras.models.Sequential([\n",
    "    \n",
    "    layers.Embedding(len(tokenizer.index_word)+1, embed_dim, weights=[embedding_matrix]),  # weights from: parsimonious GloVe Word Embedding Matrix\n",
    "\n",
    "    layers.Bidirectional(layers.LSTM(32)),\n",
    "    layers.Dense(512, activation='relu', kernel_regularizer='l2'),\n",
    "    layers.BatchNormalization(),\n",
    "    layers.Dropout(0.3),\n",
    "    layers.Dense(3, activation='softmax')\n",
    "])\n",
    "# Configure the model with Adam optimizer, categorical crossentropy loss, and accuracy as the evaluation metric\n",
    "opt = Adam(learning_rate=0.001)\n",
    "model.compile(loss='categorical_crossentropy',\n",
    "              optimizer=opt,\n",
    "              metrics=['accuracy'])\n",
    "\n",
    "model.summary()"
   ]
  },
  {
   "cell_type": "code",
   "execution_count": 16,
   "metadata": {},
   "outputs": [],
   "source": [
    "# 2. Define callbacks\n",
    "\n",
    "# EarlyStopping callback to stop training if 'val_accuracy' doesn't improve for 10 consecutive epochs,\n",
    "# Restoring the weights of the epoch with the best validation accuracy.\n",
    "es = EarlyStopping(patience=10,\n",
    "                   monitor = 'val_accuracy',\n",
    "                   restore_best_weights = True)\n",
    " \n",
    "# Reduce learning rate by a factor of 0.5 if 'val_loss' doesn't improve for 5 consecutive epochs.   \n",
    "lr = ReduceLROnPlateau(patience = 5,\n",
    "                       monitor = 'val_loss',\n",
    "                       factor = 0.5,\n",
    "                       verbose = 0)"
   ]
  },
  {
   "cell_type": "code",
   "execution_count": 17,
   "metadata": {},
   "outputs": [
    {
     "name": "stdout",
     "output_type": "stream",
     "text": [
      "Epoch 1/50\n"
     ]
    },
    {
     "name": "stdout",
     "output_type": "stream",
     "text": [
      "WARNING:tensorflow:From c:\\Users\\joell\\AppData\\Local\\Programs\\Python\\Python310\\lib\\site-packages\\keras\\src\\utils\\tf_utils.py:492: The name tf.ragged.RaggedTensorValue is deprecated. Please use tf.compat.v1.ragged.RaggedTensorValue instead.\n",
      "\n",
      "WARNING:tensorflow:From c:\\Users\\joell\\AppData\\Local\\Programs\\Python\\Python310\\lib\\site-packages\\keras\\src\\engine\\base_layer_utils.py:384: The name tf.executing_eagerly_outside_functions is deprecated. Please use tf.compat.v1.executing_eagerly_outside_functions instead.\n",
      "\n",
      "316/316 [==============================] - 21s 54ms/step - loss: 1.0840 - accuracy: 0.7377 - val_loss: 0.8927 - val_accuracy: 0.8194 - lr: 0.0010\n",
      "Epoch 2/50\n",
      "316/316 [==============================] - 17s 53ms/step - loss: 0.4691 - accuracy: 0.8809 - val_loss: 0.4711 - val_accuracy: 0.8708 - lr: 0.0010\n",
      "Epoch 3/50\n",
      "316/316 [==============================] - 20s 63ms/step - loss: 0.2460 - accuracy: 0.9403 - val_loss: 0.5562 - val_accuracy: 0.8279 - lr: 0.0010\n",
      "Epoch 4/50\n",
      "316/316 [==============================] - 23s 72ms/step - loss: 0.1421 - accuracy: 0.9665 - val_loss: 0.4773 - val_accuracy: 0.8844 - lr: 0.0010\n",
      "Epoch 5/50\n",
      "316/316 [==============================] - 18s 58ms/step - loss: 0.1023 - accuracy: 0.9762 - val_loss: 0.6998 - val_accuracy: 0.8652 - lr: 0.0010\n",
      "Epoch 6/50\n",
      "316/316 [==============================] - 17s 54ms/step - loss: 0.0725 - accuracy: 0.9822 - val_loss: 0.6133 - val_accuracy: 0.8690 - lr: 0.0010\n",
      "Epoch 7/50\n",
      "316/316 [==============================] - 20s 63ms/step - loss: 0.0648 - accuracy: 0.9850 - val_loss: 0.8493 - val_accuracy: 0.8153 - lr: 0.0010\n",
      "Epoch 8/50\n",
      "316/316 [==============================] - 18s 58ms/step - loss: 0.0388 - accuracy: 0.9922 - val_loss: 0.7287 - val_accuracy: 0.8561 - lr: 5.0000e-04\n",
      "Epoch 9/50\n",
      "316/316 [==============================] - 17s 55ms/step - loss: 0.0347 - accuracy: 0.9935 - val_loss: 0.7425 - val_accuracy: 0.8569 - lr: 5.0000e-04\n",
      "Epoch 10/50\n",
      "316/316 [==============================] - 18s 57ms/step - loss: 0.0318 - accuracy: 0.9932 - val_loss: 0.7833 - val_accuracy: 0.8511 - lr: 5.0000e-04\n",
      "Epoch 11/50\n",
      "316/316 [==============================] - 18s 56ms/step - loss: 0.0291 - accuracy: 0.9934 - val_loss: 0.8040 - val_accuracy: 0.8541 - lr: 5.0000e-04\n",
      "Epoch 12/50\n",
      "316/316 [==============================] - 18s 57ms/step - loss: 0.0275 - accuracy: 0.9943 - val_loss: 0.8415 - val_accuracy: 0.8452 - lr: 5.0000e-04\n",
      "Epoch 13/50\n",
      "316/316 [==============================] - 17s 55ms/step - loss: 0.0208 - accuracy: 0.9956 - val_loss: 0.8002 - val_accuracy: 0.8555 - lr: 2.5000e-04\n",
      "Epoch 14/50\n",
      "316/316 [==============================] - 18s 57ms/step - loss: 0.0190 - accuracy: 0.9965 - val_loss: 0.7788 - val_accuracy: 0.8589 - lr: 2.5000e-04\n"
     ]
    }
   ],
   "source": [
    "# 3. Fit the RNN model\n",
    "history = model.fit(X_train_bal_seq_padded, y_train_bal,\n",
    "                    validation_data=(X_test_seq_padded, y_test),\n",
    "                    epochs=50,\n",
    "                    verbose=1,\n",
    "                    batch_size=32,\n",
    "                    callbacks=[lr, es])"
   ]
  },
  {
   "cell_type": "markdown",
   "metadata": {},
   "source": [
    "\n",
    "---\n",
    "\n",
    "<b> 5. Evaluate Classification Model </b>\n",
    "\n",
    "(a) Evaluate loss and accuracy epoch-by-epoch"
   ]
  },
  {
   "cell_type": "code",
   "execution_count": 18,
   "metadata": {},
   "outputs": [
    {
     "data": {
      "image/png": "[encoded data removed]",
      "text/plain": [
       "<Figure size 640x480 with 1 Axes>"
      ]
     },
     "metadata": {},
     "output_type": "display_data"
    },
    {
     "data": {
      "image/png": "[encoded data removed]",
      "text/plain": [
       "<Figure size 640x480 with 1 Axes>"
      ]
     },
     "metadata": {},
     "output_type": "display_data"
    }
   ],
   "source": [
    "# Graph: loss and accuracy epoch-by-epoch\n",
    "history_df = pd.DataFrame(history.history)\n",
    "history_df.loc[:, ['loss', 'val_loss']].plot()\n",
    "history_df.loc[:, ['accuracy', 'val_accuracy']].plot()\n",
    "plt.show()"
   ]
  },
  {
   "cell_type": "code",
   "execution_count": 19,
   "metadata": {},
   "outputs": [
    {
     "data": {
      "text/html": [
       "<div>\n",
       "<style scoped>\n",
       "    .dataframe tbody tr th:only-of-type {\n",
       "        vertical-align: middle;\n",
       "    }\n",
       "\n",
       "    .dataframe tbody tr th {\n",
       "        vertical-align: top;\n",
       "    }\n",
       "\n",
       "    .dataframe thead th {\n",
       "        text-align: right;\n",
       "    }\n",
       "</style>\n",
       "<table border=\"1\" class=\"dataframe\">\n",
       "  <thead>\n",
       "    <tr style=\"text-align: right;\">\n",
       "      <th></th>\n",
       "      <th>loss</th>\n",
       "      <th>accuracy</th>\n",
       "      <th>val_loss</th>\n",
       "      <th>val_accuracy</th>\n",
       "      <th>lr</th>\n",
       "    </tr>\n",
       "  </thead>\n",
       "  <tbody>\n",
       "    <tr>\n",
       "      <th>0</th>\n",
       "      <td>1.083996</td>\n",
       "      <td>0.737655</td>\n",
       "      <td>0.892735</td>\n",
       "      <td>0.819374</td>\n",
       "      <td>0.00100</td>\n",
       "    </tr>\n",
       "    <tr>\n",
       "      <th>1</th>\n",
       "      <td>0.469093</td>\n",
       "      <td>0.880851</td>\n",
       "      <td>0.471093</td>\n",
       "      <td>0.870838</td>\n",
       "      <td>0.00100</td>\n",
       "    </tr>\n",
       "    <tr>\n",
       "      <th>2</th>\n",
       "      <td>0.246037</td>\n",
       "      <td>0.940327</td>\n",
       "      <td>0.556245</td>\n",
       "      <td>0.827851</td>\n",
       "      <td>0.00100</td>\n",
       "    </tr>\n",
       "    <tr>\n",
       "      <th>3</th>\n",
       "      <td>0.142096</td>\n",
       "      <td>0.966452</td>\n",
       "      <td>0.477345</td>\n",
       "      <td>0.884359</td>\n",
       "      <td>0.00100</td>\n",
       "    </tr>\n",
       "    <tr>\n",
       "      <th>4</th>\n",
       "      <td>0.102319</td>\n",
       "      <td>0.976249</td>\n",
       "      <td>0.699833</td>\n",
       "      <td>0.865187</td>\n",
       "      <td>0.00100</td>\n",
       "    </tr>\n",
       "    <tr>\n",
       "      <th>5</th>\n",
       "      <td>0.072483</td>\n",
       "      <td>0.982187</td>\n",
       "      <td>0.613322</td>\n",
       "      <td>0.869021</td>\n",
       "      <td>0.00100</td>\n",
       "    </tr>\n",
       "    <tr>\n",
       "      <th>6</th>\n",
       "      <td>0.064799</td>\n",
       "      <td>0.984958</td>\n",
       "      <td>0.849319</td>\n",
       "      <td>0.815338</td>\n",
       "      <td>0.00100</td>\n",
       "    </tr>\n",
       "    <tr>\n",
       "      <th>7</th>\n",
       "      <td>0.038762</td>\n",
       "      <td>0.992182</td>\n",
       "      <td>0.728736</td>\n",
       "      <td>0.856105</td>\n",
       "      <td>0.00050</td>\n",
       "    </tr>\n",
       "    <tr>\n",
       "      <th>8</th>\n",
       "      <td>0.034718</td>\n",
       "      <td>0.993469</td>\n",
       "      <td>0.742525</td>\n",
       "      <td>0.856912</td>\n",
       "      <td>0.00050</td>\n",
       "    </tr>\n",
       "    <tr>\n",
       "      <th>9</th>\n",
       "      <td>0.031825</td>\n",
       "      <td>0.993172</td>\n",
       "      <td>0.783282</td>\n",
       "      <td>0.851060</td>\n",
       "      <td>0.00050</td>\n",
       "    </tr>\n",
       "    <tr>\n",
       "      <th>10</th>\n",
       "      <td>0.029130</td>\n",
       "      <td>0.993370</td>\n",
       "      <td>0.803995</td>\n",
       "      <td>0.854087</td>\n",
       "      <td>0.00050</td>\n",
       "    </tr>\n",
       "    <tr>\n",
       "      <th>11</th>\n",
       "      <td>0.027527</td>\n",
       "      <td>0.994260</td>\n",
       "      <td>0.841519</td>\n",
       "      <td>0.845207</td>\n",
       "      <td>0.00050</td>\n",
       "    </tr>\n",
       "    <tr>\n",
       "      <th>12</th>\n",
       "      <td>0.020833</td>\n",
       "      <td>0.995646</td>\n",
       "      <td>0.800174</td>\n",
       "      <td>0.855500</td>\n",
       "      <td>0.00025</td>\n",
       "    </tr>\n",
       "    <tr>\n",
       "      <th>13</th>\n",
       "      <td>0.018956</td>\n",
       "      <td>0.996536</td>\n",
       "      <td>0.778804</td>\n",
       "      <td>0.858930</td>\n",
       "      <td>0.00025</td>\n",
       "    </tr>\n",
       "  </tbody>\n",
       "</table>\n",
       "</div>"
      ],
      "text/plain": [
       "        loss  accuracy  val_loss  val_accuracy       lr\n",
       "0   1.083996  0.737655  0.892735      0.819374  0.00100\n",
       "1   0.469093  0.880851  0.471093      0.870838  0.00100\n",
       "2   0.246037  0.940327  0.556245      0.827851  0.00100\n",
       "3   0.142096  0.966452  0.477345      0.884359  0.00100\n",
       "4   0.102319  0.976249  0.699833      0.865187  0.00100\n",
       "5   0.072483  0.982187  0.613322      0.869021  0.00100\n",
       "6   0.064799  0.984958  0.849319      0.815338  0.00100\n",
       "7   0.038762  0.992182  0.728736      0.856105  0.00050\n",
       "8   0.034718  0.993469  0.742525      0.856912  0.00050\n",
       "9   0.031825  0.993172  0.783282      0.851060  0.00050\n",
       "10  0.029130  0.993370  0.803995      0.854087  0.00050\n",
       "11  0.027527  0.994260  0.841519      0.845207  0.00050\n",
       "12  0.020833  0.995646  0.800174      0.855500  0.00025\n",
       "13  0.018956  0.996536  0.778804      0.858930  0.00025"
      ]
     },
     "execution_count": 19,
     "metadata": {},
     "output_type": "execute_result"
    }
   ],
   "source": [
    "# Table: loss and accuracy epoch-by-epoch\n",
    "history_df"
   ]
  },
  {
   "cell_type": "code",
   "execution_count": null,
   "metadata": {},
   "outputs": [],
   "source": [
    "# Identify best epoch\n",
    "best_epoch = np.argmax(history.history['val_accuracy']) + 1\n",
    "print(\"Best epoch: \", best_epoch)"
   ]
  },
  {
   "cell_type": "markdown",
   "metadata": {},
   "source": [
    "(b) Obtain model evaluation metrics"
   ]
  },
  {
   "cell_type": "code",
   "execution_count": 21,
   "metadata": {},
   "outputs": [],
   "source": [
    "# Define function: generate predicted classes as a numpy array\n",
    "\n",
    "def pred_class(pred_prob_varname):\n",
    "\n",
    "    pred_class_all = np.array([])\n",
    "    for pred_prob_array in pred_prob_varname:\n",
    "        pred_class = np.argmax(pred_prob_array)\n",
    "        pred_class_all = np.append(pred_class_all, pred_class)\n",
    "    \n",
    "    return pred_class_all"
   ]
  },
  {
   "cell_type": "code",
   "execution_count": 22,
   "metadata": {},
   "outputs": [
    {
     "name": "stdout",
     "output_type": "stream",
     "text": [
      "316/316 [==============================] - 2s 6ms/step\n",
      "155/155 [==============================] - 1s 6ms/step\n"
     ]
    }
   ],
   "source": [
    "# Obtain predicted probabilities and classes\n",
    "y_train_pred_prob  = model.predict(X_train_bal_seq_padded)\n",
    "y_train_pred_class = pred_class(y_train_pred_prob)\n",
    "\n",
    "y_test_pred_prob  = model.predict(X_test_seq_padded)\n",
    "y_test_pred_class = pred_class(y_test_pred_prob)"
   ]
  },
  {
   "cell_type": "code",
   "execution_count": 23,
   "metadata": {},
   "outputs": [
    {
     "name": "stdout",
     "output_type": "stream",
     "text": [
      "== Classification Report: Training Data == \n",
      "\n",
      "              precision    recall  f1-score   support\n",
      "\n",
      "     class 0       0.99      0.95      0.97      3429\n",
      "     class 1       0.94      0.99      0.96      3350\n",
      "     class 2       0.99      0.99      0.99      3326\n",
      "\n",
      "    accuracy                           0.97     10105\n",
      "   macro avg       0.97      0.97      0.97     10105\n",
      "weighted avg       0.97      0.97      0.97     10105\n",
      "\n"
     ]
    }
   ],
   "source": [
    "# Print model evaluation metrics: \"training\" data\n",
    "print(\"== Classification Report: Training Data ==\", \"\\n\")\n",
    "print(classification_report(y_train_bal_i, y_train_pred_class, target_names = [\"class 0\", \"class 1\", \"class 2\"]))"
   ]
  },
  {
   "cell_type": "code",
   "execution_count": 24,
   "metadata": {},
   "outputs": [
    {
     "name": "stdout",
     "output_type": "stream",
     "text": [
      "== Classification Report: Testing Data == \n",
      "\n",
      "              precision    recall  f1-score   support\n",
      "\n",
      "     class 0       0.37      0.42      0.40       285\n",
      "     class 1       0.94      0.92      0.93      3838\n",
      "     class 2       0.82      0.89      0.86       832\n",
      "\n",
      "    accuracy                           0.88      4955\n",
      "   macro avg       0.71      0.74      0.73      4955\n",
      "weighted avg       0.89      0.88      0.89      4955\n",
      "\n"
     ]
    }
   ],
   "source": [
    "# Print model evaluation metrics: \"testing\" data\n",
    "print(\"== Classification Report: Testing Data ==\", \"\\n\")\n",
    "print(classification_report(y_test_i, y_test_pred_class, target_names = [\"class 0\", \"class 1\", \"class 2\"]))"
   ]
  },
  {
   "cell_type": "markdown",
   "metadata": {},
   "source": [
    "<b>Comments</b>\n",
    "\n",
    "Performance on: \"Training\" Data\n",
    "* The model performs well across all evaluation metrics and across all classes, with (a) precision, (b) recall, (c) f1-score and (d) overall accuracy being > 0.90 \n",
    "\n",
    "Performance on: \"Testing\" Data\n",
    "* The model predicts class 1 (\"offensive language\") and class 2 (\"neither) tweets well, with (a) \"precision\" and (b) \"recall\", (c) \"f1-scores\" being > 0.8\n",
    "* While the model's predictive performance on class 0 (\"hate speech\") fares better than a model without the GloVe-based word vectoriser, \n",
    "    * it still does not predict class 0 (\"hate speech) well, with relatively low \"precision\" and \"recall\" scores\n",
    "\n",
    "<br>\n",
    "\n",
    "---\n",
    "\n",
    "<b>6. Comparison of Model Performance - Multinomial Classifier: w/out and w GloVe-based Word Vectoriser</b>\n",
    "\n",
    "(a) Evaluation Metrics of Interest\n",
    "\n",
    "* Accuracy: % of predictions that are correct \n",
    "\n",
    "* F1-Score: Composite measure that considers both (i) “precision” and (ii) “recall”\n",
    "\n",
    "    * “precision”: % of predicted “positives” that are true\n",
    "        * Relevant as a low precision score on detecting hate speech indicates that we are wrongly censoring non-hate speech that could be of interest to readers\n",
    "\n",
    "    * “recall”: % of actual “positives” that are predicted correctly\n",
    "        * Relevant as we wish to identify as high a proportion of hate speech that exists\n",
    "<br>\n",
    "\n",
    "(b-1) Training Data\n",
    "\n",
    "|w/out GloVe|F1-Score|Accuracy|Support|\n",
    "|---|---|---|---|\n",
    "|Class 0: Hate|0.93|---|3429|\n",
    "|Class 1: Offensive|0.94|---|3350|\n",
    "|Class 2: Neither|0.97|---|3326|\n",
    "|Overall|---|0.95|10105|\n",
    "\n",
    "<br>\n",
    "\n",
    "|w GloVe|F1-Score|Accuracy|Support|\n",
    "|---|---|---|---|\n",
    "|Class 0: Hate|0.97|---|3429|\n",
    "|Class 1: Offensive|0.96|---|3350|\n",
    "|Class 2: Neither|0.99|---|3326|\n",
    "|Overall|---|0.97|10105|\n",
    "\n",
    "\n",
    "(b-2) Testing Data\n",
    "\n",
    "|w/out GloVe|F1-Score|Accuracy|Support|\n",
    "|---|---|---|---|\n",
    "|Class 0: Hate|0.40|---|285|\n",
    "|Class 1: Offensive|0.91|---|3838|\n",
    "|Class 2: Neither|0.82|---|832|\n",
    "|Overall|---|0.86|4955|\n",
    "\n",
    "<br>\n",
    "\n",
    "|w GloVe|F1-Score|Accuracy|Support|\n",
    "|---|---|---|---|\n",
    "|Class 0: Hate|0.40|---|285|\n",
    "|Class 1: Offensive|0.93|---|3838|\n",
    "|Class 2: Neither|0.86|---|832|\n",
    "|Overall|---|0.88|4955|\n",
    "\n",
    "*note: scores may vary from code re-run to re-run*\n",
    "\n",
    "<br>\n",
    "\n",
    "---\n",
    "\n",
    "<b>7. Key Insights & Steps Going Forward</b>\n",
    "\n",
    "* Use of a GloVe-based word vectoriser improves model performance - in line with the fact that it helps account for semantic differences across texts.\n",
    "* It is challenging to separably identify \"hate speech\", considering that it comprises the original/\"test\" dataset's minority class \n",
    "* Going forward:\n",
    "    * Continue to use a GloVe-based word vectoriser\n",
    "    * Collapse \"hate speech\" and \"offensive language\" categories, as a \"hurtful comments\" category"
   ]
  },
  {
   "cell_type": "markdown",
   "metadata": {},
   "source": [
    "\n",
    "---"
   ]
  }
 ],
 "metadata": {
  "kernelspec": {
   "display_name": "Python 3",
   "language": "python",
   "name": "python3"
  },
  "language_info": {
   "codemirror_mode": {
    "name": "ipython",
    "version": 3
   },
   "file_extension": ".py",
   "mimetype": "text/x-python",
   "name": "python",
   "nbconvert_exporter": "python",
   "pygments_lexer": "ipython3",
   "version": "3.10.4"
  }
 },
 "nbformat": 4,
 "nbformat_minor": 2
}
